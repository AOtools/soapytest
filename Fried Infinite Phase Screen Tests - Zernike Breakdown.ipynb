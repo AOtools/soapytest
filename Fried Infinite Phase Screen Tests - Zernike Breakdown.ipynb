{
 "cells": [
  {
   "cell_type": "code",
   "execution_count": 5,
   "metadata": {
    "collapsed": false
   },
   "outputs": [],
   "source": [
    "import numpy\n",
    "%matplotlib nbagg\n",
    "from matplotlib import pyplot\n",
    "from tqdm import tqdm, tnrange\n",
    "\n",
    "import aotools\n",
    "from aotools.turbulence import infinitephasescreen_fried\n",
    "import zernike"
   ]
  },
  {
   "cell_type": "markdown",
   "metadata": {},
   "source": [
    "# Test the Zernike power spectrum of the infinite phase screen"
   ]
  },
  {
   "cell_type": "code",
   "execution_count": null,
   "metadata": {
    "collapsed": false
   },
   "outputs": [
    {
     "name": "stdout",
     "output_type": "stream",
     "text": [
      "Make Zernikes...\n",
      "Init phase screen\n",
      "New size: 129\n",
      "Total Stencil Size: 64.5m\n",
      "Run tests\n",
      "\n"
     ]
    },
    {
     "name": "stderr",
     "output_type": "stream",
     "text": [
      "Exception in thread Thread-15:\n",
      "Traceback (most recent call last):\n",
      "  File \"C:\\ProgramData\\Anaconda3\\lib\\threading.py\", line 916, in _bootstrap_inner\n",
      "    self.run()\n",
      "  File \"C:\\ProgramData\\Anaconda3\\lib\\site-packages\\tqdm\\_tqdm.py\", line 103, in run\n",
      "    for instance in self.tqdm_cls._instances:\n",
      "  File \"C:\\ProgramData\\Anaconda3\\lib\\_weakrefset.py\", line 60, in __iter__\n",
      "    for itemref in self.data:\n",
      "RuntimeError: Set changed size during iteration\n",
      "\n"
     ]
    }
   ],
   "source": [
    "n_zerns = 100\n",
    "nx_size = 128\n",
    "pxl_scale = 8./nx_size\n",
    "r0 = 0.2\n",
    "L0 = 20.\n",
    "stencil_length_factor = 8\n",
    "\n",
    "n_scrns = 5000\n",
    "\n",
    "n_tests = 8\n",
    "wind_speed = 10 #m/s - just arbitrarily set\n",
    "time_step = pxl_scale/wind_speed # This is timestep, as one pixel added on each iteration\n",
    "\n",
    "# Create arrary of zernikes\n",
    "print(\"Make Zernikes...\")\n",
    "# Zs = aotools.zernikeArray(n_zerns, nx_size\")\n",
    "Zs = []\n",
    "for i in range(1, n_zerns+1):\n",
    "    Zs.append(zernike.anyZernike(int(i), nx_size))\n",
    "Zs = numpy.array(Zs)\n",
    "                          \n",
    "print(\"Init phase screen\")\n",
    "phase_screen = infinitephasescreen_fried.PhaseScreen(nx_size, pxl_scale, r0, L0, stencil_length_factor=stencil_length_factor)\n",
    "\n",
    "print(\"Total Stencil Size: {}m\".format(stencil_length_factor*phase_screen.nx_size * pxl_scale))\n",
    "\n",
    "print(\"Run tests\")\n",
    "z_coeffs_inf = numpy.zeros((n_tests, n_scrns, n_zerns))\n",
    "# fig = pyplot.figure()\n",
    "\n",
    "for n in tnrange(n_tests):\n",
    "    for i in tnrange(n_scrns):\n",
    "        \n",
    "        # Go in all directions\n",
    "        phase_screen.addRow()\n",
    "        if n%4 == 0:\n",
    "            scrn = phase_screen.scrn\n",
    "        elif n%4 == 1:\n",
    "            scrn = phase_screen.scrn.T\n",
    "        elif n%4 == 2:\n",
    "            scrn = phase_screen.scrn[::-1]\n",
    "        else:\n",
    "            scrn = phase_screen.scrn[::-1].T\n",
    "            \n",
    "        z_coeffs_inf[n, i] = (scrn * Zs).sum((-1, -2))/(nx_size**2)\n",
    "    \n",
    "#         pyplot.cla()\n",
    "#         pyplot.imshow(scrn)\n",
    "#         fig.canvas.draw()\n",
    "    \n",
    "z_vars_inf = z_coeffs_inf.var(1)\n"
   ]
  },
  {
   "cell_type": "code",
   "execution_count": null,
   "metadata": {
    "collapsed": false
   },
   "outputs": [],
   "source": [
    "pyplot.figure()\n",
    "pyplot.semilogy(z_vars_inf.T, alpha=0.2)\n",
    "pyplot.semilogy(z_vars_inf.mean(0), color=\"k\")\n",
    "pyplot.title(\"Zernike Power Spectrum\")\n",
    "pyplot.xlabel(\"Zernike Index\")\n",
    "pyplot.ylabel(\"Power ($\\mathrm{RMS Rad}^2$)\")"
   ]
  },
  {
   "cell_type": "code",
   "execution_count": null,
   "metadata": {
    "collapsed": false
   },
   "outputs": [],
   "source": [
    "pyplot.figure()\n",
    "plot_zs = [1, 6, 99]\n",
    "for i, z in enumerate(plot_zs):\n",
    "    print(\"plot Z{}\".format(z))\n",
    "    zn_coeffs = z_coeffs_inf.mean(0)[:, z]\n",
    "    z_ps = abs(numpy.fft.fft(zn_coeffs))**2\n",
    "    x_vals = numpy.fft.fftfreq(len(z_ps), d=time_step)\n",
    "    pyplot.loglog(x_vals[:n_scrns//2], z_ps[:n_scrns//2], label=\"Z_{}\".format(z))\n",
    "    pyplot.xlabel(\"Frequency (Hz)\")\n",
    "    pyplot.ylabel(\"Power ($\\mathrm{Rad RMS}^2$)\")\n",
    "    pyplot.grid()\n",
    "pyplot.legend()"
   ]
  },
  {
   "cell_type": "markdown",
   "metadata": {},
   "source": [
    "# Zernike breakdown of standard FFT screen"
   ]
  },
  {
   "cell_type": "code",
   "execution_count": null,
   "metadata": {
    "collapsed": false
   },
   "outputs": [],
   "source": [
    "n_zerns = 49\n",
    "nx_size = 128\n",
    "pxl_scale = 8./nx_size\n",
    "r0 = 0.2\n",
    "L0 = 20.\n",
    "l0 = 0.01\n",
    "screen_size_factor = 16\n",
    "\n",
    "total_scrn_size = screen_size_factor * nx_size\n",
    "print(\"Total Screen Size: {}\".format(total_scrn_size))\n",
    "\n",
    "# Create arrary of zernikes\n",
    "print(\"Make Zernikes...\")\n",
    "# Zs = aotools.zernikeArray(n_zerns, nx_size\")\n",
    "Zs = []\n",
    "for i in range(1, n_zerns+1):\n",
    "    Zs.append(zernike.anyZernike(int(i), nx_size))\n",
    "Zs = numpy.array(Zs)\n",
    "\n",
    "wind_speed = 10 #m/s - just arbitrarily set\n",
    "time_step = pxl_scale/wind_speed # This is timestep, as one pixel added on each iteration\n",
    "print(\"Time step: {}s\".format(time_step))\n",
    "\n",
    "n_scrns = total_scrn_size - nx_size\n",
    "\n",
    "n_tests = 16\n",
    "\n",
    "z_coeffs_fft = numpy.zeros((n_tests, n_scrns, n_zerns))\n",
    "z_vars_fft = numpy.zeros((n_tests, n_zerns))\n",
    "for n in tnrange(n_tests):\n",
    "    print(\"Make large phase screen...\")\n",
    "    phase_screen = phasescreen.ft_phase_screen(r0, total_scrn_size, pxl_scale, L0, 0.01)[:, :nx_size]\n",
    "\n",
    "    print(\"Get Zernike Coeffs\")\n",
    "#     fig = pyplot.figure()\n",
    "    for i in tnrange(n_scrns):\n",
    "        scrn = phase_screen[i:i+nx_size]\n",
    "        \n",
    "        if n%4 == 0:\n",
    "            scrn = scrn\n",
    "        elif n%4 == 1:\n",
    "            scrn = scrn.T\n",
    "        elif n%4 == 2:\n",
    "            scrn = scrn[::-1]\n",
    "        else:\n",
    "            scrn = scrn[::-1].T\n",
    "        \n",
    "#         pyplot.cla()\n",
    "#         pyplot.imshow(scrn)\n",
    "#         fig.canvas.draw()\n",
    "        z_coeffs_fft[n, i] = (scrn * Zs).sum((-1, -2))/(Zs[0].sum())\n",
    "\n",
    "    z_vars_fft[n] = z_coeffs[n].var(0)"
   ]
  },
  {
   "cell_type": "code",
   "execution_count": null,
   "metadata": {
    "collapsed": false
   },
   "outputs": [],
   "source": [
    "pyplot.figure()\n",
    "pyplot.semilogy(z_vars_fft.T, alpha=0.2)\n",
    "pyplot.semilogy(z_vars_fft.mean(0), color=\"k\")\n",
    "pyplot.title(\"Zernike Power Spectrum\")\n",
    "pyplot.xlabel(\"Zernike Index\")\n",
    "pyplot.ylabel(\"Power ($\\mathrm{RMS Rad}^2$)\")"
   ]
  },
  {
   "cell_type": "code",
   "execution_count": null,
   "metadata": {
    "collapsed": false
   },
   "outputs": [],
   "source": [
    "pyplot.figure()\n",
    "plot_zs = [1, 6, 99]\n",
    "for i, z in enumerate(plot_zs):\n",
    "    print(\"plot Z{}\".format(z))\n",
    "    zn_coeffs = z_coeffs_fft.mean(0)[:, z]\n",
    "    z_ps = abs(numpy.fft.fft(zn_coeffs))**2\n",
    "    x_vals = numpy.fft.fftfreq(len(z_ps), d=time_step)\n",
    "    pyplot.loglog(x_vals[:n_scrns//2], z_ps[:n_scrns//2], label=\"Z_{}\".format(z))\n",
    "    pyplot.xlabel(\"Frequency (Hz)\")\n",
    "    pyplot.ylabel(\"Power ($\\mathrm{Rad RMS}^2$)\")\n",
    "    pyplot.grid()\n",
    "pyplot.legend()"
   ]
  },
  {
   "cell_type": "code",
   "execution_count": null,
   "metadata": {
    "collapsed": true
   },
   "outputs": [],
   "source": []
  },
  {
   "cell_type": "code",
   "execution_count": null,
   "metadata": {
    "collapsed": true
   },
   "outputs": [],
   "source": []
  },
  {
   "cell_type": "code",
   "execution_count": null,
   "metadata": {
    "collapsed": true
   },
   "outputs": [],
   "source": []
  }
 ],
 "metadata": {
  "kernelspec": {
   "display_name": "Python 3",
   "language": "python",
   "name": "python3"
  },
  "language_info": {
   "codemirror_mode": {
    "name": "ipython",
    "version": 3
   },
   "file_extension": ".py",
   "mimetype": "text/x-python",
   "name": "python",
   "nbconvert_exporter": "python",
   "pygments_lexer": "ipython3",
   "version": "3.6.0"
  },
  "widgets": {
   "state": {
    "0317accc387e4ea7b1fc463e11006ba5": {
     "views": [
      {
       "cell_index": 2
      }
     ]
    },
    "08da014eac1c4bffb81d26075f324a5a": {
     "views": [
      {
       "cell_index": 2
      }
     ]
    },
    "12c5fc29d0dd42e8805f678cdca4f1ab": {
     "views": [
      {
       "cell_index": 2
      }
     ]
    },
    "1345798d0f3342179f02db85f91fad2d": {
     "views": [
      {
       "cell_index": 2
      }
     ]
    },
    "1379348e6e3a47fe820f06d88de610d9": {
     "views": [
      {
       "cell_index": 2
      }
     ]
    },
    "13dd278bcde245678abb98d9622176c6": {
     "views": [
      {
       "cell_index": 2
      }
     ]
    },
    "1a2741d5d7da43d6acf4718e553e6093": {
     "views": [
      {
       "cell_index": 2
      }
     ]
    },
    "1c9c0bb028d84d6ca8398b48b56ad2c8": {
     "views": [
      {
       "cell_index": 2
      }
     ]
    },
    "21083322b1494db9951360b46fb0f090": {
     "views": [
      {
       "cell_index": 2
      }
     ]
    },
    "22552d6b4e9c4b6983e3e034eb7fa591": {
     "views": [
      {
       "cell_index": 2
      }
     ]
    },
    "3015ac8f5247458aba56ffa1459c1619": {
     "views": [
      {
       "cell_index": 2
      }
     ]
    },
    "348d447585844460a4117ae2115948cb": {
     "views": [
      {
       "cell_index": 2
      }
     ]
    },
    "36d744bff4474d80a3cbc8e70eb35734": {
     "views": [
      {
       "cell_index": 2
      }
     ]
    },
    "3891d7006815424696ba3f41c6559ecd": {
     "views": [
      {
       "cell_index": 2
      }
     ]
    },
    "42ab6863775b4b2cad3c7fbc84b17a80": {
     "views": [
      {
       "cell_index": 2
      }
     ]
    },
    "4393b2c44f954d5a84b2a2480fd21879": {
     "views": [
      {
       "cell_index": 2
      }
     ]
    },
    "4529bc462e4b4139b5829d4078178855": {
     "views": [
      {
       "cell_index": 2
      }
     ]
    },
    "52eb8bdc46ed4833a8bf4e12777b9acd": {
     "views": [
      {
       "cell_index": 2
      }
     ]
    },
    "5ae2abc9bc79441a9b82dd2d71ed229f": {
     "views": [
      {
       "cell_index": 2
      }
     ]
    },
    "61084b6013464ca29bcde7396249cbc0": {
     "views": [
      {
       "cell_index": 2
      }
     ]
    },
    "631b4ba17658454eae81d685f8245ac5": {
     "views": [
      {
       "cell_index": 2
      }
     ]
    },
    "6bd88091d470451bac25db7c6f8d52a1": {
     "views": [
      {
       "cell_index": 2
      }
     ]
    },
    "721b03efb39449649d593d35d83a7ecb": {
     "views": [
      {
       "cell_index": 2
      }
     ]
    },
    "7b58c52050ce467c9577d2d0086fe346": {
     "views": [
      {
       "cell_index": 2
      }
     ]
    },
    "8737824a409d4094b136b5e795ca4472": {
     "views": [
      {
       "cell_index": 2
      }
     ]
    },
    "8ad7e92f0a274556a88078d17010c0cb": {
     "views": [
      {
       "cell_index": 2
      }
     ]
    },
    "8dc97ad712d94ede92d5b27d1abec411": {
     "views": [
      {
       "cell_index": 2
      }
     ]
    },
    "9283c69f60564e828f6e6c6e710a3872": {
     "views": [
      {
       "cell_index": 2
      }
     ]
    },
    "9561ca47af0c486fa43450529d50df58": {
     "views": [
      {
       "cell_index": 2
      }
     ]
    },
    "977acd39cba745e4a0844a887dbb7380": {
     "views": [
      {
       "cell_index": 2
      }
     ]
    },
    "a304841336304431b5280ff96c6214ad": {
     "views": [
      {
       "cell_index": 2
      }
     ]
    },
    "a81066ad63bc4391931cffd83f227062": {
     "views": [
      {
       "cell_index": 2
      }
     ]
    },
    "a9ac5523dedd44128eebfd85711ebaf7": {
     "views": [
      {
       "cell_index": 2
      }
     ]
    },
    "ac64b448fcb1431490d4c88ca40ceab6": {
     "views": [
      {
       "cell_index": 2
      }
     ]
    },
    "b0f5bf9790d347cab13ec31389445d21": {
     "views": [
      {
       "cell_index": 2
      }
     ]
    },
    "b4ef019bb28c44dcb58ace9af485238f": {
     "views": [
      {
       "cell_index": 2
      }
     ]
    },
    "b4fa76d30c214480a12b0a68a594cbfe": {
     "views": [
      {
       "cell_index": 2
      }
     ]
    },
    "b59eeecad75d4113be4cb973a8e8f461": {
     "views": [
      {
       "cell_index": 2
      }
     ]
    },
    "b609dc57531c4b87993213b3587641cc": {
     "views": [
      {
       "cell_index": 2
      }
     ]
    },
    "b7765159d15a4939ba6b7fa1a6143131": {
     "views": [
      {
       "cell_index": 2
      }
     ]
    },
    "bb5adb81abab4cd99628da5a2bfd67fe": {
     "views": [
      {
       "cell_index": 2
      }
     ]
    },
    "bb7dbdae6990474fb252903b3e7ed6cc": {
     "views": [
      {
       "cell_index": 2
      }
     ]
    },
    "bcab66c87e8d4ab285abf170e3e36d6f": {
     "views": [
      {
       "cell_index": 2
      }
     ]
    },
    "c178ac3efe2c45318bd36d7a13606dc4": {
     "views": [
      {
       "cell_index": 2
      }
     ]
    },
    "c8d848ba8d86443b9c733ae72de44d10": {
     "views": [
      {
       "cell_index": 2
      }
     ]
    },
    "c9539b23e548401fa7618153d9756b3e": {
     "views": [
      {
       "cell_index": 2
      }
     ]
    },
    "d5395cc760dc4777856631c713fadc49": {
     "views": [
      {
       "cell_index": 2
      }
     ]
    },
    "daca16ef29ff4a57a5d44877a443128a": {
     "views": [
      {
       "cell_index": 2
      }
     ]
    },
    "e23b71ad8b224ae2bad5aea0d41a37cd": {
     "views": [
      {
       "cell_index": 2
      }
     ]
    },
    "e7d029e67d354a5cbf91d2d9824c577a": {
     "views": [
      {
       "cell_index": 2
      }
     ]
    },
    "ea6cd22f8d8949638cd2d60acf7908f1": {
     "views": [
      {
       "cell_index": 2
      }
     ]
    },
    "ef759afc78554f2c801203b2a49a5f93": {
     "views": [
      {
       "cell_index": 2
      }
     ]
    },
    "f65a208bed1b4965be8e2c2a228a652c": {
     "views": [
      {
       "cell_index": 2
      }
     ]
    },
    "fa8c8ae3ee1b4eacbcbbca98b93df827": {
     "views": [
      {
       "cell_index": 2
      }
     ]
    },
    "fe79dcf02daa4bcb99f7dced67457e26": {
     "views": [
      {
       "cell_index": 2
      }
     ]
    },
    "fea1498af76544a69a286aa0b25860a6": {
     "views": [
      {
       "cell_index": 2
      }
     ]
    }
   },
   "version": "1.2.0"
  }
 },
 "nbformat": 4,
 "nbformat_minor": 2
}
