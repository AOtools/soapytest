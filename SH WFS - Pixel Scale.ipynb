{
 "cells": [
  {
   "cell_type": "code",
   "execution_count": 1,
   "metadata": {
    "collapsed": false
   },
   "outputs": [
    {
     "data": {
      "text/html": [
       "\n",
       "\n",
       "    <script type=\"text/javascript\">\n",
       "      \n",
       "      (function(global) {\n",
       "        function now() {\n",
       "          return new Date();\n",
       "        }\n",
       "      \n",
       "        if (typeof (window._bokeh_onload_callbacks) === \"undefined\") {\n",
       "          window._bokeh_onload_callbacks = [];\n",
       "        }\n",
       "      \n",
       "        function run_callbacks() {\n",
       "          window._bokeh_onload_callbacks.forEach(function(callback) { callback() });\n",
       "          delete window._bokeh_onload_callbacks\n",
       "          console.info(\"Bokeh: all callbacks have finished\");\n",
       "        }\n",
       "      \n",
       "        function load_libs(js_urls, callback) {\n",
       "          window._bokeh_onload_callbacks.push(callback);\n",
       "          if (window._bokeh_is_loading > 0) {\n",
       "            console.log(\"Bokeh: BokehJS is being loaded, scheduling callback at\", now());\n",
       "            return null;\n",
       "          }\n",
       "          if (js_urls == null || js_urls.length === 0) {\n",
       "            run_callbacks();\n",
       "            return null;\n",
       "          }\n",
       "          console.log(\"Bokeh: BokehJS not loaded, scheduling load and callback at\", now());\n",
       "          window._bokeh_is_loading = js_urls.length;\n",
       "          for (var i = 0; i < js_urls.length; i++) {\n",
       "            var url = js_urls[i];\n",
       "            var s = document.createElement('script');\n",
       "            s.src = url;\n",
       "            s.async = false;\n",
       "            s.onreadystatechange = s.onload = function() {\n",
       "              window._bokeh_is_loading--;\n",
       "              if (window._bokeh_is_loading === 0) {\n",
       "                console.log(\"Bokeh: all BokehJS libraries loaded\");\n",
       "                run_callbacks()\n",
       "              }\n",
       "            };\n",
       "            s.onerror = function() {\n",
       "              console.warn(\"failed to load library \" + url);\n",
       "            };\n",
       "            console.log(\"Bokeh: injecting script tag for BokehJS library: \", url);\n",
       "            document.getElementsByTagName(\"head\")[0].appendChild(s);\n",
       "          }\n",
       "        };var js_urls = ['https://cdn.pydata.org/bokeh/release/bokeh-0.11.0.min.js', 'https://cdn.pydata.org/bokeh/release/bokeh-widgets-0.11.0.min.js', 'https://cdn.pydata.org/bokeh/release/bokeh-compiler-0.11.0.min.js'];\n",
       "      \n",
       "        var inline_js = [\n",
       "          function(Bokeh) {\n",
       "            Bokeh.set_log_level(\"info\");\n",
       "          },\n",
       "          function(Bokeh) {\n",
       "            console.log(\"Bokeh: injecting CSS: https://cdn.pydata.org/bokeh/release/bokeh-0.11.0.min.css\");\n",
       "            Bokeh.embed.inject_css(\"https://cdn.pydata.org/bokeh/release/bokeh-0.11.0.min.css\");\n",
       "            console.log(\"Bokeh: injecting CSS: https://cdn.pydata.org/bokeh/release/bokeh-widgets-0.11.0.min.css\");\n",
       "            Bokeh.embed.inject_css(\"https://cdn.pydata.org/bokeh/release/bokeh-widgets-0.11.0.min.css\");\n",
       "          }\n",
       "        ];\n",
       "      \n",
       "        function run_inline_js() {\n",
       "          for (var i = 0; i < inline_js.length; i++) {\n",
       "            inline_js[i](window.Bokeh);\n",
       "          }\n",
       "        }\n",
       "      \n",
       "        if (window._bokeh_is_loading === 0) {\n",
       "          console.log(\"Bokeh: BokehJS loaded, going straight to plotting\");\n",
       "          run_inline_js();\n",
       "        } else {\n",
       "          load_libs(js_urls, function() {\n",
       "            console.log(\"Bokeh: BokehJS plotting callback run at\", now());\n",
       "            run_inline_js();\n",
       "          });\n",
       "        }\n",
       "      }(this));\n",
       "    </script>\n",
       "    <div>\n",
       "        <a href=\"http://bokeh.pydata.org\" target=\"_blank\" class=\"bk-logo bk-logo-small bk-logo-notebook\"></a>\n",
       "        <span>BokehJS successfully loaded.</span>\n",
       "    </div>"
      ]
     },
     "metadata": {},
     "output_type": "display_data"
    }
   ],
   "source": [
    "import numpy\n",
    "import bokeh.plotting as bplot\n",
    "bplot.output_notebook()\n",
    "from matplotlib import pyplot\n",
    "%matplotlib notebook"
   ]
  },
  {
   "cell_type": "code",
   "execution_count": 2,
   "metadata": {
    "collapsed": false
   },
   "outputs": [
    {
     "name": "stderr",
     "output_type": "stream",
     "text": [
      "/opt/local/Library/Frameworks/Python.framework/Versions/2.7/lib/python2.7/site-packages/IPython/qt.py:13: ShimWarning: The `IPython.qt` package has been deprecated. You should import from qtconsole instead.\n",
      "  \"You should import from qtconsole instead.\", ShimWarning)\n"
     ]
    }
   ],
   "source": [
    "from soapy import WFS, confParse\n",
    "from aotools import circle"
   ]
  },
  {
   "cell_type": "code",
   "execution_count": 3,
   "metadata": {
    "collapsed": true
   },
   "outputs": [],
   "source": [
    "SOAPY_CONF = \"conf/test_conf.py\""
   ]
  },
  {
   "cell_type": "code",
   "execution_count": 4,
   "metadata": {
    "collapsed": false
   },
   "outputs": [],
   "source": [
    "# load Soapy config\n",
    "config = confParse.Configurator(SOAPY_CONF)\n",
    "config.loadSimParams()\n",
    "config.wfss[0].pxlsPerSubap = 30\n",
    "mask = circle.circle(config.sim.pupilSize/2., config.sim.simSize)"
   ]
  },
  {
   "cell_type": "code",
   "execution_count": 5,
   "metadata": {
    "collapsed": false
   },
   "outputs": [
    {
     "data": {
      "text/plain": [
       "35.25917680796625"
      ]
     },
     "execution_count": 5,
     "metadata": {},
     "output_type": "execute_result"
    }
   ],
   "source": [
    "# One arcec in tilt Amp across scope\n",
    "tilt_rad = 1./3600 * numpy.pi/180\n",
    "tilt_amp = tilt_rad*config.tel.telDiam/2.\n",
    "tilt_amp/(550e-9)"
   ]
  },
  {
   "cell_type": "code",
   "execution_count": 10,
   "metadata": {
    "collapsed": true
   },
   "outputs": [],
   "source": [
    "PXL_SCALE = 0.2 #asec/pxl"
   ]
  },
  {
   "cell_type": "code",
   "execution_count": 20,
   "metadata": {
    "collapsed": false
   },
   "outputs": [],
   "source": [
    "# Measure current pixel scale\n",
    "maxTilt = 10*PXL_SCALE # arcsecs\n",
    "tilts_asec = numpy.linspace(-0.5*maxTilt, 0.5*maxTilt, 10)\n",
    "\n",
    "tilts_rad = (tilts_asec/3600.) * (numpy.pi/180)\n",
    "# Must convert arcsecs of tilt to amp in nm\n",
    "tiltAmps = 1e9 * (tilts_rad * config.tel.telDiam)# in nm amp\n",
    "\n",
    "# Make a unit tilt to multiply\n",
    "coords = numpy.linspace(-0.5, 0.5, config.sim.pupilSize)\n",
    "coords = numpy.pad(coords, pad_width=[config.sim.simPad,]*2, mode=\"constant\")\n",
    "tilt = numpy.meshgrid(coords, coords)[0]\n",
    "\n",
    "measuredTilts = numpy.zeros((tiltAmps.shape[0]))\n",
    "for i, A in enumerate(tiltAmps):\n",
    "    config.wfss[0].subapFOV = config.wfss[0].pxlsPerSubap*PXL_SCALE\n",
    "    wfs = WFS.ShackHartmann(config.sim, config.wfss[0], config.atmos, config.lgss[0], mask)\n",
    "    \n",
    "    aTilt = tilt*A\n",
    "    slopes = wfs.frame(aTilt)\n",
    "    measuredTilts[i] = -1*slopes[wfs.activeSubaps:].mean()"
   ]
  },
  {
   "cell_type": "code",
   "execution_count": 21,
   "metadata": {
    "collapsed": false
   },
   "outputs": [
    {
     "name": "stdout",
     "output_type": "stream",
     "text": [
      "Measured Pixel Scale: 0.199434900846 pxls/arcsec\n"
     ]
    }
   ],
   "source": [
    "A = numpy.vstack([tilts_asec, numpy.ones(len(tilts_asec))]).T\n",
    "pxlScale, bias = numpy.linalg.lstsq(A, measuredTilts)[0]\n",
    "print(\"Measured Pixel Scale: {} pxls/arcsec\".format(1./pxlScale))"
   ]
  },
  {
   "cell_type": "code",
   "execution_count": 22,
   "metadata": {
    "collapsed": false
   },
   "outputs": [
    {
     "data": {
      "text/html": [
       "\n",
       "\n",
       "    <div class=\"plotdiv\" id=\"d39ca342-9ca0-4088-980d-7a6212753a85\"></div>\n",
       "<script type=\"text/javascript\">\n",
       "  \n",
       "  (function(global) {\n",
       "    function now() {\n",
       "      return new Date();\n",
       "    }\n",
       "  \n",
       "    if (typeof (window._bokeh_onload_callbacks) === \"undefined\") {\n",
       "      window._bokeh_onload_callbacks = [];\n",
       "    }\n",
       "  \n",
       "    function run_callbacks() {\n",
       "      window._bokeh_onload_callbacks.forEach(function(callback) { callback() });\n",
       "      delete window._bokeh_onload_callbacks\n",
       "      console.info(\"Bokeh: all callbacks have finished\");\n",
       "    }\n",
       "  \n",
       "    function load_libs(js_urls, callback) {\n",
       "      window._bokeh_onload_callbacks.push(callback);\n",
       "      if (window._bokeh_is_loading > 0) {\n",
       "        console.log(\"Bokeh: BokehJS is being loaded, scheduling callback at\", now());\n",
       "        return null;\n",
       "      }\n",
       "      if (js_urls == null || js_urls.length === 0) {\n",
       "        run_callbacks();\n",
       "        return null;\n",
       "      }\n",
       "      console.log(\"Bokeh: BokehJS not loaded, scheduling load and callback at\", now());\n",
       "      window._bokeh_is_loading = js_urls.length;\n",
       "      for (var i = 0; i < js_urls.length; i++) {\n",
       "        var url = js_urls[i];\n",
       "        var s = document.createElement('script');\n",
       "        s.src = url;\n",
       "        s.async = false;\n",
       "        s.onreadystatechange = s.onload = function() {\n",
       "          window._bokeh_is_loading--;\n",
       "          if (window._bokeh_is_loading === 0) {\n",
       "            console.log(\"Bokeh: all BokehJS libraries loaded\");\n",
       "            run_callbacks()\n",
       "          }\n",
       "        };\n",
       "        s.onerror = function() {\n",
       "          console.warn(\"failed to load library \" + url);\n",
       "        };\n",
       "        console.log(\"Bokeh: injecting script tag for BokehJS library: \", url);\n",
       "        document.getElementsByTagName(\"head\")[0].appendChild(s);\n",
       "      }\n",
       "    };var element = document.getElementById(\"d39ca342-9ca0-4088-980d-7a6212753a85\");\n",
       "    if (element == null) {\n",
       "      console.log(\"Bokeh: ERROR: autoload.js configured with elementid 'd39ca342-9ca0-4088-980d-7a6212753a85' but no matching script tag was found. \")\n",
       "      return false;\n",
       "    }var js_urls = [];\n",
       "  \n",
       "    var inline_js = [\n",
       "      function(Bokeh) {\n",
       "        Bokeh.$(function() {\n",
       "            var docs_json = {\"3ab81016-2f03-4383-a986-16b5cce39a61\": {\"version\": \"0.11.0\", \"roots\": {\"root_ids\": [\"55fea86d-c4c0-45b2-a559-e3f4d311c11b\", \"d42700b2-1e4c-4748-9a60-ae4ebbfbae03\", \"54717111-6ba5-414e-ad58-856beec5fcbf\", \"33f7ce45-a890-4cd5-92db-05bca4a88bd7\", \"bfae0124-871a-4b37-8dbd-a255b2a5d1d2\"], \"references\": [{\"attributes\": {}, \"type\": \"BasicTicker\", \"id\": \"4317ce46-3b68-4660-904f-9cd313a61214\"}, {\"attributes\": {\"nonselection_glyph\": {\"type\": \"Line\", \"id\": \"7fdae6f2-ae21-4568-b0b3-cb086f7c32c9\"}, \"data_source\": {\"type\": \"ColumnDataSource\", \"id\": \"912f97d6-5023-4c02-99a2-b4af4b0409d8\"}, \"selection_glyph\": null, \"hover_glyph\": null, \"glyph\": {\"type\": \"Line\", \"id\": \"0b7edfcd-d6b3-4e3f-a3c5-9dc91950eb55\"}}, \"type\": \"GlyphRenderer\", \"id\": \"d6c40c22-e30c-417c-8e23-b4486e469a93\"}, {\"attributes\": {\"nonselection_glyph\": {\"type\": \"Line\", \"id\": \"b4c6e194-e356-4364-8b02-95ff4cdedb3d\"}, \"data_source\": {\"type\": \"ColumnDataSource\", \"id\": \"2103c672-d47f-41e2-96e0-96b82f615d25\"}, \"selection_glyph\": null, \"hover_glyph\": null, \"glyph\": {\"type\": \"Line\", \"id\": \"72d21787-9842-4e5c-93b7-8d36675993ed\"}}, \"type\": \"GlyphRenderer\", \"id\": \"32b68c0b-6d18-4f88-93ed-8f454c42c2ac\"}, {\"attributes\": {\"nonselection_glyph\": {\"type\": \"Line\", \"id\": \"3604337a-604e-4f75-abc2-2cf036d701a4\"}, \"data_source\": {\"type\": \"ColumnDataSource\", \"id\": \"45fcabc1-2d07-457e-a440-1d57ed7d5439\"}, \"selection_glyph\": null, \"hover_glyph\": null, \"glyph\": {\"type\": \"Line\", \"id\": \"fad0350c-5f27-4f49-a546-64c719a8082d\"}}, \"type\": \"GlyphRenderer\", \"id\": \"852da96e-dbc9-41f7-bfbb-88be22d25190\"}, {\"attributes\": {}, \"type\": \"ToolEvents\", \"id\": \"688ada87-840b-4e10-b25e-e9db373f772c\"}, {\"attributes\": {}, \"type\": \"ToolEvents\", \"id\": \"4c35dc4e-2f62-4370-8062-504b4f622aaf\"}, {\"attributes\": {\"plot\": {\"subtype\": \"Figure\", \"type\": \"Plot\", \"id\": \"d42700b2-1e4c-4748-9a60-ae4ebbfbae03\"}, \"ticker\": {\"type\": \"BasicTicker\", \"id\": \"9e86fae0-3ab9-4eff-a9cc-260fcbd1b20f\"}}, \"type\": \"Grid\", \"id\": \"3e89393b-8a25-46f8-b955-c9618edb8456\"}, {\"attributes\": {\"plot\": {\"subtype\": \"Figure\", \"type\": \"Plot\", \"id\": \"bfae0124-871a-4b37-8dbd-a255b2a5d1d2\"}}, \"type\": \"ResetTool\", \"id\": \"a9d9abb1-d916-44e0-8b04-f3753bb0bf70\"}, {\"attributes\": {}, \"type\": \"ToolEvents\", \"id\": \"c95fe769-8ff4-4121-8c4f-761dd21e1c21\"}, {\"attributes\": {\"callback\": null, \"column_names\": [\"y\", \"x\"], \"data\": {\"y\": [3.061751240473701, 2.3816512249280075, 1.7015512093823144, 1.021451193836621, 0.34135117829092754, -0.3387488372547661, -1.0188488528004591, -1.6989488683461522, -2.379048883891846, -3.0591488994375395], \"x\": [-2.0, -1.5555555555555556, -1.1111111111111112, -0.6666666666666667, -0.22222222222222232, 0.22222222222222232, 0.6666666666666665, 1.1111111111111107, 1.5555555555555554, 2.0]}}, \"type\": \"ColumnDataSource\", \"id\": \"45fcabc1-2d07-457e-a440-1d57ed7d5439\"}, {\"attributes\": {\"plot\": {\"subtype\": \"Figure\", \"type\": \"Plot\", \"id\": \"54717111-6ba5-414e-ad58-856beec5fcbf\"}, \"overlay\": {\"type\": \"BoxAnnotation\", \"id\": \"15b4f8cd-b8c2-474c-935a-bfcecd5933f3\"}}, \"type\": \"BoxZoomTool\", \"id\": \"b402c942-dc78-43e2-b8d8-5e051e54653a\"}, {\"attributes\": {\"plot\": {\"subtype\": \"Figure\", \"type\": \"Plot\", \"id\": \"d42700b2-1e4c-4748-9a60-ae4ebbfbae03\"}}, \"type\": \"HelpTool\", \"id\": \"973368ee-08df-46e1-902f-e91f5a18bd9c\"}, {\"attributes\": {\"plot\": {\"subtype\": \"Figure\", \"type\": \"Plot\", \"id\": \"bfae0124-871a-4b37-8dbd-a255b2a5d1d2\"}, \"overlay\": {\"type\": \"BoxAnnotation\", \"id\": \"41722580-c0d4-4ad5-956b-12003d2e5593\"}}, \"type\": \"BoxZoomTool\", \"id\": \"242179f8-b7e5-4a6a-80a2-7eca29d80e0c\"}, {\"attributes\": {\"plot\": {\"subtype\": \"Figure\", \"type\": \"Plot\", \"id\": \"54717111-6ba5-414e-ad58-856beec5fcbf\"}}, \"type\": \"WheelZoomTool\", \"id\": \"d61a7a1a-4ec2-4edf-90cf-70d20ee19753\"}, {\"attributes\": {}, \"type\": \"BasicTickFormatter\", \"id\": \"3c35a869-19e8-4bae-b9e5-b28a8e994026\"}, {\"attributes\": {\"plot\": {\"subtype\": \"Figure\", \"type\": \"Plot\", \"id\": \"33f7ce45-a890-4cd5-92db-05bca4a88bd7\"}}, \"type\": \"PanTool\", \"id\": \"e2e7c037-65ae-4ef1-9bc0-bb79d1f31802\"}, {\"attributes\": {\"line_color\": {\"value\": \"#1f77b4\"}, \"line_alpha\": {\"value\": 0.1}, \"y\": {\"field\": \"y\"}, \"x\": {\"field\": \"x\"}}, \"type\": \"Line\", \"id\": \"d13b1bd6-b3c6-48fb-a5af-c726359b10d3\"}, {\"attributes\": {}, \"type\": \"BasicTickFormatter\", \"id\": \"3ddf6eff-d749-48db-898e-2cc74dc3e63c\"}, {\"attributes\": {\"plot\": {\"subtype\": \"Figure\", \"type\": \"Plot\", \"id\": \"55fea86d-c4c0-45b2-a559-e3f4d311c11b\"}}, \"type\": \"PanTool\", \"id\": \"50afba12-b9b2-45e0-bc22-258c066bc0c5\"}, {\"attributes\": {\"line_color\": {\"value\": \"#1f77b4\"}, \"x\": {\"field\": \"x\"}, \"y\": {\"field\": \"y\"}}, \"type\": \"Line\", \"id\": \"83dc60e9-27f4-445a-81fa-56d87bb5cf25\"}, {\"attributes\": {\"plot\": {\"subtype\": \"Figure\", \"type\": \"Plot\", \"id\": \"54717111-6ba5-414e-ad58-856beec5fcbf\"}, \"formatter\": {\"type\": \"BasicTickFormatter\", \"id\": \"9f4e6869-660d-45a7-897a-791eb020f962\"}, \"ticker\": {\"type\": \"BasicTicker\", \"id\": \"d573941c-7bf7-43ea-83de-4476b8bdfdcc\"}}, \"type\": \"LinearAxis\", \"id\": \"46bd91a9-0667-425e-95dd-a4c0ddf93643\"}, {\"attributes\": {}, \"type\": \"BasicTicker\", \"id\": \"9e86fae0-3ab9-4eff-a9cc-260fcbd1b20f\"}, {\"attributes\": {\"plot\": {\"subtype\": \"Figure\", \"type\": \"Plot\", \"id\": \"55fea86d-c4c0-45b2-a559-e3f4d311c11b\"}, \"ticker\": {\"type\": \"BasicTicker\", \"id\": \"0756a070-5476-46f3-b8d8-9c78d5542cf4\"}, \"dimension\": 1}, \"type\": \"Grid\", \"id\": \"df7d8aba-eec0-4ccb-9882-63a6bf40cb5e\"}, {\"attributes\": {\"plot\": {\"subtype\": \"Figure\", \"type\": \"Plot\", \"id\": \"d42700b2-1e4c-4748-9a60-ae4ebbfbae03\"}, \"overlay\": {\"type\": \"BoxAnnotation\", \"id\": \"8f4ed832-10ec-4f55-a5d7-036e356476b7\"}}, \"type\": \"BoxZoomTool\", \"id\": \"ad313a4c-01cb-4261-b508-39872a6823c0\"}, {\"attributes\": {\"plot\": {\"subtype\": \"Figure\", \"type\": \"Plot\", \"id\": \"d42700b2-1e4c-4748-9a60-ae4ebbfbae03\"}, \"formatter\": {\"type\": \"BasicTickFormatter\", \"id\": \"f83724cd-1d9a-46fc-bb15-9c53bd678271\"}, \"ticker\": {\"type\": \"BasicTicker\", \"id\": \"41040a85-e79a-4860-b981-5f65f043ae64\"}}, \"type\": \"LinearAxis\", \"id\": \"cd2b0dfd-fd1b-4cc9-8903-a9c273252eaa\"}, {\"attributes\": {\"plot\": {\"subtype\": \"Figure\", \"type\": \"Plot\", \"id\": \"bfae0124-871a-4b37-8dbd-a255b2a5d1d2\"}}, \"type\": \"PreviewSaveTool\", \"id\": \"f9b820d0-0132-4de1-a385-d6f8aa43e224\"}, {\"attributes\": {\"plot\": {\"subtype\": \"Figure\", \"type\": \"Plot\", \"id\": \"d42700b2-1e4c-4748-9a60-ae4ebbfbae03\"}, \"ticker\": {\"type\": \"BasicTicker\", \"id\": \"41040a85-e79a-4860-b981-5f65f043ae64\"}, \"dimension\": 1}, \"type\": \"Grid\", \"id\": \"74cb8489-a7b4-41e4-b3e7-d6022bf51020\"}, {\"attributes\": {\"line_color\": {\"value\": \"#1f77b4\"}, \"line_alpha\": {\"value\": 0.1}, \"y\": {\"field\": \"y\"}, \"x\": {\"field\": \"x\"}}, \"type\": \"Line\", \"id\": \"7fdae6f2-ae21-4568-b0b3-cb086f7c32c9\"}, {\"attributes\": {\"x_range\": {\"type\": \"DataRange1d\", \"id\": \"7e814204-f67a-4312-85f9-51ea831ee9ab\"}, \"y_range\": {\"type\": \"DataRange1d\", \"id\": \"69d71b2f-08c1-47a1-becb-02d05a09f683\"}, \"renderers\": [{\"type\": \"LinearAxis\", \"id\": \"85b91c78-8cc1-435e-bdd4-9155374a869b\"}, {\"type\": \"Grid\", \"id\": \"3e89393b-8a25-46f8-b955-c9618edb8456\"}, {\"type\": \"LinearAxis\", \"id\": \"cd2b0dfd-fd1b-4cc9-8903-a9c273252eaa\"}, {\"type\": \"Grid\", \"id\": \"74cb8489-a7b4-41e4-b3e7-d6022bf51020\"}, {\"type\": \"BoxAnnotation\", \"id\": \"8f4ed832-10ec-4f55-a5d7-036e356476b7\"}, {\"type\": \"GlyphRenderer\", \"id\": \"2bf81e42-7f75-43b9-8ae1-6c0f42c59742\"}, {\"type\": \"GlyphRenderer\", \"id\": \"68797ac3-b539-4fa9-b19e-c19b8411dfac\"}], \"below\": [{\"type\": \"LinearAxis\", \"id\": \"85b91c78-8cc1-435e-bdd4-9155374a869b\"}], \"tool_events\": {\"type\": \"ToolEvents\", \"id\": \"c95fe769-8ff4-4121-8c4f-761dd21e1c21\"}, \"tools\": [{\"type\": \"PanTool\", \"id\": \"404d27ff-678c-46c4-916f-1961d9bcc007\"}, {\"type\": \"WheelZoomTool\", \"id\": \"1d8d6f31-9480-4431-825f-7125342ffb6a\"}, {\"type\": \"BoxZoomTool\", \"id\": \"ad313a4c-01cb-4261-b508-39872a6823c0\"}, {\"type\": \"PreviewSaveTool\", \"id\": \"77a00946-5fa3-4a3a-bc54-34eb275c7c66\"}, {\"type\": \"ResizeTool\", \"id\": \"be509239-feec-42ba-b3ef-93ccb79fa847\"}, {\"type\": \"ResetTool\", \"id\": \"b3a10db1-89c9-430d-80ef-12b4b6fa6a33\"}, {\"type\": \"HelpTool\", \"id\": \"973368ee-08df-46e1-902f-e91f5a18bd9c\"}], \"left\": [{\"type\": \"LinearAxis\", \"id\": \"cd2b0dfd-fd1b-4cc9-8903-a9c273252eaa\"}]}, \"type\": \"Plot\", \"id\": \"d42700b2-1e4c-4748-9a60-ae4ebbfbae03\", \"subtype\": \"Figure\"}, {\"attributes\": {\"callback\": null}, \"type\": \"DataRange1d\", \"id\": \"d375d874-4c88-4529-8db3-acdf05cfb54d\"}, {\"attributes\": {\"plot\": {\"subtype\": \"Figure\", \"type\": \"Plot\", \"id\": \"55fea86d-c4c0-45b2-a559-e3f4d311c11b\"}, \"formatter\": {\"type\": \"BasicTickFormatter\", \"id\": \"de73b8b9-a2f6-4470-81f4-04f9e5b05b4e\"}, \"ticker\": {\"type\": \"BasicTicker\", \"id\": \"0957e482-cfed-48c2-a91a-e63a6694a1f2\"}}, \"type\": \"LinearAxis\", \"id\": \"c9f8f826-66c2-4140-a75c-2eda84cde8a3\"}, {\"attributes\": {}, \"type\": \"BasicTicker\", \"id\": \"0957e482-cfed-48c2-a91a-e63a6694a1f2\"}, {\"attributes\": {\"plot\": {\"subtype\": \"Figure\", \"type\": \"Plot\", \"id\": \"33f7ce45-a890-4cd5-92db-05bca4a88bd7\"}}, \"type\": \"ResetTool\", \"id\": \"5818a1a7-06b4-477c-9d60-0eb37d3406b6\"}, {\"attributes\": {\"line_color\": {\"value\": \"#1f77b4\"}, \"x\": {\"field\": \"x\"}, \"y\": {\"field\": \"y\"}}, \"type\": \"Line\", \"id\": \"1f1a73a6-454e-45d8-ad20-458900c440a8\"}, {\"attributes\": {\"plot\": {\"subtype\": \"Figure\", \"type\": \"Plot\", \"id\": \"55fea86d-c4c0-45b2-a559-e3f4d311c11b\"}}, \"type\": \"ResizeTool\", \"id\": \"b0a72b27-76fd-4c5e-bdab-b80801809884\"}, {\"attributes\": {\"callback\": null}, \"type\": \"DataRange1d\", \"id\": \"b86a37ab-cf1e-432e-b730-1eb95048581a\"}, {\"attributes\": {\"line_color\": {\"value\": \"black\"}, \"line_alpha\": {\"value\": 1.0}, \"render_mode\": \"css\", \"bottom_units\": \"screen\", \"level\": \"overlay\", \"top_units\": \"screen\", \"fill_alpha\": {\"value\": 0.5}, \"plot\": null, \"left_units\": \"screen\", \"line_dash\": [4, 4], \"line_width\": {\"value\": 2}, \"right_units\": \"screen\", \"fill_color\": {\"value\": \"lightgrey\"}}, \"type\": \"BoxAnnotation\", \"id\": \"15b4f8cd-b8c2-474c-935a-bfcecd5933f3\"}, {\"attributes\": {}, \"type\": \"BasicTicker\", \"id\": \"d573941c-7bf7-43ea-83de-4476b8bdfdcc\"}, {\"attributes\": {\"line_color\": {\"value\": \"#1f77b4\"}, \"x\": {\"field\": \"x\"}, \"y\": {\"field\": \"y\"}}, \"type\": \"Line\", \"id\": \"afb432c2-0c32-4f6a-bf0b-d2c3283a1688\"}, {\"attributes\": {\"callback\": null}, \"type\": \"DataRange1d\", \"id\": \"669a71b4-8c67-495b-b317-babebe581ee6\"}, {\"attributes\": {\"plot\": {\"subtype\": \"Figure\", \"type\": \"Plot\", \"id\": \"33f7ce45-a890-4cd5-92db-05bca4a88bd7\"}, \"overlay\": {\"type\": \"BoxAnnotation\", \"id\": \"97591d10-42df-4338-ad7f-a015e2910401\"}}, \"type\": \"BoxZoomTool\", \"id\": \"eb9fe946-f6a8-4307-9535-27b0c32ddd4d\"}, {\"attributes\": {\"line_color\": {\"value\": \"#1f77b4\"}, \"x\": {\"field\": \"x\"}, \"y\": {\"field\": \"y\"}}, \"type\": \"Line\", \"id\": \"8b4ca8a9-cd54-410a-8c30-0ca718e3c2ee\"}, {\"attributes\": {\"plot\": {\"subtype\": \"Figure\", \"type\": \"Plot\", \"id\": \"33f7ce45-a890-4cd5-92db-05bca4a88bd7\"}, \"ticker\": {\"type\": \"BasicTicker\", \"id\": \"b1569a6b-026f-4c22-931a-0fba737e7d4f\"}}, \"type\": \"Grid\", \"id\": \"43157a68-8f33-4c84-a0f0-79be864a4a43\"}, {\"attributes\": {\"plot\": {\"subtype\": \"Figure\", \"type\": \"Plot\", \"id\": \"bfae0124-871a-4b37-8dbd-a255b2a5d1d2\"}, \"ticker\": {\"type\": \"BasicTicker\", \"id\": \"de35e9b8-d1b9-4138-aeca-5394feadc175\"}, \"dimension\": 1}, \"type\": \"Grid\", \"id\": \"84e42640-2fd8-4c0b-94e2-38212b4ac62b\"}, {\"attributes\": {\"plot\": {\"subtype\": \"Figure\", \"type\": \"Plot\", \"id\": \"33f7ce45-a890-4cd5-92db-05bca4a88bd7\"}, \"formatter\": {\"type\": \"BasicTickFormatter\", \"id\": \"379a9d63-cad0-46f0-8563-eab41534f4c1\"}, \"ticker\": {\"type\": \"BasicTicker\", \"id\": \"b1569a6b-026f-4c22-931a-0fba737e7d4f\"}}, \"type\": \"LinearAxis\", \"id\": \"8c172f67-93cf-47ef-ae22-a8ebba0b5419\"}, {\"attributes\": {\"plot\": {\"subtype\": \"Figure\", \"type\": \"Plot\", \"id\": \"55fea86d-c4c0-45b2-a559-e3f4d311c11b\"}}, \"type\": \"HelpTool\", \"id\": \"31650091-56c8-4407-b461-e4cb63c1a773\"}, {\"attributes\": {\"callback\": null, \"column_names\": [\"y\", \"x\"], \"data\": {\"y\": [-10.10037329976271, -7.498535399853569, -5.498535399853569, -3.498535399853569, -1.4985353998535689, 1.5014646001464311, 3.501464600146431, 5.501464600146431, 7.501464600146431, 10.10045430305213], \"x\": [-4.0, -3.111111111111111, -2.2222222222222223, -1.3333333333333335, -0.44444444444444464, 0.44444444444444464, 1.333333333333333, 2.2222222222222214, 3.1111111111111107, 4.0]}}, \"type\": \"ColumnDataSource\", \"id\": \"2103c672-d47f-41e2-96e0-96b82f615d25\"}, {\"attributes\": {\"callback\": null, \"column_names\": [\"y\", \"x\"], \"data\": {\"y\": [7.266907701118777, 9.97080158991858, -11.354080107335164, -6.641982982735491, -2.3551035377277154, 2.3571081172284307, 6.643998970099336, 11.356073722497891, -9.968378561394129, -7.262333206489706], \"x\": [-2.0, -1.5555555555555556, -1.1111111111111112, -0.6666666666666667, -0.22222222222222232, 0.22222222222222232, 0.6666666666666665, 1.1111111111111107, 1.5555555555555554, 2.0]}}, \"type\": \"ColumnDataSource\", \"id\": \"eb905e72-932c-485b-a525-2b28e135c740\"}, {\"attributes\": {\"nonselection_glyph\": {\"type\": \"Line\", \"id\": \"9a2f5f09-8c69-4f04-ba64-cabaa31c2969\"}, \"data_source\": {\"type\": \"ColumnDataSource\", \"id\": \"4855f0c4-4c53-409a-a1c6-1970d334fc35\"}, \"selection_glyph\": null, \"hover_glyph\": null, \"glyph\": {\"type\": \"Line\", \"id\": \"c3922638-5aaf-496d-9b3c-cfca9828bb22\"}}, \"type\": \"GlyphRenderer\", \"id\": \"89338dff-16dc-4a1e-aacd-7c474843c985\"}, {\"attributes\": {}, \"type\": \"BasicTickFormatter\", \"id\": \"4a92401e-a23c-42c8-aec6-6f46974df909\"}, {\"attributes\": {\"line_color\": {\"value\": \"#1f77b4\"}, \"x\": {\"field\": \"x\"}, \"y\": {\"field\": \"y\"}}, \"type\": \"Line\", \"id\": \"c3922638-5aaf-496d-9b3c-cfca9828bb22\"}, {\"attributes\": {\"line_color\": {\"value\": \"#1f77b4\"}, \"line_alpha\": {\"value\": 0.1}, \"y\": {\"field\": \"y\"}, \"x\": {\"field\": \"x\"}}, \"type\": \"Line\", \"id\": \"48422694-2aad-4450-a5ac-f1eaae187081\"}, {\"attributes\": {\"plot\": {\"subtype\": \"Figure\", \"type\": \"Plot\", \"id\": \"d42700b2-1e4c-4748-9a60-ae4ebbfbae03\"}}, \"type\": \"PreviewSaveTool\", \"id\": \"77a00946-5fa3-4a3a-bc54-34eb275c7c66\"}, {\"attributes\": {\"callback\": null}, \"type\": \"DataRange1d\", \"id\": \"27cf328f-782c-4742-a79f-a4555658512e\"}, {\"attributes\": {}, \"type\": \"BasicTickFormatter\", \"id\": \"6196f1f9-27b5-4583-b0e0-caf40baeaf9b\"}, {\"attributes\": {\"callback\": null, \"column_names\": [\"y\", \"x\"], \"data\": {\"y\": [-10.19986017329298, -7.800604053321905, -5.497543585288513, -3.497543585288513, -1.1992956792864264, 1.199860281631024, 3.502456414711487, 5.502456414711487, 7.801164555535589, 10.200425642694796], \"x\": [-1.0, -0.7777777777777778, -0.5555555555555556, -0.33333333333333337, -0.11111111111111116, 0.11111111111111116, 0.33333333333333326, 0.5555555555555554, 0.7777777777777777, 1.0]}}, \"type\": \"ColumnDataSource\", \"id\": \"920640d5-fca7-487f-8bbb-d4b91df65990\"}, {\"attributes\": {\"x_range\": {\"type\": \"DataRange1d\", \"id\": \"bc8900a5-aa06-4551-8f21-371d3364cebd\"}, \"y_range\": {\"type\": \"DataRange1d\", \"id\": \"155014a2-28d2-4916-84c1-2912b86fa355\"}, \"renderers\": [{\"type\": \"LinearAxis\", \"id\": \"c9f8f826-66c2-4140-a75c-2eda84cde8a3\"}, {\"type\": \"Grid\", \"id\": \"67526f02-e677-4531-981d-bfdc0aac8847\"}, {\"type\": \"LinearAxis\", \"id\": \"c5d64f00-2e93-4b02-81aa-d9c5b59bf78a\"}, {\"type\": \"Grid\", \"id\": \"df7d8aba-eec0-4ccb-9882-63a6bf40cb5e\"}, {\"type\": \"BoxAnnotation\", \"id\": \"56c1f7f4-3eba-42dd-a41a-37c6816289ac\"}, {\"type\": \"GlyphRenderer\", \"id\": \"32b68c0b-6d18-4f88-93ed-8f454c42c2ac\"}, {\"type\": \"GlyphRenderer\", \"id\": \"088e31a2-8675-41a5-8b6c-04acce2a6613\"}], \"below\": [{\"type\": \"LinearAxis\", \"id\": \"c9f8f826-66c2-4140-a75c-2eda84cde8a3\"}], \"tool_events\": {\"type\": \"ToolEvents\", \"id\": \"4c35dc4e-2f62-4370-8062-504b4f622aaf\"}, \"tools\": [{\"type\": \"PanTool\", \"id\": \"50afba12-b9b2-45e0-bc22-258c066bc0c5\"}, {\"type\": \"WheelZoomTool\", \"id\": \"58eead89-ee19-40a4-aa1d-519e3497c124\"}, {\"type\": \"BoxZoomTool\", \"id\": \"2dabc6d6-d3ca-4bb8-abcd-4f8e6b168d81\"}, {\"type\": \"PreviewSaveTool\", \"id\": \"090f5e5e-3b36-4c68-9442-b9e3ccbcc321\"}, {\"type\": \"ResizeTool\", \"id\": \"b0a72b27-76fd-4c5e-bdab-b80801809884\"}, {\"type\": \"ResetTool\", \"id\": \"061ffb32-2aa9-4a0b-ad50-3a8a7eaebb52\"}, {\"type\": \"HelpTool\", \"id\": \"31650091-56c8-4407-b461-e4cb63c1a773\"}], \"left\": [{\"type\": \"LinearAxis\", \"id\": \"c5d64f00-2e93-4b02-81aa-d9c5b59bf78a\"}]}, \"type\": \"Plot\", \"id\": \"55fea86d-c4c0-45b2-a559-e3f4d311c11b\", \"subtype\": \"Figure\"}, {\"attributes\": {\"plot\": {\"subtype\": \"Figure\", \"type\": \"Plot\", \"id\": \"54717111-6ba5-414e-ad58-856beec5fcbf\"}, \"formatter\": {\"type\": \"BasicTickFormatter\", \"id\": \"17fd89dd-379f-4643-aa13-510ec1c2accf\"}, \"ticker\": {\"type\": \"BasicTicker\", \"id\": \"b2379bbf-3d66-4588-b39d-747062727f54\"}}, \"type\": \"LinearAxis\", \"id\": \"ba3a7928-bb16-4fac-bb08-bfce190d5b23\"}, {\"attributes\": {\"plot\": {\"subtype\": \"Figure\", \"type\": \"Plot\", \"id\": \"bfae0124-871a-4b37-8dbd-a255b2a5d1d2\"}}, \"type\": \"PanTool\", \"id\": \"b941fd61-5b4a-487d-aec1-59396c5d1160\"}, {\"attributes\": {\"x_range\": {\"type\": \"DataRange1d\", \"id\": \"d375d874-4c88-4529-8db3-acdf05cfb54d\"}, \"y_range\": {\"type\": \"DataRange1d\", \"id\": \"27cf328f-782c-4742-a79f-a4555658512e\"}, \"renderers\": [{\"type\": \"LinearAxis\", \"id\": \"46bd91a9-0667-425e-95dd-a4c0ddf93643\"}, {\"type\": \"Grid\", \"id\": \"dcdbb3d1-3765-4c03-83de-c13f7944cb83\"}, {\"type\": \"LinearAxis\", \"id\": \"ba3a7928-bb16-4fac-bb08-bfce190d5b23\"}, {\"type\": \"Grid\", \"id\": \"536406df-c11a-4ec1-b0ed-fbd783bd89bc\"}, {\"type\": \"BoxAnnotation\", \"id\": \"15b4f8cd-b8c2-474c-935a-bfcecd5933f3\"}, {\"type\": \"GlyphRenderer\", \"id\": \"b43d14dc-8d42-4c59-b786-1eaffb5ad88f\"}, {\"type\": \"GlyphRenderer\", \"id\": \"852da96e-dbc9-41f7-bfbb-88be22d25190\"}], \"below\": [{\"type\": \"LinearAxis\", \"id\": \"46bd91a9-0667-425e-95dd-a4c0ddf93643\"}], \"tool_events\": {\"type\": \"ToolEvents\", \"id\": \"5c7c1086-51d5-4c4f-a2b3-e498ed3b497d\"}, \"tools\": [{\"type\": \"PanTool\", \"id\": \"9f9780f3-ba83-4706-bd4d-a210b545045b\"}, {\"type\": \"WheelZoomTool\", \"id\": \"d61a7a1a-4ec2-4edf-90cf-70d20ee19753\"}, {\"type\": \"BoxZoomTool\", \"id\": \"b402c942-dc78-43e2-b8d8-5e051e54653a\"}, {\"type\": \"PreviewSaveTool\", \"id\": \"2eb72275-ad10-4f4c-996d-9e2207f4540f\"}, {\"type\": \"ResizeTool\", \"id\": \"a38e182c-d0d1-40ec-bb89-6d0bba018924\"}, {\"type\": \"ResetTool\", \"id\": \"e4fdfdae-ef1a-40c3-80c9-f539e428aeac\"}, {\"type\": \"HelpTool\", \"id\": \"900110e4-e9c2-432d-9b2f-6d8716891ed5\"}], \"left\": [{\"type\": \"LinearAxis\", \"id\": \"ba3a7928-bb16-4fac-bb08-bfce190d5b23\"}]}, \"type\": \"Plot\", \"id\": \"54717111-6ba5-414e-ad58-856beec5fcbf\", \"subtype\": \"Figure\"}, {\"attributes\": {\"line_color\": {\"value\": \"#1f77b4\"}, \"line_alpha\": {\"value\": 0.1}, \"y\": {\"field\": \"y\"}, \"x\": {\"field\": \"x\"}}, \"type\": \"Line\", \"id\": \"621ea905-8742-43ab-9cf7-97f4f99dd928\"}, {\"attributes\": {\"plot\": {\"subtype\": \"Figure\", \"type\": \"Plot\", \"id\": \"55fea86d-c4c0-45b2-a559-e3f4d311c11b\"}, \"formatter\": {\"type\": \"BasicTickFormatter\", \"id\": \"4a92401e-a23c-42c8-aec6-6f46974df909\"}, \"ticker\": {\"type\": \"BasicTicker\", \"id\": \"0756a070-5476-46f3-b8d8-9c78d5542cf4\"}}, \"type\": \"LinearAxis\", \"id\": \"c5d64f00-2e93-4b02-81aa-d9c5b59bf78a\"}, {\"attributes\": {\"plot\": {\"subtype\": \"Figure\", \"type\": \"Plot\", \"id\": \"54717111-6ba5-414e-ad58-856beec5fcbf\"}}, \"type\": \"PreviewSaveTool\", \"id\": \"2eb72275-ad10-4f4c-996d-9e2207f4540f\"}, {\"attributes\": {\"line_color\": {\"value\": \"black\"}, \"line_alpha\": {\"value\": 1.0}, \"render_mode\": \"css\", \"bottom_units\": \"screen\", \"level\": \"overlay\", \"top_units\": \"screen\", \"fill_alpha\": {\"value\": 0.5}, \"plot\": null, \"left_units\": \"screen\", \"line_dash\": [4, 4], \"line_width\": {\"value\": 2}, \"right_units\": \"screen\", \"fill_color\": {\"value\": \"lightgrey\"}}, \"type\": \"BoxAnnotation\", \"id\": \"8f4ed832-10ec-4f55-a5d7-036e356476b7\"}, {\"attributes\": {}, \"type\": \"BasicTicker\", \"id\": \"0756a070-5476-46f3-b8d8-9c78d5542cf4\"}, {\"attributes\": {\"line_color\": {\"value\": \"#1f77b4\"}, \"x\": {\"field\": \"x\"}, \"y\": {\"field\": \"y\"}}, \"type\": \"Line\", \"id\": \"fad0350c-5f27-4f49-a546-64c719a8082d\"}, {\"attributes\": {\"plot\": {\"subtype\": \"Figure\", \"type\": \"Plot\", \"id\": \"d42700b2-1e4c-4748-9a60-ae4ebbfbae03\"}}, \"type\": \"ResetTool\", \"id\": \"b3a10db1-89c9-430d-80ef-12b4b6fa6a33\"}, {\"attributes\": {\"nonselection_glyph\": {\"type\": \"Line\", \"id\": \"ab3d3cbe-8e1f-410e-97c2-299276fb0539\"}, \"data_source\": {\"type\": \"ColumnDataSource\", \"id\": \"ed1a7f54-8b4e-4e9c-8b68-56f17afe87c5\"}, \"selection_glyph\": null, \"hover_glyph\": null, \"glyph\": {\"type\": \"Line\", \"id\": \"f80ec5a1-ec24-4d8a-bcc3-b20f0bf260ec\"}}, \"type\": \"GlyphRenderer\", \"id\": \"68797ac3-b539-4fa9-b19e-c19b8411dfac\"}, {\"attributes\": {\"line_color\": {\"value\": \"#1f77b4\"}, \"x\": {\"field\": \"x\"}, \"y\": {\"field\": \"y\"}}, \"type\": \"Line\", \"id\": \"f80ec5a1-ec24-4d8a-bcc3-b20f0bf260ec\"}, {\"attributes\": {\"callback\": null, \"column_names\": [\"y\", \"x\"], \"data\": {\"y\": [-5.02087910257343, -3.9066196561113458, -2.7923602096492615, -1.6781007631871767, -0.5638413167250924, 0.5504181297369926, 1.6646775761990764, 2.77893702266116, 3.8931964691232452, 5.00745591558533], \"x\": [-1.0, -0.7777777777777778, -0.5555555555555556, -0.33333333333333337, -0.11111111111111116, 0.11111111111111116, 0.33333333333333326, 0.5555555555555554, 0.7777777777777777, 1.0]}}, \"type\": \"ColumnDataSource\", \"id\": \"912f97d6-5023-4c02-99a2-b4af4b0409d8\"}, {\"attributes\": {\"callback\": null}, \"type\": \"DataRange1d\", \"id\": \"eaa860fb-e913-405d-9bd7-86cc4340b648\"}, {\"attributes\": {}, \"type\": \"BasicTicker\", \"id\": \"41040a85-e79a-4860-b981-5f65f043ae64\"}, {\"attributes\": {\"plot\": {\"subtype\": \"Figure\", \"type\": \"Plot\", \"id\": \"bfae0124-871a-4b37-8dbd-a255b2a5d1d2\"}}, \"type\": \"ResizeTool\", \"id\": \"2fcf585c-ba97-4775-b9dd-7b9073aaf043\"}, {\"attributes\": {\"line_color\": {\"value\": \"black\"}, \"line_alpha\": {\"value\": 1.0}, \"render_mode\": \"css\", \"bottom_units\": \"screen\", \"level\": \"overlay\", \"top_units\": \"screen\", \"fill_alpha\": {\"value\": 0.5}, \"plot\": null, \"left_units\": \"screen\", \"line_dash\": [4, 4], \"line_width\": {\"value\": 2}, \"right_units\": \"screen\", \"fill_color\": {\"value\": \"lightgrey\"}}, \"type\": \"BoxAnnotation\", \"id\": \"97591d10-42df-4338-ad7f-a015e2910401\"}, {\"attributes\": {}, \"type\": \"BasicTickFormatter\", \"id\": \"379a9d63-cad0-46f0-8563-eab41534f4c1\"}, {\"attributes\": {\"plot\": {\"subtype\": \"Figure\", \"type\": \"Plot\", \"id\": \"55fea86d-c4c0-45b2-a559-e3f4d311c11b\"}}, \"type\": \"WheelZoomTool\", \"id\": \"58eead89-ee19-40a4-aa1d-519e3497c124\"}, {\"attributes\": {\"plot\": {\"subtype\": \"Figure\", \"type\": \"Plot\", \"id\": \"33f7ce45-a890-4cd5-92db-05bca4a88bd7\"}}, \"type\": \"ResizeTool\", \"id\": \"dd93a485-7a52-4438-b8a9-a77290dbe252\"}, {\"attributes\": {\"callback\": null, \"column_names\": [\"y\", \"x\"], \"data\": {\"y\": [-10.122869519450573, -7.8730870432880895, -5.623304567125606, -3.373522090963122, -1.1237396148006373, 1.1260428613618478, 3.3758253375243306, 5.6256078136868135, 7.875390289849299, 10.125172766011785], \"x\": [-1.0, -0.7777777777777778, -0.5555555555555556, -0.33333333333333337, -0.11111111111111116, 0.11111111111111116, 0.33333333333333326, 0.5555555555555554, 0.7777777777777777, 1.0]}}, \"type\": \"ColumnDataSource\", \"id\": \"7d5b4efc-4c3d-469e-8e0e-197bc96a4302\"}, {\"attributes\": {\"plot\": {\"subtype\": \"Figure\", \"type\": \"Plot\", \"id\": \"33f7ce45-a890-4cd5-92db-05bca4a88bd7\"}, \"ticker\": {\"type\": \"BasicTicker\", \"id\": \"4317ce46-3b68-4660-904f-9cd313a61214\"}, \"dimension\": 1}, \"type\": \"Grid\", \"id\": \"3671da04-57b3-4ce4-bc05-d520e2a06402\"}, {\"attributes\": {}, \"type\": \"BasicTickFormatter\", \"id\": \"9f4e6869-660d-45a7-897a-791eb020f962\"}, {\"attributes\": {\"line_color\": {\"value\": \"black\"}, \"line_alpha\": {\"value\": 1.0}, \"render_mode\": \"css\", \"bottom_units\": \"screen\", \"level\": \"overlay\", \"top_units\": \"screen\", \"fill_alpha\": {\"value\": 0.5}, \"plot\": null, \"left_units\": \"screen\", \"line_dash\": [4, 4], \"line_width\": {\"value\": 2}, \"right_units\": \"screen\", \"fill_color\": {\"value\": \"lightgrey\"}}, \"type\": \"BoxAnnotation\", \"id\": \"41722580-c0d4-4ad5-956b-12003d2e5593\"}, {\"attributes\": {\"line_color\": {\"value\": \"#1f77b4\"}, \"line_alpha\": {\"value\": 0.1}, \"y\": {\"field\": \"y\"}, \"x\": {\"field\": \"x\"}}, \"type\": \"Line\", \"id\": \"b4c6e194-e356-4364-8b02-95ff4cdedb3d\"}, {\"attributes\": {\"line_color\": {\"value\": \"#1f77b4\"}, \"x\": {\"field\": \"x\"}, \"y\": {\"field\": \"y\"}}, \"type\": \"Line\", \"id\": \"72d21787-9842-4e5c-93b7-8d36675993ed\"}, {\"attributes\": {\"plot\": {\"subtype\": \"Figure\", \"type\": \"Plot\", \"id\": \"d42700b2-1e4c-4748-9a60-ae4ebbfbae03\"}}, \"type\": \"WheelZoomTool\", \"id\": \"1d8d6f31-9480-4431-825f-7125342ffb6a\"}, {\"attributes\": {\"plot\": {\"subtype\": \"Figure\", \"type\": \"Plot\", \"id\": \"d42700b2-1e4c-4748-9a60-ae4ebbfbae03\"}, \"formatter\": {\"type\": \"BasicTickFormatter\", \"id\": \"3ddf6eff-d749-48db-898e-2cc74dc3e63c\"}, \"ticker\": {\"type\": \"BasicTicker\", \"id\": \"9e86fae0-3ab9-4eff-a9cc-260fcbd1b20f\"}}, \"type\": \"LinearAxis\", \"id\": \"85b91c78-8cc1-435e-bdd4-9155374a869b\"}, {\"attributes\": {\"plot\": {\"subtype\": \"Figure\", \"type\": \"Plot\", \"id\": \"54717111-6ba5-414e-ad58-856beec5fcbf\"}}, \"type\": \"ResetTool\", \"id\": \"e4fdfdae-ef1a-40c3-80c9-f539e428aeac\"}, {\"attributes\": {\"callback\": null, \"column_names\": [\"y\", \"x\"], \"data\": {\"y\": [-5.1009696288461805, -3.898318944292011, -2.712530112112586, -1.5909659529410793, -0.49754358528851295, 0.502456414711487, 1.517434503735143, 2.7137428745695584, 3.8984616832841708, 5.1011168122395105], \"x\": [-1.0, -0.7777777777777778, -0.5555555555555556, -0.33333333333333337, -0.11111111111111116, 0.11111111111111116, 0.33333333333333326, 0.5555555555555554, 0.7777777777777777, 1.0]}}, \"type\": \"ColumnDataSource\", \"id\": \"4855f0c4-4c53-409a-a1c6-1970d334fc35\"}, {\"attributes\": {\"callback\": null}, \"type\": \"DataRange1d\", \"id\": \"155014a2-28d2-4916-84c1-2912b86fa355\"}, {\"attributes\": {\"plot\": {\"subtype\": \"Figure\", \"type\": \"Plot\", \"id\": \"33f7ce45-a890-4cd5-92db-05bca4a88bd7\"}, \"formatter\": {\"type\": \"BasicTickFormatter\", \"id\": \"3c35a869-19e8-4bae-b9e5-b28a8e994026\"}, \"ticker\": {\"type\": \"BasicTicker\", \"id\": \"4317ce46-3b68-4660-904f-9cd313a61214\"}}, \"type\": \"LinearAxis\", \"id\": \"2afcf67a-b366-402c-aab7-b634b425a41e\"}, {\"attributes\": {\"nonselection_glyph\": {\"type\": \"Line\", \"id\": \"48422694-2aad-4450-a5ac-f1eaae187081\"}, \"data_source\": {\"type\": \"ColumnDataSource\", \"id\": \"920640d5-fca7-487f-8bbb-d4b91df65990\"}, \"selection_glyph\": null, \"hover_glyph\": null, \"glyph\": {\"type\": \"Line\", \"id\": \"afb432c2-0c32-4f6a-bf0b-d2c3283a1688\"}}, \"type\": \"GlyphRenderer\", \"id\": \"7c0c3b7a-7029-4803-bc1c-d49db1626260\"}, {\"attributes\": {\"plot\": {\"subtype\": \"Figure\", \"type\": \"Plot\", \"id\": \"55fea86d-c4c0-45b2-a559-e3f4d311c11b\"}}, \"type\": \"ResetTool\", \"id\": \"061ffb32-2aa9-4a0b-ad50-3a8a7eaebb52\"}, {\"attributes\": {\"plot\": {\"subtype\": \"Figure\", \"type\": \"Plot\", \"id\": \"bfae0124-871a-4b37-8dbd-a255b2a5d1d2\"}, \"formatter\": {\"type\": \"BasicTickFormatter\", \"id\": \"6196f1f9-27b5-4583-b0e0-caf40baeaf9b\"}, \"ticker\": {\"type\": \"BasicTicker\", \"id\": \"de35e9b8-d1b9-4138-aeca-5394feadc175\"}}, \"type\": \"LinearAxis\", \"id\": \"790cb265-625a-4783-8ea2-6730afacd1c0\"}, {\"attributes\": {\"plot\": {\"subtype\": \"Figure\", \"type\": \"Plot\", \"id\": \"54717111-6ba5-414e-ad58-856beec5fcbf\"}}, \"type\": \"PanTool\", \"id\": \"9f9780f3-ba83-4706-bd4d-a210b545045b\"}, {\"attributes\": {\"plot\": {\"subtype\": \"Figure\", \"type\": \"Plot\", \"id\": \"33f7ce45-a890-4cd5-92db-05bca4a88bd7\"}}, \"type\": \"HelpTool\", \"id\": \"4aaa8bd0-931c-46f9-a011-e9f9b94f949c\"}, {\"attributes\": {}, \"type\": \"BasicTickFormatter\", \"id\": \"f83724cd-1d9a-46fc-bb15-9c53bd678271\"}, {\"attributes\": {\"line_color\": {\"value\": \"black\"}, \"line_alpha\": {\"value\": 1.0}, \"render_mode\": \"css\", \"bottom_units\": \"screen\", \"level\": \"overlay\", \"top_units\": \"screen\", \"fill_alpha\": {\"value\": 0.5}, \"plot\": null, \"left_units\": \"screen\", \"line_dash\": [4, 4], \"line_width\": {\"value\": 2}, \"right_units\": \"screen\", \"fill_color\": {\"value\": \"lightgrey\"}}, \"type\": \"BoxAnnotation\", \"id\": \"56c1f7f4-3eba-42dd-a41a-37c6816289ac\"}, {\"attributes\": {}, \"type\": \"ToolEvents\", \"id\": \"93eeb6f6-22a1-496c-9c18-c106c1d649ca\"}, {\"attributes\": {}, \"type\": \"BasicTicker\", \"id\": \"de35e9b8-d1b9-4138-aeca-5394feadc175\"}, {\"attributes\": {\"plot\": {\"subtype\": \"Figure\", \"type\": \"Plot\", \"id\": \"54717111-6ba5-414e-ad58-856beec5fcbf\"}, \"ticker\": {\"type\": \"BasicTicker\", \"id\": \"d573941c-7bf7-43ea-83de-4476b8bdfdcc\"}}, \"type\": \"Grid\", \"id\": \"dcdbb3d1-3765-4c03-83de-c13f7944cb83\"}, {\"attributes\": {\"plot\": {\"subtype\": \"Figure\", \"type\": \"Plot\", \"id\": \"54717111-6ba5-414e-ad58-856beec5fcbf\"}}, \"type\": \"HelpTool\", \"id\": \"900110e4-e9c2-432d-9b2f-6d8716891ed5\"}, {\"attributes\": {\"plot\": {\"subtype\": \"Figure\", \"type\": \"Plot\", \"id\": \"d42700b2-1e4c-4748-9a60-ae4ebbfbae03\"}}, \"type\": \"PanTool\", \"id\": \"404d27ff-678c-46c4-916f-1961d9bcc007\"}, {\"attributes\": {\"callback\": null}, \"type\": \"DataRange1d\", \"id\": \"7e814204-f67a-4312-85f9-51ea831ee9ab\"}, {\"attributes\": {\"nonselection_glyph\": {\"type\": \"Line\", \"id\": \"693f5866-f8e5-4a5c-8bb7-ca432e7ebfef\"}, \"data_source\": {\"type\": \"ColumnDataSource\", \"id\": \"7d5b4efc-4c3d-469e-8e0e-197bc96a4302\"}, \"selection_glyph\": null, \"hover_glyph\": null, \"glyph\": {\"type\": \"Line\", \"id\": \"8b4ca8a9-cd54-410a-8c30-0ca718e3c2ee\"}}, \"type\": \"GlyphRenderer\", \"id\": \"f8a94e38-6613-43d0-bf06-07b9342dd28d\"}, {\"attributes\": {\"plot\": {\"subtype\": \"Figure\", \"type\": \"Plot\", \"id\": \"55fea86d-c4c0-45b2-a559-e3f4d311c11b\"}, \"overlay\": {\"type\": \"BoxAnnotation\", \"id\": \"56c1f7f4-3eba-42dd-a41a-37c6816289ac\"}}, \"type\": \"BoxZoomTool\", \"id\": \"2dabc6d6-d3ca-4bb8-abcd-4f8e6b168d81\"}, {\"attributes\": {\"line_color\": {\"value\": \"#1f77b4\"}, \"line_alpha\": {\"value\": 0.1}, \"y\": {\"field\": \"y\"}, \"x\": {\"field\": \"x\"}}, \"type\": \"Line\", \"id\": \"903987af-702b-415f-9a1b-ecb1a5a58042\"}, {\"attributes\": {\"line_color\": {\"value\": \"#1f77b4\"}, \"line_alpha\": {\"value\": 0.1}, \"y\": {\"field\": \"y\"}, \"x\": {\"field\": \"x\"}}, \"type\": \"Line\", \"id\": \"3604337a-604e-4f75-abc2-2cf036d701a4\"}, {\"attributes\": {\"line_color\": {\"value\": \"#1f77b4\"}, \"line_alpha\": {\"value\": 0.1}, \"y\": {\"field\": \"y\"}, \"x\": {\"field\": \"x\"}}, \"type\": \"Line\", \"id\": \"ab3d3cbe-8e1f-410e-97c2-299276fb0539\"}, {\"attributes\": {\"nonselection_glyph\": {\"type\": \"Line\", \"id\": \"621ea905-8742-43ab-9cf7-97f4f99dd928\"}, \"data_source\": {\"type\": \"ColumnDataSource\", \"id\": \"53c534ba-80e9-4591-b58b-7a6bb376bf9a\"}, \"selection_glyph\": null, \"hover_glyph\": null, \"glyph\": {\"type\": \"Line\", \"id\": \"83dc60e9-27f4-445a-81fa-56d87bb5cf25\"}}, \"type\": \"GlyphRenderer\", \"id\": \"2bf81e42-7f75-43b9-8ae1-6c0f42c59742\"}, {\"attributes\": {\"callback\": null}, \"type\": \"DataRange1d\", \"id\": \"69d71b2f-08c1-47a1-becb-02d05a09f683\"}, {\"attributes\": {\"plot\": {\"subtype\": \"Figure\", \"type\": \"Plot\", \"id\": \"d42700b2-1e4c-4748-9a60-ae4ebbfbae03\"}}, \"type\": \"ResizeTool\", \"id\": \"be509239-feec-42ba-b3ef-93ccb79fa847\"}, {\"attributes\": {\"x_range\": {\"type\": \"DataRange1d\", \"id\": \"ba980dd6-d270-45a4-9e50-25d6e2874966\"}, \"y_range\": {\"type\": \"DataRange1d\", \"id\": \"b86a37ab-cf1e-432e-b730-1eb95048581a\"}, \"renderers\": [{\"type\": \"LinearAxis\", \"id\": \"ae66d980-154e-4112-b69e-80237b9155d7\"}, {\"type\": \"Grid\", \"id\": \"ae9df9cc-50d3-4847-a0ba-67f5ddec3c81\"}, {\"type\": \"LinearAxis\", \"id\": \"790cb265-625a-4783-8ea2-6730afacd1c0\"}, {\"type\": \"Grid\", \"id\": \"84e42640-2fd8-4c0b-94e2-38212b4ac62b\"}, {\"type\": \"BoxAnnotation\", \"id\": \"41722580-c0d4-4ad5-956b-12003d2e5593\"}, {\"type\": \"GlyphRenderer\", \"id\": \"89338dff-16dc-4a1e-aacd-7c474843c985\"}, {\"type\": \"GlyphRenderer\", \"id\": \"d6c40c22-e30c-417c-8e23-b4486e469a93\"}], \"below\": [{\"type\": \"LinearAxis\", \"id\": \"ae66d980-154e-4112-b69e-80237b9155d7\"}], \"tool_events\": {\"type\": \"ToolEvents\", \"id\": \"93eeb6f6-22a1-496c-9c18-c106c1d649ca\"}, \"tools\": [{\"type\": \"PanTool\", \"id\": \"b941fd61-5b4a-487d-aec1-59396c5d1160\"}, {\"type\": \"WheelZoomTool\", \"id\": \"99c49fd7-5cb1-4ff2-9625-8cb96ae57016\"}, {\"type\": \"BoxZoomTool\", \"id\": \"242179f8-b7e5-4a6a-80a2-7eca29d80e0c\"}, {\"type\": \"PreviewSaveTool\", \"id\": \"f9b820d0-0132-4de1-a385-d6f8aa43e224\"}, {\"type\": \"ResizeTool\", \"id\": \"2fcf585c-ba97-4775-b9dd-7b9073aaf043\"}, {\"type\": \"ResetTool\", \"id\": \"a9d9abb1-d916-44e0-8b04-f3753bb0bf70\"}, {\"type\": \"HelpTool\", \"id\": \"c078161a-f0bd-4ef8-aace-91519c06b672\"}], \"left\": [{\"type\": \"LinearAxis\", \"id\": \"790cb265-625a-4783-8ea2-6730afacd1c0\"}]}, \"type\": \"Plot\", \"id\": \"bfae0124-871a-4b37-8dbd-a255b2a5d1d2\", \"subtype\": \"Figure\"}, {\"attributes\": {\"plot\": {\"subtype\": \"Figure\", \"type\": \"Plot\", \"id\": \"bfae0124-871a-4b37-8dbd-a255b2a5d1d2\"}}, \"type\": \"WheelZoomTool\", \"id\": \"99c49fd7-5cb1-4ff2-9625-8cb96ae57016\"}, {\"attributes\": {\"line_color\": {\"value\": \"#1f77b4\"}, \"x\": {\"field\": \"x\"}, \"y\": {\"field\": \"y\"}}, \"type\": \"Line\", \"id\": \"85bbfa8f-c8df-4039-a80d-4dafc3611786\"}, {\"attributes\": {}, \"type\": \"BasicTicker\", \"id\": \"b1569a6b-026f-4c22-931a-0fba737e7d4f\"}, {\"attributes\": {\"plot\": {\"subtype\": \"Figure\", \"type\": \"Plot\", \"id\": \"33f7ce45-a890-4cd5-92db-05bca4a88bd7\"}}, \"type\": \"WheelZoomTool\", \"id\": \"4925c9e4-666e-41ba-b538-bce6d271d1ed\"}, {\"attributes\": {\"callback\": null, \"column_names\": [\"y\", \"x\"], \"data\": {\"y\": [-10.122869519450573, -7.8730870432880895, -5.623304567125606, -3.373522090963122, -1.1237396148006373, 1.1260428613618478, 3.3758253375243306, 5.6256078136868135, 7.875390289849299, 10.125172766011785], \"x\": [-1.0, -0.7777777777777778, -0.5555555555555556, -0.33333333333333337, -0.11111111111111116, 0.11111111111111116, 0.33333333333333326, 0.5555555555555554, 0.7777777777777777, 1.0]}}, \"type\": \"ColumnDataSource\", \"id\": \"ed1a7f54-8b4e-4e9c-8b68-56f17afe87c5\"}, {\"attributes\": {\"plot\": {\"subtype\": \"Figure\", \"type\": \"Plot\", \"id\": \"55fea86d-c4c0-45b2-a559-e3f4d311c11b\"}}, \"type\": \"PreviewSaveTool\", \"id\": \"090f5e5e-3b36-4c68-9442-b9e3ccbcc321\"}, {\"attributes\": {\"callback\": null, \"column_names\": [\"y\", \"x\"], \"data\": {\"y\": [-9.975386994790284, -7.7583721558488685, -5.541357316907453, -3.3243424779660367, -1.1073276390246212, 1.1096871999167954, 3.3267020388582105, 5.543716877799625, 7.7607317167410415, 9.977746555682458], \"x\": [-4.0, -3.111111111111111, -2.2222222222222223, -1.3333333333333335, -0.44444444444444464, 0.44444444444444464, 1.333333333333333, 2.2222222222222214, 3.1111111111111107, 4.0]}}, \"type\": \"ColumnDataSource\", \"id\": \"38689f28-0d2b-45d8-8235-4fd9ef7618a9\"}, {\"attributes\": {\"callback\": null, \"column_names\": [\"y\", \"x\"], \"data\": {\"y\": [-10.19986017329298, -7.800604053321905, -5.497543585288513, -3.497543585288513, -1.1992956792864264, 1.199860281631024, 3.502456414711487, 5.502456414711487, 7.801164555535589, 10.200425642694796], \"x\": [-1.0, -0.7777777777777778, -0.5555555555555556, -0.33333333333333337, -0.11111111111111116, 0.11111111111111116, 0.33333333333333326, 0.5555555555555554, 0.7777777777777777, 1.0]}}, \"type\": \"ColumnDataSource\", \"id\": \"53c534ba-80e9-4591-b58b-7a6bb376bf9a\"}, {\"attributes\": {\"plot\": {\"subtype\": \"Figure\", \"type\": \"Plot\", \"id\": \"bfae0124-871a-4b37-8dbd-a255b2a5d1d2\"}, \"formatter\": {\"type\": \"BasicTickFormatter\", \"id\": \"3e66a687-d2c0-4c65-9bc8-35222aa4dc6c\"}, \"ticker\": {\"type\": \"BasicTicker\", \"id\": \"beca5df0-42b9-4675-9da0-56e636544884\"}}, \"type\": \"LinearAxis\", \"id\": \"ae66d980-154e-4112-b69e-80237b9155d7\"}, {\"attributes\": {}, \"type\": \"BasicTickFormatter\", \"id\": \"de73b8b9-a2f6-4470-81f4-04f9e5b05b4e\"}, {\"attributes\": {}, \"type\": \"BasicTicker\", \"id\": \"b2379bbf-3d66-4588-b39d-747062727f54\"}, {\"attributes\": {}, \"type\": \"BasicTickFormatter\", \"id\": \"3e66a687-d2c0-4c65-9bc8-35222aa4dc6c\"}, {\"attributes\": {\"plot\": {\"subtype\": \"Figure\", \"type\": \"Plot\", \"id\": \"54717111-6ba5-414e-ad58-856beec5fcbf\"}, \"ticker\": {\"type\": \"BasicTicker\", \"id\": \"b2379bbf-3d66-4588-b39d-747062727f54\"}, \"dimension\": 1}, \"type\": \"Grid\", \"id\": \"536406df-c11a-4ec1-b0ed-fbd783bd89bc\"}, {\"attributes\": {\"line_color\": {\"value\": \"#1f77b4\"}, \"line_alpha\": {\"value\": 0.1}, \"y\": {\"field\": \"y\"}, \"x\": {\"field\": \"x\"}}, \"type\": \"Line\", \"id\": \"693f5866-f8e5-4a5c-8bb7-ca432e7ebfef\"}, {\"attributes\": {\"callback\": null}, \"type\": \"DataRange1d\", \"id\": \"ba980dd6-d270-45a4-9e50-25d6e2874966\"}, {\"attributes\": {}, \"type\": \"BasicTicker\", \"id\": \"beca5df0-42b9-4675-9da0-56e636544884\"}, {\"attributes\": {\"nonselection_glyph\": {\"type\": \"Line\", \"id\": \"d13b1bd6-b3c6-48fb-a5af-c726359b10d3\"}, \"data_source\": {\"type\": \"ColumnDataSource\", \"id\": \"38689f28-0d2b-45d8-8235-4fd9ef7618a9\"}, \"selection_glyph\": null, \"hover_glyph\": null, \"glyph\": {\"type\": \"Line\", \"id\": \"1f1a73a6-454e-45d8-ad20-458900c440a8\"}}, \"type\": \"GlyphRenderer\", \"id\": \"088e31a2-8675-41a5-8b6c-04acce2a6613\"}, {\"attributes\": {\"callback\": null}, \"type\": \"DataRange1d\", \"id\": \"bc8900a5-aa06-4551-8f21-371d3364cebd\"}, {\"attributes\": {\"nonselection_glyph\": {\"type\": \"Line\", \"id\": \"903987af-702b-415f-9a1b-ecb1a5a58042\"}, \"data_source\": {\"type\": \"ColumnDataSource\", \"id\": \"eb905e72-932c-485b-a525-2b28e135c740\"}, \"selection_glyph\": null, \"hover_glyph\": null, \"glyph\": {\"type\": \"Line\", \"id\": \"85bbfa8f-c8df-4039-a80d-4dafc3611786\"}}, \"type\": \"GlyphRenderer\", \"id\": \"b43d14dc-8d42-4c59-b786-1eaffb5ad88f\"}, {\"attributes\": {\"line_color\": {\"value\": \"#1f77b4\"}, \"x\": {\"field\": \"x\"}, \"y\": {\"field\": \"y\"}}, \"type\": \"Line\", \"id\": \"0b7edfcd-d6b3-4e3f-a3c5-9dc91950eb55\"}, {\"attributes\": {\"x_range\": {\"type\": \"DataRange1d\", \"id\": \"eaa860fb-e913-405d-9bd7-86cc4340b648\"}, \"y_range\": {\"type\": \"DataRange1d\", \"id\": \"669a71b4-8c67-495b-b317-babebe581ee6\"}, \"renderers\": [{\"type\": \"LinearAxis\", \"id\": \"8c172f67-93cf-47ef-ae22-a8ebba0b5419\"}, {\"type\": \"Grid\", \"id\": \"43157a68-8f33-4c84-a0f0-79be864a4a43\"}, {\"type\": \"LinearAxis\", \"id\": \"2afcf67a-b366-402c-aab7-b634b425a41e\"}, {\"type\": \"Grid\", \"id\": \"3671da04-57b3-4ce4-bc05-d520e2a06402\"}, {\"type\": \"BoxAnnotation\", \"id\": \"97591d10-42df-4338-ad7f-a015e2910401\"}, {\"type\": \"GlyphRenderer\", \"id\": \"7c0c3b7a-7029-4803-bc1c-d49db1626260\"}, {\"type\": \"GlyphRenderer\", \"id\": \"f8a94e38-6613-43d0-bf06-07b9342dd28d\"}], \"below\": [{\"type\": \"LinearAxis\", \"id\": \"8c172f67-93cf-47ef-ae22-a8ebba0b5419\"}], \"tool_events\": {\"type\": \"ToolEvents\", \"id\": \"688ada87-840b-4e10-b25e-e9db373f772c\"}, \"tools\": [{\"type\": \"PanTool\", \"id\": \"e2e7c037-65ae-4ef1-9bc0-bb79d1f31802\"}, {\"type\": \"WheelZoomTool\", \"id\": \"4925c9e4-666e-41ba-b538-bce6d271d1ed\"}, {\"type\": \"BoxZoomTool\", \"id\": \"eb9fe946-f6a8-4307-9535-27b0c32ddd4d\"}, {\"type\": \"PreviewSaveTool\", \"id\": \"eaa18a8b-3d08-49ac-a783-3ced61f0a5e1\"}, {\"type\": \"ResizeTool\", \"id\": \"dd93a485-7a52-4438-b8a9-a77290dbe252\"}, {\"type\": \"ResetTool\", \"id\": \"5818a1a7-06b4-477c-9d60-0eb37d3406b6\"}, {\"type\": \"HelpTool\", \"id\": \"4aaa8bd0-931c-46f9-a011-e9f9b94f949c\"}], \"left\": [{\"type\": \"LinearAxis\", \"id\": \"2afcf67a-b366-402c-aab7-b634b425a41e\"}]}, \"type\": \"Plot\", \"id\": \"33f7ce45-a890-4cd5-92db-05bca4a88bd7\", \"subtype\": \"Figure\"}, {\"attributes\": {\"plot\": {\"subtype\": \"Figure\", \"type\": \"Plot\", \"id\": \"55fea86d-c4c0-45b2-a559-e3f4d311c11b\"}, \"ticker\": {\"type\": \"BasicTicker\", \"id\": \"0957e482-cfed-48c2-a91a-e63a6694a1f2\"}}, \"type\": \"Grid\", \"id\": \"67526f02-e677-4531-981d-bfdc0aac8847\"}, {\"attributes\": {\"line_color\": {\"value\": \"#1f77b4\"}, \"line_alpha\": {\"value\": 0.1}, \"y\": {\"field\": \"y\"}, \"x\": {\"field\": \"x\"}}, \"type\": \"Line\", \"id\": \"9a2f5f09-8c69-4f04-ba64-cabaa31c2969\"}, {\"attributes\": {\"plot\": {\"subtype\": \"Figure\", \"type\": \"Plot\", \"id\": \"33f7ce45-a890-4cd5-92db-05bca4a88bd7\"}}, \"type\": \"PreviewSaveTool\", \"id\": \"eaa18a8b-3d08-49ac-a783-3ced61f0a5e1\"}, {\"attributes\": {\"plot\": {\"subtype\": \"Figure\", \"type\": \"Plot\", \"id\": \"54717111-6ba5-414e-ad58-856beec5fcbf\"}}, \"type\": \"ResizeTool\", \"id\": \"a38e182c-d0d1-40ec-bb89-6d0bba018924\"}, {\"attributes\": {}, \"type\": \"BasicTickFormatter\", \"id\": \"17fd89dd-379f-4643-aa13-510ec1c2accf\"}, {\"attributes\": {\"plot\": {\"subtype\": \"Figure\", \"type\": \"Plot\", \"id\": \"bfae0124-871a-4b37-8dbd-a255b2a5d1d2\"}}, \"type\": \"HelpTool\", \"id\": \"c078161a-f0bd-4ef8-aace-91519c06b672\"}, {\"attributes\": {\"plot\": {\"subtype\": \"Figure\", \"type\": \"Plot\", \"id\": \"bfae0124-871a-4b37-8dbd-a255b2a5d1d2\"}, \"ticker\": {\"type\": \"BasicTicker\", \"id\": \"beca5df0-42b9-4675-9da0-56e636544884\"}}, \"type\": \"Grid\", \"id\": \"ae9df9cc-50d3-4847-a0ba-67f5ddec3c81\"}, {\"attributes\": {}, \"type\": \"ToolEvents\", \"id\": \"5c7c1086-51d5-4c4f-a2b3-e498ed3b497d\"}]}, \"title\": \"Bokeh Application\"}};\n",
       "            var render_items = [{\"notebook_comms_target\": \"ee533238-5eda-4397-adc5-88fe596ae911\", \"docid\": \"3ab81016-2f03-4383-a986-16b5cce39a61\", \"elementid\": \"d39ca342-9ca0-4088-980d-7a6212753a85\", \"modelid\": \"bfae0124-871a-4b37-8dbd-a255b2a5d1d2\"}];\n",
       "            \n",
       "            Bokeh.embed.embed_items(docs_json, render_items);\n",
       "        });\n",
       "      },\n",
       "      function(Bokeh) {\n",
       "      }\n",
       "    ];\n",
       "  \n",
       "    function run_inline_js() {\n",
       "      for (var i = 0; i < inline_js.length; i++) {\n",
       "        inline_js[i](window.Bokeh);\n",
       "      }\n",
       "    }\n",
       "  \n",
       "    if (window._bokeh_is_loading === 0) {\n",
       "      console.log(\"Bokeh: BokehJS loaded, going straight to plotting\");\n",
       "      run_inline_js();\n",
       "    } else {\n",
       "      load_libs(js_urls, function() {\n",
       "        console.log(\"Bokeh: BokehJS plotting callback run at\", now());\n",
       "        run_inline_js();\n",
       "      });\n",
       "    }\n",
       "  }(this));\n",
       "</script>"
      ]
     },
     "metadata": {},
     "output_type": "display_data"
    },
    {
     "data": {
      "text/plain": [
       "<bokeh.io._CommsHandle at 0x116821250>"
      ]
     },
     "execution_count": 22,
     "metadata": {},
     "output_type": "execute_result"
    }
   ],
   "source": [
    "plt = bplot.figure()\n",
    "plt.line(tilts_asec, measuredTilts)\n",
    "plt.line(tilts_asec, pxlScale*tilts_asec + bias)\n",
    "bplot.show(plt)"
   ]
  },
  {
   "cell_type": "code",
   "execution_count": null,
   "metadata": {
    "collapsed": true
   },
   "outputs": [],
   "source": []
  },
  {
   "cell_type": "code",
   "execution_count": null,
   "metadata": {
    "collapsed": true
   },
   "outputs": [],
   "source": []
  }
 ],
 "metadata": {
  "kernelspec": {
   "display_name": "Python 2",
   "language": "python",
   "name": "python2"
  },
  "language_info": {
   "codemirror_mode": {
    "name": "ipython",
    "version": 2
   },
   "file_extension": ".py",
   "mimetype": "text/x-python",
   "name": "python",
   "nbconvert_exporter": "python",
   "pygments_lexer": "ipython2",
   "version": "2.7.11"
  }
 },
 "nbformat": 4,
 "nbformat_minor": 0
}
