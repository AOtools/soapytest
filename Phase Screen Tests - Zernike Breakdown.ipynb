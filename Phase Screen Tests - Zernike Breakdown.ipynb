{
 "cells": [
  {
   "cell_type": "code",
   "execution_count": 1,
   "metadata": {
    "collapsed": false,
    "deletable": true,
    "editable": true
   },
   "outputs": [],
   "source": [
    "import numpy\n",
    "%matplotlib nbagg\n",
    "from matplotlib import pyplot\n",
    "from tqdm import tqdm, tnrange\n",
    "from astropy.io import fits\n",
    "\n",
    "import aotools\n",
    "from aotools.turbulence import infinitephasescreen_fried, phasescreen, infinitephasescreen\n"
   ]
  },
  {
   "cell_type": "markdown",
   "metadata": {
    "deletable": true,
    "editable": true
   },
   "source": [
    "# Test the Zernike power spectrum of the Fried infinite phase screen"
   ]
  },
  {
   "cell_type": "code",
   "execution_count": 2,
   "metadata": {
    "collapsed": false,
    "deletable": true,
    "editable": true
   },
   "outputs": [],
   "source": [
    "n_zerns = 60\n",
    "nx_size = 256\n",
    "D = 4.2\n",
    "pxl_scale = D/nx_size\n",
    "r0 = 0.164\n",
    "L0 = 100\n",
    "wind_speed = 10 #m/s - just arbitrarily set\n",
    "n_tests = 16\n",
    "n_scrns = 10000\n",
    "noll = fits.getdata(\"resources/noll.fits\").diagonal() * (D/r0)**(5./3)\n",
    "stencil_length_factor = 32"
   ]
  },
  {
   "cell_type": "code",
   "execution_count": 3,
   "metadata": {
    "collapsed": false,
    "deletable": true,
    "editable": true
   },
   "outputs": [
    {
     "name": "stdout",
     "output_type": "stream",
     "text": [
      "Make Zernikes...\n"
     ]
    }
   ],
   "source": [
    "# Create arrary of zernikes\n",
    "print(\"Make Zernikes...\")\n",
    "Zs = aotools.zernikeArray(n_zerns, nx_size)"
   ]
  },
  {
   "cell_type": "code",
   "execution_count": 4,
   "metadata": {
    "collapsed": false,
    "deletable": true,
    "editable": true,
    "scrolled": false
   },
   "outputs": [
    {
     "name": "stdout",
     "output_type": "stream",
     "text": [
      "Run tests\n"
     ]
    },
    {
     "data": {
      "application/vnd.jupyter.widget-view+json": {
       "model_id": "a992b224a8764763a9576c6025fef259"
      }
     },
     "metadata": {},
     "output_type": "display_data"
    },
    {
     "name": "stdout",
     "output_type": "stream",
     "text": [
      "Init phase screen\n",
      "New size: 257\n",
      "Total Stencil Size: 67.4625m\n"
     ]
    },
    {
     "data": {
      "application/vnd.jupyter.widget-view+json": {
       "model_id": "00a3fa00ff19466aa52b1dd5682d688a"
      }
     },
     "metadata": {},
     "output_type": "display_data"
    },
    {
     "name": "stderr",
     "output_type": "stream",
     "text": [
      "C:\\Users\\apr\\CfAI\\aotools\\aotools\\turbulence\\infinitephasescreen_fried.py:221: RuntimeWarning: overflow encountered in add\n",
      "  new_row = self.A_mat.dot(stencil_data - reference_value) + self.B_mat.dot(random_data) + reference_value\n",
      "C:\\ProgramData\\Anaconda3\\lib\\site-packages\\ipykernel\\__main__.py:31: RuntimeWarning: overflow encountered in multiply\n",
      "C:\\ProgramData\\Anaconda3\\lib\\site-packages\\ipykernel\\__main__.py:31: RuntimeWarning: invalid value encountered in multiply\n",
      "C:\\Users\\apr\\CfAI\\aotools\\aotools\\turbulence\\infinitephasescreen_fried.py:221: RuntimeWarning: overflow encountered in subtract\n",
      "  new_row = self.A_mat.dot(stencil_data - reference_value) + self.B_mat.dot(random_data) + reference_value\n"
     ]
    },
    {
     "name": "stdout",
     "output_type": "stream",
     "text": [
      "Init phase screen\n",
      "New size: 257\n",
      "Total Stencil Size: 67.4625m\n"
     ]
    },
    {
     "data": {
      "application/vnd.jupyter.widget-view+json": {
       "model_id": "2d92503299a547c48c3900d9cb50f4a2"
      }
     },
     "metadata": {},
     "output_type": "display_data"
    },
    {
     "name": "stdout",
     "output_type": "stream",
     "text": [
      "Init phase screen\n",
      "New size: 257\n",
      "Total Stencil Size: 67.4625m\n"
     ]
    },
    {
     "data": {
      "application/vnd.jupyter.widget-view+json": {
       "model_id": "b2116b320af044c2b05c271f3edc7fcc"
      }
     },
     "metadata": {},
     "output_type": "display_data"
    },
    {
     "name": "stdout",
     "output_type": "stream",
     "text": [
      "Init phase screen\n",
      "New size: 257\n",
      "Total Stencil Size: 67.4625m\n"
     ]
    },
    {
     "data": {
      "application/vnd.jupyter.widget-view+json": {
       "model_id": "608e16692bcd4873b6b031633e55792c"
      }
     },
     "metadata": {},
     "output_type": "display_data"
    },
    {
     "name": "stdout",
     "output_type": "stream",
     "text": [
      "Init phase screen\n",
      "New size: 257\n",
      "Total Stencil Size: 67.4625m\n"
     ]
    },
    {
     "data": {
      "application/vnd.jupyter.widget-view+json": {
       "model_id": "60b7a77ba87f470a9d620f21d8388161"
      }
     },
     "metadata": {},
     "output_type": "display_data"
    },
    {
     "name": "stdout",
     "output_type": "stream",
     "text": [
      "Init phase screen\n",
      "New size: 257\n",
      "Total Stencil Size: 67.4625m\n"
     ]
    },
    {
     "data": {
      "application/vnd.jupyter.widget-view+json": {
       "model_id": "96be804c3f964981a868936f00306957"
      }
     },
     "metadata": {},
     "output_type": "display_data"
    },
    {
     "name": "stderr",
     "output_type": "stream",
     "text": [
      "C:\\Users\\apr\\CfAI\\aotools\\aotools\\turbulence\\infinitephasescreen_fried.py:221: RuntimeWarning: invalid value encountered in subtract\n",
      "  new_row = self.A_mat.dot(stencil_data - reference_value) + self.B_mat.dot(random_data) + reference_value\n"
     ]
    },
    {
     "name": "stdout",
     "output_type": "stream",
     "text": [
      "Init phase screen\n",
      "New size: 257\n",
      "Total Stencil Size: 67.4625m\n"
     ]
    },
    {
     "data": {
      "application/vnd.jupyter.widget-view+json": {
       "model_id": "6d9328d96dda483b8420883d12503bd1"
      }
     },
     "metadata": {},
     "output_type": "display_data"
    },
    {
     "name": "stdout",
     "output_type": "stream",
     "text": [
      "Init phase screen\n",
      "New size: 257\n",
      "Total Stencil Size: 67.4625m\n"
     ]
    },
    {
     "data": {
      "application/vnd.jupyter.widget-view+json": {
       "model_id": "f03844131e674e838f85a21d2dc535a3"
      }
     },
     "metadata": {},
     "output_type": "display_data"
    },
    {
     "name": "stdout",
     "output_type": "stream",
     "text": [
      "Init phase screen\n",
      "New size: 257\n",
      "Total Stencil Size: 67.4625m\n"
     ]
    },
    {
     "data": {
      "application/vnd.jupyter.widget-view+json": {
       "model_id": "3538dbbec5414d32a0178c3c74719117"
      }
     },
     "metadata": {},
     "output_type": "display_data"
    },
    {
     "name": "stdout",
     "output_type": "stream",
     "text": [
      "Init phase screen\n",
      "New size: 257\n",
      "Total Stencil Size: 67.4625m\n"
     ]
    },
    {
     "data": {
      "application/vnd.jupyter.widget-view+json": {
       "model_id": "0873f69e192f4f5bb22373ae6eaa01f1"
      }
     },
     "metadata": {},
     "output_type": "display_data"
    },
    {
     "name": "stdout",
     "output_type": "stream",
     "text": [
      "Init phase screen\n",
      "New size: 257\n",
      "Total Stencil Size: 67.4625m\n"
     ]
    },
    {
     "data": {
      "application/vnd.jupyter.widget-view+json": {
       "model_id": "6c936532d7a74ef4bb77929e6c021043"
      }
     },
     "metadata": {},
     "output_type": "display_data"
    },
    {
     "name": "stdout",
     "output_type": "stream",
     "text": [
      "Init phase screen\n",
      "New size: 257\n",
      "Total Stencil Size: 67.4625m\n"
     ]
    },
    {
     "data": {
      "application/vnd.jupyter.widget-view+json": {
       "model_id": "039503681f7340aaac1548a42c69c965"
      }
     },
     "metadata": {},
     "output_type": "display_data"
    },
    {
     "name": "stdout",
     "output_type": "stream",
     "text": [
      "Init phase screen\n",
      "New size: 257\n",
      "Total Stencil Size: 67.4625m\n"
     ]
    },
    {
     "data": {
      "application/vnd.jupyter.widget-view+json": {
       "model_id": "948b4f44f03f49deaa18c3c43516b3dd"
      }
     },
     "metadata": {},
     "output_type": "display_data"
    },
    {
     "name": "stdout",
     "output_type": "stream",
     "text": [
      "Init phase screen\n",
      "New size: 257\n",
      "Total Stencil Size: 67.4625m\n"
     ]
    },
    {
     "data": {
      "application/vnd.jupyter.widget-view+json": {
       "model_id": "95647f82ce834239b8a731d6c1a0e657"
      }
     },
     "metadata": {},
     "output_type": "display_data"
    },
    {
     "name": "stdout",
     "output_type": "stream",
     "text": [
      "Init phase screen\n",
      "New size: 257\n",
      "Total Stencil Size: 67.4625m\n"
     ]
    },
    {
     "data": {
      "application/vnd.jupyter.widget-view+json": {
       "model_id": "9e5ffa31373c4459b46913b1a5bdddfd"
      }
     },
     "metadata": {},
     "output_type": "display_data"
    },
    {
     "name": "stdout",
     "output_type": "stream",
     "text": [
      "Init phase screen\n",
      "New size: 257\n",
      "Total Stencil Size: 67.4625m\n"
     ]
    },
    {
     "data": {
      "application/vnd.jupyter.widget-view+json": {
       "model_id": "4b4f2931c32b432e8798f794c388a980"
      }
     },
     "metadata": {},
     "output_type": "display_data"
    },
    {
     "name": "stdout",
     "output_type": "stream",
     "text": [
      "\n"
     ]
    }
   ],
   "source": [
    "\n",
    "stencil_length_factor = 16\n",
    "\n",
    "\n",
    "time_step = pxl_scale/wind_speed # This is timestep, as one pixel added on each iteration\n",
    "\n",
    "\n",
    "print(\"Run tests\")\n",
    "z_coeffs_inf_f = numpy.zeros((n_tests, n_scrns, n_zerns))\n",
    "# fig = pyplot.figure()\n",
    "\n",
    "for n in tnrange(n_tests):\n",
    "                              \n",
    "    print(\"Init phase screen\")\n",
    "    phase_screen = infinitephasescreen_fried.PhaseScreen(nx_size, pxl_scale, r0, L0, stencil_length_factor=stencil_length_factor)\n",
    "\n",
    "    print(\"Total Stencil Size: {}m\".format(stencil_length_factor*phase_screen.nx_size * pxl_scale))\n",
    "    for i in tnrange(n_scrns):\n",
    "        \n",
    "        # Go in all directions\n",
    "        phase_screen.addRow()\n",
    "        if n%4 == 0:\n",
    "            scrn = phase_screen.scrn\n",
    "        elif n%4 == 1:\n",
    "            scrn = phase_screen.scrn.T\n",
    "        elif n%4 == 2:\n",
    "            scrn = phase_screen.scrn[::-1]\n",
    "        else:\n",
    "            scrn = phase_screen.scrn[::-1].T\n",
    "            \n",
    "        z_coeffs_inf_f[n, i] = (scrn * Zs).sum((-1, -2))/(Zs[0].sum())\n",
    "    \n",
    "#         pyplot.cla()\n",
    "#         pyplot.imshow(scrn)\n",
    "#         fig.canvas.draw()\n",
    "    \n",
    "z_vars_inf_f = z_coeffs_inf_f.var(1)\n"
   ]
  },
  {
   "cell_type": "code",
   "execution_count": 8,
   "metadata": {
    "collapsed": false,
    "deletable": true,
    "editable": true
   },
   "outputs": [
    {
     "data": {
      "application/javascript": [
       "/* Put everything inside the global mpl namespace */\n",
       "window.mpl = {};\n",
       "\n",
       "\n",
       "mpl.get_websocket_type = function() {\n",
       "    if (typeof(WebSocket) !== 'undefined') {\n",
       "        return WebSocket;\n",
       "    } else if (typeof(MozWebSocket) !== 'undefined') {\n",
       "        return MozWebSocket;\n",
       "    } else {\n",
       "        alert('Your browser does not have WebSocket support.' +\n",
       "              'Please try Chrome, Safari or Firefox ≥ 6. ' +\n",
       "              'Firefox 4 and 5 are also supported but you ' +\n",
       "              'have to enable WebSockets in about:config.');\n",
       "    };\n",
       "}\n",
       "\n",
       "mpl.figure = function(figure_id, websocket, ondownload, parent_element) {\n",
       "    this.id = figure_id;\n",
       "\n",
       "    this.ws = websocket;\n",
       "\n",
       "    this.supports_binary = (this.ws.binaryType != undefined);\n",
       "\n",
       "    if (!this.supports_binary) {\n",
       "        var warnings = document.getElementById(\"mpl-warnings\");\n",
       "        if (warnings) {\n",
       "            warnings.style.display = 'block';\n",
       "            warnings.textContent = (\n",
       "                \"This browser does not support binary websocket messages. \" +\n",
       "                    \"Performance may be slow.\");\n",
       "        }\n",
       "    }\n",
       "\n",
       "    this.imageObj = new Image();\n",
       "\n",
       "    this.context = undefined;\n",
       "    this.message = undefined;\n",
       "    this.canvas = undefined;\n",
       "    this.rubberband_canvas = undefined;\n",
       "    this.rubberband_context = undefined;\n",
       "    this.format_dropdown = undefined;\n",
       "\n",
       "    this.image_mode = 'full';\n",
       "\n",
       "    this.root = $('<div/>');\n",
       "    this._root_extra_style(this.root)\n",
       "    this.root.attr('style', 'display: inline-block');\n",
       "\n",
       "    $(parent_element).append(this.root);\n",
       "\n",
       "    this._init_header(this);\n",
       "    this._init_canvas(this);\n",
       "    this._init_toolbar(this);\n",
       "\n",
       "    var fig = this;\n",
       "\n",
       "    this.waiting = false;\n",
       "\n",
       "    this.ws.onopen =  function () {\n",
       "            fig.send_message(\"supports_binary\", {value: fig.supports_binary});\n",
       "            fig.send_message(\"send_image_mode\", {});\n",
       "            if (mpl.ratio != 1) {\n",
       "                fig.send_message(\"set_dpi_ratio\", {'dpi_ratio': mpl.ratio});\n",
       "            }\n",
       "            fig.send_message(\"refresh\", {});\n",
       "        }\n",
       "\n",
       "    this.imageObj.onload = function() {\n",
       "            if (fig.image_mode == 'full') {\n",
       "                // Full images could contain transparency (where diff images\n",
       "                // almost always do), so we need to clear the canvas so that\n",
       "                // there is no ghosting.\n",
       "                fig.context.clearRect(0, 0, fig.canvas.width, fig.canvas.height);\n",
       "            }\n",
       "            fig.context.drawImage(fig.imageObj, 0, 0);\n",
       "        };\n",
       "\n",
       "    this.imageObj.onunload = function() {\n",
       "        this.ws.close();\n",
       "    }\n",
       "\n",
       "    this.ws.onmessage = this._make_on_message_function(this);\n",
       "\n",
       "    this.ondownload = ondownload;\n",
       "}\n",
       "\n",
       "mpl.figure.prototype._init_header = function() {\n",
       "    var titlebar = $(\n",
       "        '<div class=\"ui-dialog-titlebar ui-widget-header ui-corner-all ' +\n",
       "        'ui-helper-clearfix\"/>');\n",
       "    var titletext = $(\n",
       "        '<div class=\"ui-dialog-title\" style=\"width: 100%; ' +\n",
       "        'text-align: center; padding: 3px;\"/>');\n",
       "    titlebar.append(titletext)\n",
       "    this.root.append(titlebar);\n",
       "    this.header = titletext[0];\n",
       "}\n",
       "\n",
       "\n",
       "\n",
       "mpl.figure.prototype._canvas_extra_style = function(canvas_div) {\n",
       "\n",
       "}\n",
       "\n",
       "\n",
       "mpl.figure.prototype._root_extra_style = function(canvas_div) {\n",
       "\n",
       "}\n",
       "\n",
       "mpl.figure.prototype._init_canvas = function() {\n",
       "    var fig = this;\n",
       "\n",
       "    var canvas_div = $('<div/>');\n",
       "\n",
       "    canvas_div.attr('style', 'position: relative; clear: both; outline: 0');\n",
       "\n",
       "    function canvas_keyboard_event(event) {\n",
       "        return fig.key_event(event, event['data']);\n",
       "    }\n",
       "\n",
       "    canvas_div.keydown('key_press', canvas_keyboard_event);\n",
       "    canvas_div.keyup('key_release', canvas_keyboard_event);\n",
       "    this.canvas_div = canvas_div\n",
       "    this._canvas_extra_style(canvas_div)\n",
       "    this.root.append(canvas_div);\n",
       "\n",
       "    var canvas = $('<canvas/>');\n",
       "    canvas.addClass('mpl-canvas');\n",
       "    canvas.attr('style', \"left: 0; top: 0; z-index: 0; outline: 0\")\n",
       "\n",
       "    this.canvas = canvas[0];\n",
       "    this.context = canvas[0].getContext(\"2d\");\n",
       "\n",
       "    var backingStore = this.context.backingStorePixelRatio ||\n",
       "\tthis.context.webkitBackingStorePixelRatio ||\n",
       "\tthis.context.mozBackingStorePixelRatio ||\n",
       "\tthis.context.msBackingStorePixelRatio ||\n",
       "\tthis.context.oBackingStorePixelRatio ||\n",
       "\tthis.context.backingStorePixelRatio || 1;\n",
       "\n",
       "    mpl.ratio = (window.devicePixelRatio || 1) / backingStore;\n",
       "\n",
       "    var rubberband = $('<canvas/>');\n",
       "    rubberband.attr('style', \"position: absolute; left: 0; top: 0; z-index: 1;\")\n",
       "\n",
       "    var pass_mouse_events = true;\n",
       "\n",
       "    canvas_div.resizable({\n",
       "        start: function(event, ui) {\n",
       "            pass_mouse_events = false;\n",
       "        },\n",
       "        resize: function(event, ui) {\n",
       "            fig.request_resize(ui.size.width, ui.size.height);\n",
       "        },\n",
       "        stop: function(event, ui) {\n",
       "            pass_mouse_events = true;\n",
       "            fig.request_resize(ui.size.width, ui.size.height);\n",
       "        },\n",
       "    });\n",
       "\n",
       "    function mouse_event_fn(event) {\n",
       "        if (pass_mouse_events)\n",
       "            return fig.mouse_event(event, event['data']);\n",
       "    }\n",
       "\n",
       "    rubberband.mousedown('button_press', mouse_event_fn);\n",
       "    rubberband.mouseup('button_release', mouse_event_fn);\n",
       "    // Throttle sequential mouse events to 1 every 20ms.\n",
       "    rubberband.mousemove('motion_notify', mouse_event_fn);\n",
       "\n",
       "    rubberband.mouseenter('figure_enter', mouse_event_fn);\n",
       "    rubberband.mouseleave('figure_leave', mouse_event_fn);\n",
       "\n",
       "    canvas_div.on(\"wheel\", function (event) {\n",
       "        event = event.originalEvent;\n",
       "        event['data'] = 'scroll'\n",
       "        if (event.deltaY < 0) {\n",
       "            event.step = 1;\n",
       "        } else {\n",
       "            event.step = -1;\n",
       "        }\n",
       "        mouse_event_fn(event);\n",
       "    });\n",
       "\n",
       "    canvas_div.append(canvas);\n",
       "    canvas_div.append(rubberband);\n",
       "\n",
       "    this.rubberband = rubberband;\n",
       "    this.rubberband_canvas = rubberband[0];\n",
       "    this.rubberband_context = rubberband[0].getContext(\"2d\");\n",
       "    this.rubberband_context.strokeStyle = \"#000000\";\n",
       "\n",
       "    this._resize_canvas = function(width, height) {\n",
       "        // Keep the size of the canvas, canvas container, and rubber band\n",
       "        // canvas in synch.\n",
       "        canvas_div.css('width', width)\n",
       "        canvas_div.css('height', height)\n",
       "\n",
       "        canvas.attr('width', width * mpl.ratio);\n",
       "        canvas.attr('height', height * mpl.ratio);\n",
       "        canvas.attr('style', 'width: ' + width + 'px; height: ' + height + 'px;');\n",
       "\n",
       "        rubberband.attr('width', width);\n",
       "        rubberband.attr('height', height);\n",
       "    }\n",
       "\n",
       "    // Set the figure to an initial 600x600px, this will subsequently be updated\n",
       "    // upon first draw.\n",
       "    this._resize_canvas(600, 600);\n",
       "\n",
       "    // Disable right mouse context menu.\n",
       "    $(this.rubberband_canvas).bind(\"contextmenu\",function(e){\n",
       "        return false;\n",
       "    });\n",
       "\n",
       "    function set_focus () {\n",
       "        canvas.focus();\n",
       "        canvas_div.focus();\n",
       "    }\n",
       "\n",
       "    window.setTimeout(set_focus, 100);\n",
       "}\n",
       "\n",
       "mpl.figure.prototype._init_toolbar = function() {\n",
       "    var fig = this;\n",
       "\n",
       "    var nav_element = $('<div/>')\n",
       "    nav_element.attr('style', 'width: 100%');\n",
       "    this.root.append(nav_element);\n",
       "\n",
       "    // Define a callback function for later on.\n",
       "    function toolbar_event(event) {\n",
       "        return fig.toolbar_button_onclick(event['data']);\n",
       "    }\n",
       "    function toolbar_mouse_event(event) {\n",
       "        return fig.toolbar_button_onmouseover(event['data']);\n",
       "    }\n",
       "\n",
       "    for(var toolbar_ind in mpl.toolbar_items) {\n",
       "        var name = mpl.toolbar_items[toolbar_ind][0];\n",
       "        var tooltip = mpl.toolbar_items[toolbar_ind][1];\n",
       "        var image = mpl.toolbar_items[toolbar_ind][2];\n",
       "        var method_name = mpl.toolbar_items[toolbar_ind][3];\n",
       "\n",
       "        if (!name) {\n",
       "            // put a spacer in here.\n",
       "            continue;\n",
       "        }\n",
       "        var button = $('<button/>');\n",
       "        button.addClass('ui-button ui-widget ui-state-default ui-corner-all ' +\n",
       "                        'ui-button-icon-only');\n",
       "        button.attr('role', 'button');\n",
       "        button.attr('aria-disabled', 'false');\n",
       "        button.click(method_name, toolbar_event);\n",
       "        button.mouseover(tooltip, toolbar_mouse_event);\n",
       "\n",
       "        var icon_img = $('<span/>');\n",
       "        icon_img.addClass('ui-button-icon-primary ui-icon');\n",
       "        icon_img.addClass(image);\n",
       "        icon_img.addClass('ui-corner-all');\n",
       "\n",
       "        var tooltip_span = $('<span/>');\n",
       "        tooltip_span.addClass('ui-button-text');\n",
       "        tooltip_span.html(tooltip);\n",
       "\n",
       "        button.append(icon_img);\n",
       "        button.append(tooltip_span);\n",
       "\n",
       "        nav_element.append(button);\n",
       "    }\n",
       "\n",
       "    var fmt_picker_span = $('<span/>');\n",
       "\n",
       "    var fmt_picker = $('<select/>');\n",
       "    fmt_picker.addClass('mpl-toolbar-option ui-widget ui-widget-content');\n",
       "    fmt_picker_span.append(fmt_picker);\n",
       "    nav_element.append(fmt_picker_span);\n",
       "    this.format_dropdown = fmt_picker[0];\n",
       "\n",
       "    for (var ind in mpl.extensions) {\n",
       "        var fmt = mpl.extensions[ind];\n",
       "        var option = $(\n",
       "            '<option/>', {selected: fmt === mpl.default_extension}).html(fmt);\n",
       "        fmt_picker.append(option)\n",
       "    }\n",
       "\n",
       "    // Add hover states to the ui-buttons\n",
       "    $( \".ui-button\" ).hover(\n",
       "        function() { $(this).addClass(\"ui-state-hover\");},\n",
       "        function() { $(this).removeClass(\"ui-state-hover\");}\n",
       "    );\n",
       "\n",
       "    var status_bar = $('<span class=\"mpl-message\"/>');\n",
       "    nav_element.append(status_bar);\n",
       "    this.message = status_bar[0];\n",
       "}\n",
       "\n",
       "mpl.figure.prototype.request_resize = function(x_pixels, y_pixels) {\n",
       "    // Request matplotlib to resize the figure. Matplotlib will then trigger a resize in the client,\n",
       "    // which will in turn request a refresh of the image.\n",
       "    this.send_message('resize', {'width': x_pixels, 'height': y_pixels});\n",
       "}\n",
       "\n",
       "mpl.figure.prototype.send_message = function(type, properties) {\n",
       "    properties['type'] = type;\n",
       "    properties['figure_id'] = this.id;\n",
       "    this.ws.send(JSON.stringify(properties));\n",
       "}\n",
       "\n",
       "mpl.figure.prototype.send_draw_message = function() {\n",
       "    if (!this.waiting) {\n",
       "        this.waiting = true;\n",
       "        this.ws.send(JSON.stringify({type: \"draw\", figure_id: this.id}));\n",
       "    }\n",
       "}\n",
       "\n",
       "\n",
       "mpl.figure.prototype.handle_save = function(fig, msg) {\n",
       "    var format_dropdown = fig.format_dropdown;\n",
       "    var format = format_dropdown.options[format_dropdown.selectedIndex].value;\n",
       "    fig.ondownload(fig, format);\n",
       "}\n",
       "\n",
       "\n",
       "mpl.figure.prototype.handle_resize = function(fig, msg) {\n",
       "    var size = msg['size'];\n",
       "    if (size[0] != fig.canvas.width || size[1] != fig.canvas.height) {\n",
       "        fig._resize_canvas(size[0], size[1]);\n",
       "        fig.send_message(\"refresh\", {});\n",
       "    };\n",
       "}\n",
       "\n",
       "mpl.figure.prototype.handle_rubberband = function(fig, msg) {\n",
       "    var x0 = msg['x0'] / mpl.ratio;\n",
       "    var y0 = (fig.canvas.height - msg['y0']) / mpl.ratio;\n",
       "    var x1 = msg['x1'] / mpl.ratio;\n",
       "    var y1 = (fig.canvas.height - msg['y1']) / mpl.ratio;\n",
       "    x0 = Math.floor(x0) + 0.5;\n",
       "    y0 = Math.floor(y0) + 0.5;\n",
       "    x1 = Math.floor(x1) + 0.5;\n",
       "    y1 = Math.floor(y1) + 0.5;\n",
       "    var min_x = Math.min(x0, x1);\n",
       "    var min_y = Math.min(y0, y1);\n",
       "    var width = Math.abs(x1 - x0);\n",
       "    var height = Math.abs(y1 - y0);\n",
       "\n",
       "    fig.rubberband_context.clearRect(\n",
       "        0, 0, fig.canvas.width, fig.canvas.height);\n",
       "\n",
       "    fig.rubberband_context.strokeRect(min_x, min_y, width, height);\n",
       "}\n",
       "\n",
       "mpl.figure.prototype.handle_figure_label = function(fig, msg) {\n",
       "    // Updates the figure title.\n",
       "    fig.header.textContent = msg['label'];\n",
       "}\n",
       "\n",
       "mpl.figure.prototype.handle_cursor = function(fig, msg) {\n",
       "    var cursor = msg['cursor'];\n",
       "    switch(cursor)\n",
       "    {\n",
       "    case 0:\n",
       "        cursor = 'pointer';\n",
       "        break;\n",
       "    case 1:\n",
       "        cursor = 'default';\n",
       "        break;\n",
       "    case 2:\n",
       "        cursor = 'crosshair';\n",
       "        break;\n",
       "    case 3:\n",
       "        cursor = 'move';\n",
       "        break;\n",
       "    }\n",
       "    fig.rubberband_canvas.style.cursor = cursor;\n",
       "}\n",
       "\n",
       "mpl.figure.prototype.handle_message = function(fig, msg) {\n",
       "    fig.message.textContent = msg['message'];\n",
       "}\n",
       "\n",
       "mpl.figure.prototype.handle_draw = function(fig, msg) {\n",
       "    // Request the server to send over a new figure.\n",
       "    fig.send_draw_message();\n",
       "}\n",
       "\n",
       "mpl.figure.prototype.handle_image_mode = function(fig, msg) {\n",
       "    fig.image_mode = msg['mode'];\n",
       "}\n",
       "\n",
       "mpl.figure.prototype.updated_canvas_event = function() {\n",
       "    // Called whenever the canvas gets updated.\n",
       "    this.send_message(\"ack\", {});\n",
       "}\n",
       "\n",
       "// A function to construct a web socket function for onmessage handling.\n",
       "// Called in the figure constructor.\n",
       "mpl.figure.prototype._make_on_message_function = function(fig) {\n",
       "    return function socket_on_message(evt) {\n",
       "        if (evt.data instanceof Blob) {\n",
       "            /* FIXME: We get \"Resource interpreted as Image but\n",
       "             * transferred with MIME type text/plain:\" errors on\n",
       "             * Chrome.  But how to set the MIME type?  It doesn't seem\n",
       "             * to be part of the websocket stream */\n",
       "            evt.data.type = \"image/png\";\n",
       "\n",
       "            /* Free the memory for the previous frames */\n",
       "            if (fig.imageObj.src) {\n",
       "                (window.URL || window.webkitURL).revokeObjectURL(\n",
       "                    fig.imageObj.src);\n",
       "            }\n",
       "\n",
       "            fig.imageObj.src = (window.URL || window.webkitURL).createObjectURL(\n",
       "                evt.data);\n",
       "            fig.updated_canvas_event();\n",
       "            fig.waiting = false;\n",
       "            return;\n",
       "        }\n",
       "        else if (typeof evt.data === 'string' && evt.data.slice(0, 21) == \"data:image/png;base64\") {\n",
       "            fig.imageObj.src = evt.data;\n",
       "            fig.updated_canvas_event();\n",
       "            fig.waiting = false;\n",
       "            return;\n",
       "        }\n",
       "\n",
       "        var msg = JSON.parse(evt.data);\n",
       "        var msg_type = msg['type'];\n",
       "\n",
       "        // Call the  \"handle_{type}\" callback, which takes\n",
       "        // the figure and JSON message as its only arguments.\n",
       "        try {\n",
       "            var callback = fig[\"handle_\" + msg_type];\n",
       "        } catch (e) {\n",
       "            console.log(\"No handler for the '\" + msg_type + \"' message type: \", msg);\n",
       "            return;\n",
       "        }\n",
       "\n",
       "        if (callback) {\n",
       "            try {\n",
       "                // console.log(\"Handling '\" + msg_type + \"' message: \", msg);\n",
       "                callback(fig, msg);\n",
       "            } catch (e) {\n",
       "                console.log(\"Exception inside the 'handler_\" + msg_type + \"' callback:\", e, e.stack, msg);\n",
       "            }\n",
       "        }\n",
       "    };\n",
       "}\n",
       "\n",
       "// from http://stackoverflow.com/questions/1114465/getting-mouse-location-in-canvas\n",
       "mpl.findpos = function(e) {\n",
       "    //this section is from http://www.quirksmode.org/js/events_properties.html\n",
       "    var targ;\n",
       "    if (!e)\n",
       "        e = window.event;\n",
       "    if (e.target)\n",
       "        targ = e.target;\n",
       "    else if (e.srcElement)\n",
       "        targ = e.srcElement;\n",
       "    if (targ.nodeType == 3) // defeat Safari bug\n",
       "        targ = targ.parentNode;\n",
       "\n",
       "    // jQuery normalizes the pageX and pageY\n",
       "    // pageX,Y are the mouse positions relative to the document\n",
       "    // offset() returns the position of the element relative to the document\n",
       "    var x = e.pageX - $(targ).offset().left;\n",
       "    var y = e.pageY - $(targ).offset().top;\n",
       "\n",
       "    return {\"x\": x, \"y\": y};\n",
       "};\n",
       "\n",
       "/*\n",
       " * return a copy of an object with only non-object keys\n",
       " * we need this to avoid circular references\n",
       " * http://stackoverflow.com/a/24161582/3208463\n",
       " */\n",
       "function simpleKeys (original) {\n",
       "  return Object.keys(original).reduce(function (obj, key) {\n",
       "    if (typeof original[key] !== 'object')\n",
       "        obj[key] = original[key]\n",
       "    return obj;\n",
       "  }, {});\n",
       "}\n",
       "\n",
       "mpl.figure.prototype.mouse_event = function(event, name) {\n",
       "    var canvas_pos = mpl.findpos(event)\n",
       "\n",
       "    if (name === 'button_press')\n",
       "    {\n",
       "        this.canvas.focus();\n",
       "        this.canvas_div.focus();\n",
       "    }\n",
       "\n",
       "    var x = canvas_pos.x * mpl.ratio;\n",
       "    var y = canvas_pos.y * mpl.ratio;\n",
       "\n",
       "    this.send_message(name, {x: x, y: y, button: event.button,\n",
       "                             step: event.step,\n",
       "                             guiEvent: simpleKeys(event)});\n",
       "\n",
       "    /* This prevents the web browser from automatically changing to\n",
       "     * the text insertion cursor when the button is pressed.  We want\n",
       "     * to control all of the cursor setting manually through the\n",
       "     * 'cursor' event from matplotlib */\n",
       "    event.preventDefault();\n",
       "    return false;\n",
       "}\n",
       "\n",
       "mpl.figure.prototype._key_event_extra = function(event, name) {\n",
       "    // Handle any extra behaviour associated with a key event\n",
       "}\n",
       "\n",
       "mpl.figure.prototype.key_event = function(event, name) {\n",
       "\n",
       "    // Prevent repeat events\n",
       "    if (name == 'key_press')\n",
       "    {\n",
       "        if (event.which === this._key)\n",
       "            return;\n",
       "        else\n",
       "            this._key = event.which;\n",
       "    }\n",
       "    if (name == 'key_release')\n",
       "        this._key = null;\n",
       "\n",
       "    var value = '';\n",
       "    if (event.ctrlKey && event.which != 17)\n",
       "        value += \"ctrl+\";\n",
       "    if (event.altKey && event.which != 18)\n",
       "        value += \"alt+\";\n",
       "    if (event.shiftKey && event.which != 16)\n",
       "        value += \"shift+\";\n",
       "\n",
       "    value += 'k';\n",
       "    value += event.which.toString();\n",
       "\n",
       "    this._key_event_extra(event, name);\n",
       "\n",
       "    this.send_message(name, {key: value,\n",
       "                             guiEvent: simpleKeys(event)});\n",
       "    return false;\n",
       "}\n",
       "\n",
       "mpl.figure.prototype.toolbar_button_onclick = function(name) {\n",
       "    if (name == 'download') {\n",
       "        this.handle_save(this, null);\n",
       "    } else {\n",
       "        this.send_message(\"toolbar_button\", {name: name});\n",
       "    }\n",
       "};\n",
       "\n",
       "mpl.figure.prototype.toolbar_button_onmouseover = function(tooltip) {\n",
       "    this.message.textContent = tooltip;\n",
       "};\n",
       "mpl.toolbar_items = [[\"Home\", \"Reset original view\", \"fa fa-home icon-home\", \"home\"], [\"Back\", \"Back to  previous view\", \"fa fa-arrow-left icon-arrow-left\", \"back\"], [\"Forward\", \"Forward to next view\", \"fa fa-arrow-right icon-arrow-right\", \"forward\"], [\"\", \"\", \"\", \"\"], [\"Pan\", \"Pan axes with left mouse, zoom with right\", \"fa fa-arrows icon-move\", \"pan\"], [\"Zoom\", \"Zoom to rectangle\", \"fa fa-square-o icon-check-empty\", \"zoom\"], [\"\", \"\", \"\", \"\"], [\"Download\", \"Download plot\", \"fa fa-floppy-o icon-save\", \"download\"]];\n",
       "\n",
       "mpl.extensions = [\"eps\", \"jpeg\", \"pdf\", \"png\", \"ps\", \"raw\", \"svg\", \"tif\"];\n",
       "\n",
       "mpl.default_extension = \"png\";var comm_websocket_adapter = function(comm) {\n",
       "    // Create a \"websocket\"-like object which calls the given IPython comm\n",
       "    // object with the appropriate methods. Currently this is a non binary\n",
       "    // socket, so there is still some room for performance tuning.\n",
       "    var ws = {};\n",
       "\n",
       "    ws.close = function() {\n",
       "        comm.close()\n",
       "    };\n",
       "    ws.send = function(m) {\n",
       "        //console.log('sending', m);\n",
       "        comm.send(m);\n",
       "    };\n",
       "    // Register the callback with on_msg.\n",
       "    comm.on_msg(function(msg) {\n",
       "        //console.log('receiving', msg['content']['data'], msg);\n",
       "        // Pass the mpl event to the overriden (by mpl) onmessage function.\n",
       "        ws.onmessage(msg['content']['data'])\n",
       "    });\n",
       "    return ws;\n",
       "}\n",
       "\n",
       "mpl.mpl_figure_comm = function(comm, msg) {\n",
       "    // This is the function which gets called when the mpl process\n",
       "    // starts-up an IPython Comm through the \"matplotlib\" channel.\n",
       "\n",
       "    var id = msg.content.data.id;\n",
       "    // Get hold of the div created by the display call when the Comm\n",
       "    // socket was opened in Python.\n",
       "    var element = $(\"#\" + id);\n",
       "    var ws_proxy = comm_websocket_adapter(comm)\n",
       "\n",
       "    function ondownload(figure, format) {\n",
       "        window.open(figure.imageObj.src);\n",
       "    }\n",
       "\n",
       "    var fig = new mpl.figure(id, ws_proxy,\n",
       "                           ondownload,\n",
       "                           element.get(0));\n",
       "\n",
       "    // Call onopen now - mpl needs it, as it is assuming we've passed it a real\n",
       "    // web socket which is closed, not our websocket->open comm proxy.\n",
       "    ws_proxy.onopen();\n",
       "\n",
       "    fig.parent_element = element.get(0);\n",
       "    fig.cell_info = mpl.find_output_cell(\"<div id='\" + id + \"'></div>\");\n",
       "    if (!fig.cell_info) {\n",
       "        console.error(\"Failed to find cell for figure\", id, fig);\n",
       "        return;\n",
       "    }\n",
       "\n",
       "    var output_index = fig.cell_info[2]\n",
       "    var cell = fig.cell_info[0];\n",
       "\n",
       "};\n",
       "\n",
       "mpl.figure.prototype.handle_close = function(fig, msg) {\n",
       "    var width = fig.canvas.width/mpl.ratio\n",
       "    fig.root.unbind('remove')\n",
       "\n",
       "    // Update the output cell to use the data from the current canvas.\n",
       "    fig.push_to_output();\n",
       "    var dataURL = fig.canvas.toDataURL();\n",
       "    // Re-enable the keyboard manager in IPython - without this line, in FF,\n",
       "    // the notebook keyboard shortcuts fail.\n",
       "    IPython.keyboard_manager.enable()\n",
       "    $(fig.parent_element).html('<img src=\"' + dataURL + '\" width=\"' + width + '\">');\n",
       "    fig.close_ws(fig, msg);\n",
       "}\n",
       "\n",
       "mpl.figure.prototype.close_ws = function(fig, msg){\n",
       "    fig.send_message('closing', msg);\n",
       "    // fig.ws.close()\n",
       "}\n",
       "\n",
       "mpl.figure.prototype.push_to_output = function(remove_interactive) {\n",
       "    // Turn the data on the canvas into data in the output cell.\n",
       "    var width = this.canvas.width/mpl.ratio\n",
       "    var dataURL = this.canvas.toDataURL();\n",
       "    this.cell_info[1]['text/html'] = '<img src=\"' + dataURL + '\" width=\"' + width + '\">';\n",
       "}\n",
       "\n",
       "mpl.figure.prototype.updated_canvas_event = function() {\n",
       "    // Tell IPython that the notebook contents must change.\n",
       "    IPython.notebook.set_dirty(true);\n",
       "    this.send_message(\"ack\", {});\n",
       "    var fig = this;\n",
       "    // Wait a second, then push the new image to the DOM so\n",
       "    // that it is saved nicely (might be nice to debounce this).\n",
       "    setTimeout(function () { fig.push_to_output() }, 1000);\n",
       "}\n",
       "\n",
       "mpl.figure.prototype._init_toolbar = function() {\n",
       "    var fig = this;\n",
       "\n",
       "    var nav_element = $('<div/>')\n",
       "    nav_element.attr('style', 'width: 100%');\n",
       "    this.root.append(nav_element);\n",
       "\n",
       "    // Define a callback function for later on.\n",
       "    function toolbar_event(event) {\n",
       "        return fig.toolbar_button_onclick(event['data']);\n",
       "    }\n",
       "    function toolbar_mouse_event(event) {\n",
       "        return fig.toolbar_button_onmouseover(event['data']);\n",
       "    }\n",
       "\n",
       "    for(var toolbar_ind in mpl.toolbar_items){\n",
       "        var name = mpl.toolbar_items[toolbar_ind][0];\n",
       "        var tooltip = mpl.toolbar_items[toolbar_ind][1];\n",
       "        var image = mpl.toolbar_items[toolbar_ind][2];\n",
       "        var method_name = mpl.toolbar_items[toolbar_ind][3];\n",
       "\n",
       "        if (!name) { continue; };\n",
       "\n",
       "        var button = $('<button class=\"btn btn-default\" href=\"#\" title=\"' + name + '\"><i class=\"fa ' + image + ' fa-lg\"></i></button>');\n",
       "        button.click(method_name, toolbar_event);\n",
       "        button.mouseover(tooltip, toolbar_mouse_event);\n",
       "        nav_element.append(button);\n",
       "    }\n",
       "\n",
       "    // Add the status bar.\n",
       "    var status_bar = $('<span class=\"mpl-message\" style=\"text-align:right; float: right;\"/>');\n",
       "    nav_element.append(status_bar);\n",
       "    this.message = status_bar[0];\n",
       "\n",
       "    // Add the close button to the window.\n",
       "    var buttongrp = $('<div class=\"btn-group inline pull-right\"></div>');\n",
       "    var button = $('<button class=\"btn btn-mini btn-primary\" href=\"#\" title=\"Stop Interaction\"><i class=\"fa fa-power-off icon-remove icon-large\"></i></button>');\n",
       "    button.click(function (evt) { fig.handle_close(fig, {}); } );\n",
       "    button.mouseover('Stop Interaction', toolbar_mouse_event);\n",
       "    buttongrp.append(button);\n",
       "    var titlebar = this.root.find($('.ui-dialog-titlebar'));\n",
       "    titlebar.prepend(buttongrp);\n",
       "}\n",
       "\n",
       "mpl.figure.prototype._root_extra_style = function(el){\n",
       "    var fig = this\n",
       "    el.on(\"remove\", function(){\n",
       "\tfig.close_ws(fig, {});\n",
       "    });\n",
       "}\n",
       "\n",
       "mpl.figure.prototype._canvas_extra_style = function(el){\n",
       "    // this is important to make the div 'focusable\n",
       "    el.attr('tabindex', 0)\n",
       "    // reach out to IPython and tell the keyboard manager to turn it's self\n",
       "    // off when our div gets focus\n",
       "\n",
       "    // location in version 3\n",
       "    if (IPython.notebook.keyboard_manager) {\n",
       "        IPython.notebook.keyboard_manager.register_events(el);\n",
       "    }\n",
       "    else {\n",
       "        // location in version 2\n",
       "        IPython.keyboard_manager.register_events(el);\n",
       "    }\n",
       "\n",
       "}\n",
       "\n",
       "mpl.figure.prototype._key_event_extra = function(event, name) {\n",
       "    var manager = IPython.notebook.keyboard_manager;\n",
       "    if (!manager)\n",
       "        manager = IPython.keyboard_manager;\n",
       "\n",
       "    // Check for shift+enter\n",
       "    if (event.shiftKey && event.which == 13) {\n",
       "        this.canvas_div.blur();\n",
       "        // select the cell after this one\n",
       "        var index = IPython.notebook.find_cell_index(this.cell_info[0]);\n",
       "        IPython.notebook.select(index + 1);\n",
       "    }\n",
       "}\n",
       "\n",
       "mpl.figure.prototype.handle_save = function(fig, msg) {\n",
       "    fig.ondownload(fig, null);\n",
       "}\n",
       "\n",
       "\n",
       "mpl.find_output_cell = function(html_output) {\n",
       "    // Return the cell and output element which can be found *uniquely* in the notebook.\n",
       "    // Note - this is a bit hacky, but it is done because the \"notebook_saving.Notebook\"\n",
       "    // IPython event is triggered only after the cells have been serialised, which for\n",
       "    // our purposes (turning an active figure into a static one), is too late.\n",
       "    var cells = IPython.notebook.get_cells();\n",
       "    var ncells = cells.length;\n",
       "    for (var i=0; i<ncells; i++) {\n",
       "        var cell = cells[i];\n",
       "        if (cell.cell_type === 'code'){\n",
       "            for (var j=0; j<cell.output_area.outputs.length; j++) {\n",
       "                var data = cell.output_area.outputs[j];\n",
       "                if (data.data) {\n",
       "                    // IPython >= 3 moved mimebundle to data attribute of output\n",
       "                    data = data.data;\n",
       "                }\n",
       "                if (data['text/html'] == html_output) {\n",
       "                    return [cell, data, j];\n",
       "                }\n",
       "            }\n",
       "        }\n",
       "    }\n",
       "}\n",
       "\n",
       "// Register the function which deals with the matplotlib target/channel.\n",
       "// The kernel may be null if the page has been refreshed.\n",
       "if (IPython.notebook.kernel != null) {\n",
       "    IPython.notebook.kernel.comm_manager.register_target('matplotlib', mpl.mpl_figure_comm);\n",
       "}\n"
      ],
      "text/plain": [
       "<IPython.core.display.Javascript object>"
      ]
     },
     "metadata": {},
     "output_type": "display_data"
    },
    {
     "data": {
      "text/html": [
       "<img src=\"data:image/png;base64,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\" width=\"640\">"
      ],
      "text/plain": [
       "<IPython.core.display.HTML object>"
      ]
     },
     "metadata": {},
     "output_type": "display_data"
    },
    {
     "data": {
      "text/plain": [
       "<matplotlib.text.Text at 0x205022144a8>"
      ]
     },
     "execution_count": 8,
     "metadata": {},
     "output_type": "execute_result"
    }
   ],
   "source": [
    "pyplot.figure()\n",
    "pyplot.semilogy(z_vars_inf_f.T, alpha=0.2)\n",
    "pyplot.semilogy(z_vars_inf_f.mean(0), color=\"k\")\n",
    "pyplot.semilogy(range(1, n_zerns+1), noll[:n_zerns] , label=\"noll\", color=\"k\") \n",
    "pyplot.title(\"Zernike Power Spectrum\")\n",
    "pyplot.xlabel(\"Zernike Index\")\n",
    "pyplot.ylabel(\"Power ($\\mathrm{RMS Rad}^2$)\")"
   ]
  },
  {
   "cell_type": "code",
   "execution_count": 9,
   "metadata": {
    "collapsed": false,
    "deletable": true,
    "editable": true,
    "scrolled": false
   },
   "outputs": [
    {
     "data": {
      "application/javascript": [
       "/* Put everything inside the global mpl namespace */\n",
       "window.mpl = {};\n",
       "\n",
       "\n",
       "mpl.get_websocket_type = function() {\n",
       "    if (typeof(WebSocket) !== 'undefined') {\n",
       "        return WebSocket;\n",
       "    } else if (typeof(MozWebSocket) !== 'undefined') {\n",
       "        return MozWebSocket;\n",
       "    } else {\n",
       "        alert('Your browser does not have WebSocket support.' +\n",
       "              'Please try Chrome, Safari or Firefox ≥ 6. ' +\n",
       "              'Firefox 4 and 5 are also supported but you ' +\n",
       "              'have to enable WebSockets in about:config.');\n",
       "    };\n",
       "}\n",
       "\n",
       "mpl.figure = function(figure_id, websocket, ondownload, parent_element) {\n",
       "    this.id = figure_id;\n",
       "\n",
       "    this.ws = websocket;\n",
       "\n",
       "    this.supports_binary = (this.ws.binaryType != undefined);\n",
       "\n",
       "    if (!this.supports_binary) {\n",
       "        var warnings = document.getElementById(\"mpl-warnings\");\n",
       "        if (warnings) {\n",
       "            warnings.style.display = 'block';\n",
       "            warnings.textContent = (\n",
       "                \"This browser does not support binary websocket messages. \" +\n",
       "                    \"Performance may be slow.\");\n",
       "        }\n",
       "    }\n",
       "\n",
       "    this.imageObj = new Image();\n",
       "\n",
       "    this.context = undefined;\n",
       "    this.message = undefined;\n",
       "    this.canvas = undefined;\n",
       "    this.rubberband_canvas = undefined;\n",
       "    this.rubberband_context = undefined;\n",
       "    this.format_dropdown = undefined;\n",
       "\n",
       "    this.image_mode = 'full';\n",
       "\n",
       "    this.root = $('<div/>');\n",
       "    this._root_extra_style(this.root)\n",
       "    this.root.attr('style', 'display: inline-block');\n",
       "\n",
       "    $(parent_element).append(this.root);\n",
       "\n",
       "    this._init_header(this);\n",
       "    this._init_canvas(this);\n",
       "    this._init_toolbar(this);\n",
       "\n",
       "    var fig = this;\n",
       "\n",
       "    this.waiting = false;\n",
       "\n",
       "    this.ws.onopen =  function () {\n",
       "            fig.send_message(\"supports_binary\", {value: fig.supports_binary});\n",
       "            fig.send_message(\"send_image_mode\", {});\n",
       "            if (mpl.ratio != 1) {\n",
       "                fig.send_message(\"set_dpi_ratio\", {'dpi_ratio': mpl.ratio});\n",
       "            }\n",
       "            fig.send_message(\"refresh\", {});\n",
       "        }\n",
       "\n",
       "    this.imageObj.onload = function() {\n",
       "            if (fig.image_mode == 'full') {\n",
       "                // Full images could contain transparency (where diff images\n",
       "                // almost always do), so we need to clear the canvas so that\n",
       "                // there is no ghosting.\n",
       "                fig.context.clearRect(0, 0, fig.canvas.width, fig.canvas.height);\n",
       "            }\n",
       "            fig.context.drawImage(fig.imageObj, 0, 0);\n",
       "        };\n",
       "\n",
       "    this.imageObj.onunload = function() {\n",
       "        this.ws.close();\n",
       "    }\n",
       "\n",
       "    this.ws.onmessage = this._make_on_message_function(this);\n",
       "\n",
       "    this.ondownload = ondownload;\n",
       "}\n",
       "\n",
       "mpl.figure.prototype._init_header = function() {\n",
       "    var titlebar = $(\n",
       "        '<div class=\"ui-dialog-titlebar ui-widget-header ui-corner-all ' +\n",
       "        'ui-helper-clearfix\"/>');\n",
       "    var titletext = $(\n",
       "        '<div class=\"ui-dialog-title\" style=\"width: 100%; ' +\n",
       "        'text-align: center; padding: 3px;\"/>');\n",
       "    titlebar.append(titletext)\n",
       "    this.root.append(titlebar);\n",
       "    this.header = titletext[0];\n",
       "}\n",
       "\n",
       "\n",
       "\n",
       "mpl.figure.prototype._canvas_extra_style = function(canvas_div) {\n",
       "\n",
       "}\n",
       "\n",
       "\n",
       "mpl.figure.prototype._root_extra_style = function(canvas_div) {\n",
       "\n",
       "}\n",
       "\n",
       "mpl.figure.prototype._init_canvas = function() {\n",
       "    var fig = this;\n",
       "\n",
       "    var canvas_div = $('<div/>');\n",
       "\n",
       "    canvas_div.attr('style', 'position: relative; clear: both; outline: 0');\n",
       "\n",
       "    function canvas_keyboard_event(event) {\n",
       "        return fig.key_event(event, event['data']);\n",
       "    }\n",
       "\n",
       "    canvas_div.keydown('key_press', canvas_keyboard_event);\n",
       "    canvas_div.keyup('key_release', canvas_keyboard_event);\n",
       "    this.canvas_div = canvas_div\n",
       "    this._canvas_extra_style(canvas_div)\n",
       "    this.root.append(canvas_div);\n",
       "\n",
       "    var canvas = $('<canvas/>');\n",
       "    canvas.addClass('mpl-canvas');\n",
       "    canvas.attr('style', \"left: 0; top: 0; z-index: 0; outline: 0\")\n",
       "\n",
       "    this.canvas = canvas[0];\n",
       "    this.context = canvas[0].getContext(\"2d\");\n",
       "\n",
       "    var backingStore = this.context.backingStorePixelRatio ||\n",
       "\tthis.context.webkitBackingStorePixelRatio ||\n",
       "\tthis.context.mozBackingStorePixelRatio ||\n",
       "\tthis.context.msBackingStorePixelRatio ||\n",
       "\tthis.context.oBackingStorePixelRatio ||\n",
       "\tthis.context.backingStorePixelRatio || 1;\n",
       "\n",
       "    mpl.ratio = (window.devicePixelRatio || 1) / backingStore;\n",
       "\n",
       "    var rubberband = $('<canvas/>');\n",
       "    rubberband.attr('style', \"position: absolute; left: 0; top: 0; z-index: 1;\")\n",
       "\n",
       "    var pass_mouse_events = true;\n",
       "\n",
       "    canvas_div.resizable({\n",
       "        start: function(event, ui) {\n",
       "            pass_mouse_events = false;\n",
       "        },\n",
       "        resize: function(event, ui) {\n",
       "            fig.request_resize(ui.size.width, ui.size.height);\n",
       "        },\n",
       "        stop: function(event, ui) {\n",
       "            pass_mouse_events = true;\n",
       "            fig.request_resize(ui.size.width, ui.size.height);\n",
       "        },\n",
       "    });\n",
       "\n",
       "    function mouse_event_fn(event) {\n",
       "        if (pass_mouse_events)\n",
       "            return fig.mouse_event(event, event['data']);\n",
       "    }\n",
       "\n",
       "    rubberband.mousedown('button_press', mouse_event_fn);\n",
       "    rubberband.mouseup('button_release', mouse_event_fn);\n",
       "    // Throttle sequential mouse events to 1 every 20ms.\n",
       "    rubberband.mousemove('motion_notify', mouse_event_fn);\n",
       "\n",
       "    rubberband.mouseenter('figure_enter', mouse_event_fn);\n",
       "    rubberband.mouseleave('figure_leave', mouse_event_fn);\n",
       "\n",
       "    canvas_div.on(\"wheel\", function (event) {\n",
       "        event = event.originalEvent;\n",
       "        event['data'] = 'scroll'\n",
       "        if (event.deltaY < 0) {\n",
       "            event.step = 1;\n",
       "        } else {\n",
       "            event.step = -1;\n",
       "        }\n",
       "        mouse_event_fn(event);\n",
       "    });\n",
       "\n",
       "    canvas_div.append(canvas);\n",
       "    canvas_div.append(rubberband);\n",
       "\n",
       "    this.rubberband = rubberband;\n",
       "    this.rubberband_canvas = rubberband[0];\n",
       "    this.rubberband_context = rubberband[0].getContext(\"2d\");\n",
       "    this.rubberband_context.strokeStyle = \"#000000\";\n",
       "\n",
       "    this._resize_canvas = function(width, height) {\n",
       "        // Keep the size of the canvas, canvas container, and rubber band\n",
       "        // canvas in synch.\n",
       "        canvas_div.css('width', width)\n",
       "        canvas_div.css('height', height)\n",
       "\n",
       "        canvas.attr('width', width * mpl.ratio);\n",
       "        canvas.attr('height', height * mpl.ratio);\n",
       "        canvas.attr('style', 'width: ' + width + 'px; height: ' + height + 'px;');\n",
       "\n",
       "        rubberband.attr('width', width);\n",
       "        rubberband.attr('height', height);\n",
       "    }\n",
       "\n",
       "    // Set the figure to an initial 600x600px, this will subsequently be updated\n",
       "    // upon first draw.\n",
       "    this._resize_canvas(600, 600);\n",
       "\n",
       "    // Disable right mouse context menu.\n",
       "    $(this.rubberband_canvas).bind(\"contextmenu\",function(e){\n",
       "        return false;\n",
       "    });\n",
       "\n",
       "    function set_focus () {\n",
       "        canvas.focus();\n",
       "        canvas_div.focus();\n",
       "    }\n",
       "\n",
       "    window.setTimeout(set_focus, 100);\n",
       "}\n",
       "\n",
       "mpl.figure.prototype._init_toolbar = function() {\n",
       "    var fig = this;\n",
       "\n",
       "    var nav_element = $('<div/>')\n",
       "    nav_element.attr('style', 'width: 100%');\n",
       "    this.root.append(nav_element);\n",
       "\n",
       "    // Define a callback function for later on.\n",
       "    function toolbar_event(event) {\n",
       "        return fig.toolbar_button_onclick(event['data']);\n",
       "    }\n",
       "    function toolbar_mouse_event(event) {\n",
       "        return fig.toolbar_button_onmouseover(event['data']);\n",
       "    }\n",
       "\n",
       "    for(var toolbar_ind in mpl.toolbar_items) {\n",
       "        var name = mpl.toolbar_items[toolbar_ind][0];\n",
       "        var tooltip = mpl.toolbar_items[toolbar_ind][1];\n",
       "        var image = mpl.toolbar_items[toolbar_ind][2];\n",
       "        var method_name = mpl.toolbar_items[toolbar_ind][3];\n",
       "\n",
       "        if (!name) {\n",
       "            // put a spacer in here.\n",
       "            continue;\n",
       "        }\n",
       "        var button = $('<button/>');\n",
       "        button.addClass('ui-button ui-widget ui-state-default ui-corner-all ' +\n",
       "                        'ui-button-icon-only');\n",
       "        button.attr('role', 'button');\n",
       "        button.attr('aria-disabled', 'false');\n",
       "        button.click(method_name, toolbar_event);\n",
       "        button.mouseover(tooltip, toolbar_mouse_event);\n",
       "\n",
       "        var icon_img = $('<span/>');\n",
       "        icon_img.addClass('ui-button-icon-primary ui-icon');\n",
       "        icon_img.addClass(image);\n",
       "        icon_img.addClass('ui-corner-all');\n",
       "\n",
       "        var tooltip_span = $('<span/>');\n",
       "        tooltip_span.addClass('ui-button-text');\n",
       "        tooltip_span.html(tooltip);\n",
       "\n",
       "        button.append(icon_img);\n",
       "        button.append(tooltip_span);\n",
       "\n",
       "        nav_element.append(button);\n",
       "    }\n",
       "\n",
       "    var fmt_picker_span = $('<span/>');\n",
       "\n",
       "    var fmt_picker = $('<select/>');\n",
       "    fmt_picker.addClass('mpl-toolbar-option ui-widget ui-widget-content');\n",
       "    fmt_picker_span.append(fmt_picker);\n",
       "    nav_element.append(fmt_picker_span);\n",
       "    this.format_dropdown = fmt_picker[0];\n",
       "\n",
       "    for (var ind in mpl.extensions) {\n",
       "        var fmt = mpl.extensions[ind];\n",
       "        var option = $(\n",
       "            '<option/>', {selected: fmt === mpl.default_extension}).html(fmt);\n",
       "        fmt_picker.append(option)\n",
       "    }\n",
       "\n",
       "    // Add hover states to the ui-buttons\n",
       "    $( \".ui-button\" ).hover(\n",
       "        function() { $(this).addClass(\"ui-state-hover\");},\n",
       "        function() { $(this).removeClass(\"ui-state-hover\");}\n",
       "    );\n",
       "\n",
       "    var status_bar = $('<span class=\"mpl-message\"/>');\n",
       "    nav_element.append(status_bar);\n",
       "    this.message = status_bar[0];\n",
       "}\n",
       "\n",
       "mpl.figure.prototype.request_resize = function(x_pixels, y_pixels) {\n",
       "    // Request matplotlib to resize the figure. Matplotlib will then trigger a resize in the client,\n",
       "    // which will in turn request a refresh of the image.\n",
       "    this.send_message('resize', {'width': x_pixels, 'height': y_pixels});\n",
       "}\n",
       "\n",
       "mpl.figure.prototype.send_message = function(type, properties) {\n",
       "    properties['type'] = type;\n",
       "    properties['figure_id'] = this.id;\n",
       "    this.ws.send(JSON.stringify(properties));\n",
       "}\n",
       "\n",
       "mpl.figure.prototype.send_draw_message = function() {\n",
       "    if (!this.waiting) {\n",
       "        this.waiting = true;\n",
       "        this.ws.send(JSON.stringify({type: \"draw\", figure_id: this.id}));\n",
       "    }\n",
       "}\n",
       "\n",
       "\n",
       "mpl.figure.prototype.handle_save = function(fig, msg) {\n",
       "    var format_dropdown = fig.format_dropdown;\n",
       "    var format = format_dropdown.options[format_dropdown.selectedIndex].value;\n",
       "    fig.ondownload(fig, format);\n",
       "}\n",
       "\n",
       "\n",
       "mpl.figure.prototype.handle_resize = function(fig, msg) {\n",
       "    var size = msg['size'];\n",
       "    if (size[0] != fig.canvas.width || size[1] != fig.canvas.height) {\n",
       "        fig._resize_canvas(size[0], size[1]);\n",
       "        fig.send_message(\"refresh\", {});\n",
       "    };\n",
       "}\n",
       "\n",
       "mpl.figure.prototype.handle_rubberband = function(fig, msg) {\n",
       "    var x0 = msg['x0'] / mpl.ratio;\n",
       "    var y0 = (fig.canvas.height - msg['y0']) / mpl.ratio;\n",
       "    var x1 = msg['x1'] / mpl.ratio;\n",
       "    var y1 = (fig.canvas.height - msg['y1']) / mpl.ratio;\n",
       "    x0 = Math.floor(x0) + 0.5;\n",
       "    y0 = Math.floor(y0) + 0.5;\n",
       "    x1 = Math.floor(x1) + 0.5;\n",
       "    y1 = Math.floor(y1) + 0.5;\n",
       "    var min_x = Math.min(x0, x1);\n",
       "    var min_y = Math.min(y0, y1);\n",
       "    var width = Math.abs(x1 - x0);\n",
       "    var height = Math.abs(y1 - y0);\n",
       "\n",
       "    fig.rubberband_context.clearRect(\n",
       "        0, 0, fig.canvas.width, fig.canvas.height);\n",
       "\n",
       "    fig.rubberband_context.strokeRect(min_x, min_y, width, height);\n",
       "}\n",
       "\n",
       "mpl.figure.prototype.handle_figure_label = function(fig, msg) {\n",
       "    // Updates the figure title.\n",
       "    fig.header.textContent = msg['label'];\n",
       "}\n",
       "\n",
       "mpl.figure.prototype.handle_cursor = function(fig, msg) {\n",
       "    var cursor = msg['cursor'];\n",
       "    switch(cursor)\n",
       "    {\n",
       "    case 0:\n",
       "        cursor = 'pointer';\n",
       "        break;\n",
       "    case 1:\n",
       "        cursor = 'default';\n",
       "        break;\n",
       "    case 2:\n",
       "        cursor = 'crosshair';\n",
       "        break;\n",
       "    case 3:\n",
       "        cursor = 'move';\n",
       "        break;\n",
       "    }\n",
       "    fig.rubberband_canvas.style.cursor = cursor;\n",
       "}\n",
       "\n",
       "mpl.figure.prototype.handle_message = function(fig, msg) {\n",
       "    fig.message.textContent = msg['message'];\n",
       "}\n",
       "\n",
       "mpl.figure.prototype.handle_draw = function(fig, msg) {\n",
       "    // Request the server to send over a new figure.\n",
       "    fig.send_draw_message();\n",
       "}\n",
       "\n",
       "mpl.figure.prototype.handle_image_mode = function(fig, msg) {\n",
       "    fig.image_mode = msg['mode'];\n",
       "}\n",
       "\n",
       "mpl.figure.prototype.updated_canvas_event = function() {\n",
       "    // Called whenever the canvas gets updated.\n",
       "    this.send_message(\"ack\", {});\n",
       "}\n",
       "\n",
       "// A function to construct a web socket function for onmessage handling.\n",
       "// Called in the figure constructor.\n",
       "mpl.figure.prototype._make_on_message_function = function(fig) {\n",
       "    return function socket_on_message(evt) {\n",
       "        if (evt.data instanceof Blob) {\n",
       "            /* FIXME: We get \"Resource interpreted as Image but\n",
       "             * transferred with MIME type text/plain:\" errors on\n",
       "             * Chrome.  But how to set the MIME type?  It doesn't seem\n",
       "             * to be part of the websocket stream */\n",
       "            evt.data.type = \"image/png\";\n",
       "\n",
       "            /* Free the memory for the previous frames */\n",
       "            if (fig.imageObj.src) {\n",
       "                (window.URL || window.webkitURL).revokeObjectURL(\n",
       "                    fig.imageObj.src);\n",
       "            }\n",
       "\n",
       "            fig.imageObj.src = (window.URL || window.webkitURL).createObjectURL(\n",
       "                evt.data);\n",
       "            fig.updated_canvas_event();\n",
       "            fig.waiting = false;\n",
       "            return;\n",
       "        }\n",
       "        else if (typeof evt.data === 'string' && evt.data.slice(0, 21) == \"data:image/png;base64\") {\n",
       "            fig.imageObj.src = evt.data;\n",
       "            fig.updated_canvas_event();\n",
       "            fig.waiting = false;\n",
       "            return;\n",
       "        }\n",
       "\n",
       "        var msg = JSON.parse(evt.data);\n",
       "        var msg_type = msg['type'];\n",
       "\n",
       "        // Call the  \"handle_{type}\" callback, which takes\n",
       "        // the figure and JSON message as its only arguments.\n",
       "        try {\n",
       "            var callback = fig[\"handle_\" + msg_type];\n",
       "        } catch (e) {\n",
       "            console.log(\"No handler for the '\" + msg_type + \"' message type: \", msg);\n",
       "            return;\n",
       "        }\n",
       "\n",
       "        if (callback) {\n",
       "            try {\n",
       "                // console.log(\"Handling '\" + msg_type + \"' message: \", msg);\n",
       "                callback(fig, msg);\n",
       "            } catch (e) {\n",
       "                console.log(\"Exception inside the 'handler_\" + msg_type + \"' callback:\", e, e.stack, msg);\n",
       "            }\n",
       "        }\n",
       "    };\n",
       "}\n",
       "\n",
       "// from http://stackoverflow.com/questions/1114465/getting-mouse-location-in-canvas\n",
       "mpl.findpos = function(e) {\n",
       "    //this section is from http://www.quirksmode.org/js/events_properties.html\n",
       "    var targ;\n",
       "    if (!e)\n",
       "        e = window.event;\n",
       "    if (e.target)\n",
       "        targ = e.target;\n",
       "    else if (e.srcElement)\n",
       "        targ = e.srcElement;\n",
       "    if (targ.nodeType == 3) // defeat Safari bug\n",
       "        targ = targ.parentNode;\n",
       "\n",
       "    // jQuery normalizes the pageX and pageY\n",
       "    // pageX,Y are the mouse positions relative to the document\n",
       "    // offset() returns the position of the element relative to the document\n",
       "    var x = e.pageX - $(targ).offset().left;\n",
       "    var y = e.pageY - $(targ).offset().top;\n",
       "\n",
       "    return {\"x\": x, \"y\": y};\n",
       "};\n",
       "\n",
       "/*\n",
       " * return a copy of an object with only non-object keys\n",
       " * we need this to avoid circular references\n",
       " * http://stackoverflow.com/a/24161582/3208463\n",
       " */\n",
       "function simpleKeys (original) {\n",
       "  return Object.keys(original).reduce(function (obj, key) {\n",
       "    if (typeof original[key] !== 'object')\n",
       "        obj[key] = original[key]\n",
       "    return obj;\n",
       "  }, {});\n",
       "}\n",
       "\n",
       "mpl.figure.prototype.mouse_event = function(event, name) {\n",
       "    var canvas_pos = mpl.findpos(event)\n",
       "\n",
       "    if (name === 'button_press')\n",
       "    {\n",
       "        this.canvas.focus();\n",
       "        this.canvas_div.focus();\n",
       "    }\n",
       "\n",
       "    var x = canvas_pos.x * mpl.ratio;\n",
       "    var y = canvas_pos.y * mpl.ratio;\n",
       "\n",
       "    this.send_message(name, {x: x, y: y, button: event.button,\n",
       "                             step: event.step,\n",
       "                             guiEvent: simpleKeys(event)});\n",
       "\n",
       "    /* This prevents the web browser from automatically changing to\n",
       "     * the text insertion cursor when the button is pressed.  We want\n",
       "     * to control all of the cursor setting manually through the\n",
       "     * 'cursor' event from matplotlib */\n",
       "    event.preventDefault();\n",
       "    return false;\n",
       "}\n",
       "\n",
       "mpl.figure.prototype._key_event_extra = function(event, name) {\n",
       "    // Handle any extra behaviour associated with a key event\n",
       "}\n",
       "\n",
       "mpl.figure.prototype.key_event = function(event, name) {\n",
       "\n",
       "    // Prevent repeat events\n",
       "    if (name == 'key_press')\n",
       "    {\n",
       "        if (event.which === this._key)\n",
       "            return;\n",
       "        else\n",
       "            this._key = event.which;\n",
       "    }\n",
       "    if (name == 'key_release')\n",
       "        this._key = null;\n",
       "\n",
       "    var value = '';\n",
       "    if (event.ctrlKey && event.which != 17)\n",
       "        value += \"ctrl+\";\n",
       "    if (event.altKey && event.which != 18)\n",
       "        value += \"alt+\";\n",
       "    if (event.shiftKey && event.which != 16)\n",
       "        value += \"shift+\";\n",
       "\n",
       "    value += 'k';\n",
       "    value += event.which.toString();\n",
       "\n",
       "    this._key_event_extra(event, name);\n",
       "\n",
       "    this.send_message(name, {key: value,\n",
       "                             guiEvent: simpleKeys(event)});\n",
       "    return false;\n",
       "}\n",
       "\n",
       "mpl.figure.prototype.toolbar_button_onclick = function(name) {\n",
       "    if (name == 'download') {\n",
       "        this.handle_save(this, null);\n",
       "    } else {\n",
       "        this.send_message(\"toolbar_button\", {name: name});\n",
       "    }\n",
       "};\n",
       "\n",
       "mpl.figure.prototype.toolbar_button_onmouseover = function(tooltip) {\n",
       "    this.message.textContent = tooltip;\n",
       "};\n",
       "mpl.toolbar_items = [[\"Home\", \"Reset original view\", \"fa fa-home icon-home\", \"home\"], [\"Back\", \"Back to  previous view\", \"fa fa-arrow-left icon-arrow-left\", \"back\"], [\"Forward\", \"Forward to next view\", \"fa fa-arrow-right icon-arrow-right\", \"forward\"], [\"\", \"\", \"\", \"\"], [\"Pan\", \"Pan axes with left mouse, zoom with right\", \"fa fa-arrows icon-move\", \"pan\"], [\"Zoom\", \"Zoom to rectangle\", \"fa fa-square-o icon-check-empty\", \"zoom\"], [\"\", \"\", \"\", \"\"], [\"Download\", \"Download plot\", \"fa fa-floppy-o icon-save\", \"download\"]];\n",
       "\n",
       "mpl.extensions = [\"eps\", \"jpeg\", \"pdf\", \"png\", \"ps\", \"raw\", \"svg\", \"tif\"];\n",
       "\n",
       "mpl.default_extension = \"png\";var comm_websocket_adapter = function(comm) {\n",
       "    // Create a \"websocket\"-like object which calls the given IPython comm\n",
       "    // object with the appropriate methods. Currently this is a non binary\n",
       "    // socket, so there is still some room for performance tuning.\n",
       "    var ws = {};\n",
       "\n",
       "    ws.close = function() {\n",
       "        comm.close()\n",
       "    };\n",
       "    ws.send = function(m) {\n",
       "        //console.log('sending', m);\n",
       "        comm.send(m);\n",
       "    };\n",
       "    // Register the callback with on_msg.\n",
       "    comm.on_msg(function(msg) {\n",
       "        //console.log('receiving', msg['content']['data'], msg);\n",
       "        // Pass the mpl event to the overriden (by mpl) onmessage function.\n",
       "        ws.onmessage(msg['content']['data'])\n",
       "    });\n",
       "    return ws;\n",
       "}\n",
       "\n",
       "mpl.mpl_figure_comm = function(comm, msg) {\n",
       "    // This is the function which gets called when the mpl process\n",
       "    // starts-up an IPython Comm through the \"matplotlib\" channel.\n",
       "\n",
       "    var id = msg.content.data.id;\n",
       "    // Get hold of the div created by the display call when the Comm\n",
       "    // socket was opened in Python.\n",
       "    var element = $(\"#\" + id);\n",
       "    var ws_proxy = comm_websocket_adapter(comm)\n",
       "\n",
       "    function ondownload(figure, format) {\n",
       "        window.open(figure.imageObj.src);\n",
       "    }\n",
       "\n",
       "    var fig = new mpl.figure(id, ws_proxy,\n",
       "                           ondownload,\n",
       "                           element.get(0));\n",
       "\n",
       "    // Call onopen now - mpl needs it, as it is assuming we've passed it a real\n",
       "    // web socket which is closed, not our websocket->open comm proxy.\n",
       "    ws_proxy.onopen();\n",
       "\n",
       "    fig.parent_element = element.get(0);\n",
       "    fig.cell_info = mpl.find_output_cell(\"<div id='\" + id + \"'></div>\");\n",
       "    if (!fig.cell_info) {\n",
       "        console.error(\"Failed to find cell for figure\", id, fig);\n",
       "        return;\n",
       "    }\n",
       "\n",
       "    var output_index = fig.cell_info[2]\n",
       "    var cell = fig.cell_info[0];\n",
       "\n",
       "};\n",
       "\n",
       "mpl.figure.prototype.handle_close = function(fig, msg) {\n",
       "    var width = fig.canvas.width/mpl.ratio\n",
       "    fig.root.unbind('remove')\n",
       "\n",
       "    // Update the output cell to use the data from the current canvas.\n",
       "    fig.push_to_output();\n",
       "    var dataURL = fig.canvas.toDataURL();\n",
       "    // Re-enable the keyboard manager in IPython - without this line, in FF,\n",
       "    // the notebook keyboard shortcuts fail.\n",
       "    IPython.keyboard_manager.enable()\n",
       "    $(fig.parent_element).html('<img src=\"' + dataURL + '\" width=\"' + width + '\">');\n",
       "    fig.close_ws(fig, msg);\n",
       "}\n",
       "\n",
       "mpl.figure.prototype.close_ws = function(fig, msg){\n",
       "    fig.send_message('closing', msg);\n",
       "    // fig.ws.close()\n",
       "}\n",
       "\n",
       "mpl.figure.prototype.push_to_output = function(remove_interactive) {\n",
       "    // Turn the data on the canvas into data in the output cell.\n",
       "    var width = this.canvas.width/mpl.ratio\n",
       "    var dataURL = this.canvas.toDataURL();\n",
       "    this.cell_info[1]['text/html'] = '<img src=\"' + dataURL + '\" width=\"' + width + '\">';\n",
       "}\n",
       "\n",
       "mpl.figure.prototype.updated_canvas_event = function() {\n",
       "    // Tell IPython that the notebook contents must change.\n",
       "    IPython.notebook.set_dirty(true);\n",
       "    this.send_message(\"ack\", {});\n",
       "    var fig = this;\n",
       "    // Wait a second, then push the new image to the DOM so\n",
       "    // that it is saved nicely (might be nice to debounce this).\n",
       "    setTimeout(function () { fig.push_to_output() }, 1000);\n",
       "}\n",
       "\n",
       "mpl.figure.prototype._init_toolbar = function() {\n",
       "    var fig = this;\n",
       "\n",
       "    var nav_element = $('<div/>')\n",
       "    nav_element.attr('style', 'width: 100%');\n",
       "    this.root.append(nav_element);\n",
       "\n",
       "    // Define a callback function for later on.\n",
       "    function toolbar_event(event) {\n",
       "        return fig.toolbar_button_onclick(event['data']);\n",
       "    }\n",
       "    function toolbar_mouse_event(event) {\n",
       "        return fig.toolbar_button_onmouseover(event['data']);\n",
       "    }\n",
       "\n",
       "    for(var toolbar_ind in mpl.toolbar_items){\n",
       "        var name = mpl.toolbar_items[toolbar_ind][0];\n",
       "        var tooltip = mpl.toolbar_items[toolbar_ind][1];\n",
       "        var image = mpl.toolbar_items[toolbar_ind][2];\n",
       "        var method_name = mpl.toolbar_items[toolbar_ind][3];\n",
       "\n",
       "        if (!name) { continue; };\n",
       "\n",
       "        var button = $('<button class=\"btn btn-default\" href=\"#\" title=\"' + name + '\"><i class=\"fa ' + image + ' fa-lg\"></i></button>');\n",
       "        button.click(method_name, toolbar_event);\n",
       "        button.mouseover(tooltip, toolbar_mouse_event);\n",
       "        nav_element.append(button);\n",
       "    }\n",
       "\n",
       "    // Add the status bar.\n",
       "    var status_bar = $('<span class=\"mpl-message\" style=\"text-align:right; float: right;\"/>');\n",
       "    nav_element.append(status_bar);\n",
       "    this.message = status_bar[0];\n",
       "\n",
       "    // Add the close button to the window.\n",
       "    var buttongrp = $('<div class=\"btn-group inline pull-right\"></div>');\n",
       "    var button = $('<button class=\"btn btn-mini btn-primary\" href=\"#\" title=\"Stop Interaction\"><i class=\"fa fa-power-off icon-remove icon-large\"></i></button>');\n",
       "    button.click(function (evt) { fig.handle_close(fig, {}); } );\n",
       "    button.mouseover('Stop Interaction', toolbar_mouse_event);\n",
       "    buttongrp.append(button);\n",
       "    var titlebar = this.root.find($('.ui-dialog-titlebar'));\n",
       "    titlebar.prepend(buttongrp);\n",
       "}\n",
       "\n",
       "mpl.figure.prototype._root_extra_style = function(el){\n",
       "    var fig = this\n",
       "    el.on(\"remove\", function(){\n",
       "\tfig.close_ws(fig, {});\n",
       "    });\n",
       "}\n",
       "\n",
       "mpl.figure.prototype._canvas_extra_style = function(el){\n",
       "    // this is important to make the div 'focusable\n",
       "    el.attr('tabindex', 0)\n",
       "    // reach out to IPython and tell the keyboard manager to turn it's self\n",
       "    // off when our div gets focus\n",
       "\n",
       "    // location in version 3\n",
       "    if (IPython.notebook.keyboard_manager) {\n",
       "        IPython.notebook.keyboard_manager.register_events(el);\n",
       "    }\n",
       "    else {\n",
       "        // location in version 2\n",
       "        IPython.keyboard_manager.register_events(el);\n",
       "    }\n",
       "\n",
       "}\n",
       "\n",
       "mpl.figure.prototype._key_event_extra = function(event, name) {\n",
       "    var manager = IPython.notebook.keyboard_manager;\n",
       "    if (!manager)\n",
       "        manager = IPython.keyboard_manager;\n",
       "\n",
       "    // Check for shift+enter\n",
       "    if (event.shiftKey && event.which == 13) {\n",
       "        this.canvas_div.blur();\n",
       "        // select the cell after this one\n",
       "        var index = IPython.notebook.find_cell_index(this.cell_info[0]);\n",
       "        IPython.notebook.select(index + 1);\n",
       "    }\n",
       "}\n",
       "\n",
       "mpl.figure.prototype.handle_save = function(fig, msg) {\n",
       "    fig.ondownload(fig, null);\n",
       "}\n",
       "\n",
       "\n",
       "mpl.find_output_cell = function(html_output) {\n",
       "    // Return the cell and output element which can be found *uniquely* in the notebook.\n",
       "    // Note - this is a bit hacky, but it is done because the \"notebook_saving.Notebook\"\n",
       "    // IPython event is triggered only after the cells have been serialised, which for\n",
       "    // our purposes (turning an active figure into a static one), is too late.\n",
       "    var cells = IPython.notebook.get_cells();\n",
       "    var ncells = cells.length;\n",
       "    for (var i=0; i<ncells; i++) {\n",
       "        var cell = cells[i];\n",
       "        if (cell.cell_type === 'code'){\n",
       "            for (var j=0; j<cell.output_area.outputs.length; j++) {\n",
       "                var data = cell.output_area.outputs[j];\n",
       "                if (data.data) {\n",
       "                    // IPython >= 3 moved mimebundle to data attribute of output\n",
       "                    data = data.data;\n",
       "                }\n",
       "                if (data['text/html'] == html_output) {\n",
       "                    return [cell, data, j];\n",
       "                }\n",
       "            }\n",
       "        }\n",
       "    }\n",
       "}\n",
       "\n",
       "// Register the function which deals with the matplotlib target/channel.\n",
       "// The kernel may be null if the page has been refreshed.\n",
       "if (IPython.notebook.kernel != null) {\n",
       "    IPython.notebook.kernel.comm_manager.register_target('matplotlib', mpl.mpl_figure_comm);\n",
       "}\n"
      ],
      "text/plain": [
       "<IPython.core.display.Javascript object>"
      ]
     },
     "metadata": {},
     "output_type": "display_data"
    },
    {
     "data": {
      "text/html": [
       "<img src=\"data:image/png;base64,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\" width=\"640\">"
      ],
      "text/plain": [
       "<IPython.core.display.HTML object>"
      ]
     },
     "metadata": {},
     "output_type": "display_data"
    },
    {
     "name": "stdout",
     "output_type": "stream",
     "text": [
      "plot Z1\n",
      "plot Z6\n",
      "plot Z59\n"
     ]
    },
    {
     "data": {
      "text/plain": [
       "<matplotlib.legend.Legend at 0x2050ad5e748>"
      ]
     },
     "execution_count": 9,
     "metadata": {},
     "output_type": "execute_result"
    }
   ],
   "source": [
    "pyplot.figure()\n",
    "plot_zs = [1, 6, 59]\n",
    "for i, z in enumerate(plot_zs):\n",
    "    print(\"plot Z{}\".format(z))\n",
    "    zn_coeffs = z_coeffs_inf_f.mean(0)[:, z]\n",
    "    z_ps = abs(numpy.fft.fft(zn_coeffs))**2\n",
    "    x_vals = numpy.fft.fftfreq(len(z_ps), d=time_step)\n",
    "    pyplot.loglog(x_vals[:n_scrns//2], z_ps[:n_scrns//2], label=\"Z_{}\".format(z))\n",
    "    pyplot.xlabel(\"Frequency (Hz)\")\n",
    "    pyplot.ylabel(\"Power ($\\mathrm{Rad RMS}^2$)\")\n",
    "    pyplot.grid()\n",
    "pyplot.legend()"
   ]
  },
  {
   "cell_type": "markdown",
   "metadata": {
    "deletable": true,
    "editable": true
   },
   "source": [
    "# Test Assemat Phase Screen"
   ]
  },
  {
   "cell_type": "code",
   "execution_count": 7,
   "metadata": {
    "collapsed": false,
    "deletable": true,
    "editable": true
   },
   "outputs": [
    {
     "name": "stdout",
     "output_type": "stream",
     "text": [
      "Run tests\n"
     ]
    },
    {
     "data": {
      "application/vnd.jupyter.widget-view+json": {
       "model_id": "606d6dbd5bc6459ba7fd59b403e0c537"
      }
     },
     "metadata": {},
     "output_type": "display_data"
    },
    {
     "name": "stdout",
     "output_type": "stream",
     "text": [
      "Init phase screen\n",
      "\n"
     ]
    },
    {
     "ename": "LinAlgError",
     "evalue": "355-th leading minor not positive definite",
     "output_type": "error",
     "traceback": [
      "\u001b[1;31m---------------------------------------------------------------------------\u001b[0m",
      "\u001b[1;31mLinAlgError\u001b[0m                               Traceback (most recent call last)",
      "\u001b[1;32m<ipython-input-7-32e28868dff5>\u001b[0m in \u001b[0;36m<module>\u001b[1;34m()\u001b[0m\n\u001b[0;32m      8\u001b[0m \u001b[1;32mfor\u001b[0m \u001b[0mn\u001b[0m \u001b[1;32min\u001b[0m \u001b[0mtnrange\u001b[0m\u001b[1;33m(\u001b[0m\u001b[0mn_tests\u001b[0m\u001b[1;33m)\u001b[0m\u001b[1;33m:\u001b[0m\u001b[1;33m\u001b[0m\u001b[0m\n\u001b[0;32m      9\u001b[0m     \u001b[0mprint\u001b[0m\u001b[1;33m(\u001b[0m\u001b[1;34m\"Init phase screen\"\u001b[0m\u001b[1;33m)\u001b[0m\u001b[1;33m\u001b[0m\u001b[0m\n\u001b[1;32m---> 10\u001b[1;33m     \u001b[0mphase_screen\u001b[0m \u001b[1;33m=\u001b[0m \u001b[0minfinitephasescreen\u001b[0m\u001b[1;33m.\u001b[0m\u001b[0mPhaseScreen\u001b[0m\u001b[1;33m(\u001b[0m\u001b[0mnx_size\u001b[0m\u001b[1;33m,\u001b[0m \u001b[0mpxl_scale\u001b[0m\u001b[1;33m,\u001b[0m \u001b[0mr0\u001b[0m\u001b[1;33m,\u001b[0m \u001b[0mL0\u001b[0m\u001b[1;33m,\u001b[0m \u001b[0mnCol\u001b[0m\u001b[1;33m=\u001b[0m\u001b[0mnCol\u001b[0m\u001b[1;33m)\u001b[0m\u001b[1;33m\u001b[0m\u001b[0m\n\u001b[0m\u001b[0;32m     11\u001b[0m     \u001b[1;32mfor\u001b[0m \u001b[0mi\u001b[0m \u001b[1;32min\u001b[0m \u001b[0mtnrange\u001b[0m\u001b[1;33m(\u001b[0m\u001b[0mn_scrns\u001b[0m\u001b[1;33m)\u001b[0m\u001b[1;33m:\u001b[0m\u001b[1;33m\u001b[0m\u001b[0m\n\u001b[0;32m     12\u001b[0m \u001b[1;33m\u001b[0m\u001b[0m\n",
      "\u001b[1;32mC:\\Users\\apr\\CfAI\\aotools\\aotools\\turbulence\\infinitephasescreen.py\u001b[0m in \u001b[0;36m__init__\u001b[1;34m(self, nSize, pxlScale, r0, L0, nCol, random_seed)\u001b[0m\n\u001b[0;32m     70\u001b[0m         \u001b[0mself\u001b[0m\u001b[1;33m.\u001b[0m\u001b[0mnCol\u001b[0m \u001b[1;33m=\u001b[0m \u001b[0mnCol\u001b[0m\u001b[1;33m\u001b[0m\u001b[0m\n\u001b[0;32m     71\u001b[0m \u001b[1;33m\u001b[0m\u001b[0m\n\u001b[1;32m---> 72\u001b[1;33m         \u001b[0mself\u001b[0m\u001b[1;33m.\u001b[0m\u001b[0mmakeAMatrix\u001b[0m\u001b[1;33m(\u001b[0m\u001b[1;33m)\u001b[0m\u001b[1;33m\u001b[0m\u001b[0m\n\u001b[0m\u001b[0;32m     73\u001b[0m         \u001b[0mself\u001b[0m\u001b[1;33m.\u001b[0m\u001b[0mmakeBMatrix\u001b[0m\u001b[1;33m(\u001b[0m\u001b[1;33m)\u001b[0m\u001b[1;33m\u001b[0m\u001b[0m\n\u001b[0;32m     74\u001b[0m         \u001b[0mself\u001b[0m\u001b[1;33m.\u001b[0m\u001b[0mmakeInitialScrn\u001b[0m\u001b[1;33m(\u001b[0m\u001b[1;33m)\u001b[0m\u001b[1;33m\u001b[0m\u001b[0m\n",
      "\u001b[1;32mC:\\Users\\apr\\CfAI\\aotools\\aotools\\turbulence\\infinitephasescreen.py\u001b[0m in \u001b[0;36mmakeAMatrix\u001b[1;34m(self)\u001b[0m\n\u001b[0;32m    180\u001b[0m \u001b[1;33m\u001b[0m\u001b[0m\n\u001b[0;32m    181\u001b[0m         \u001b[1;31m# Different inversion methods, not sure which is best\u001b[0m\u001b[1;33m\u001b[0m\u001b[1;33m\u001b[0m\u001b[0m\n\u001b[1;32m--> 182\u001b[1;33m         \u001b[0mcf\u001b[0m \u001b[1;33m=\u001b[0m \u001b[0mlinalg\u001b[0m\u001b[1;33m.\u001b[0m\u001b[0mcho_factor\u001b[0m\u001b[1;33m(\u001b[0m\u001b[0mself\u001b[0m\u001b[1;33m.\u001b[0m\u001b[0mcov_zz\u001b[0m\u001b[1;33m)\u001b[0m\u001b[1;33m\u001b[0m\u001b[0m\n\u001b[0m\u001b[0;32m    183\u001b[0m         \u001b[0minv_cov_zz\u001b[0m \u001b[1;33m=\u001b[0m \u001b[0mlinalg\u001b[0m\u001b[1;33m.\u001b[0m\u001b[0mcho_solve\u001b[0m\u001b[1;33m(\u001b[0m\u001b[0mcf\u001b[0m\u001b[1;33m,\u001b[0m \u001b[0mnumpy\u001b[0m\u001b[1;33m.\u001b[0m\u001b[0midentity\u001b[0m\u001b[1;33m(\u001b[0m\u001b[0mself\u001b[0m\u001b[1;33m.\u001b[0m\u001b[0mcov_zz\u001b[0m\u001b[1;33m.\u001b[0m\u001b[0mshape\u001b[0m\u001b[1;33m[\u001b[0m\u001b[1;36m0\u001b[0m\u001b[1;33m]\u001b[0m\u001b[1;33m)\u001b[0m\u001b[1;33m)\u001b[0m\u001b[1;33m\u001b[0m\u001b[0m\n\u001b[0;32m    184\u001b[0m         \u001b[1;31m# inv_cov_zz = numpy.linalg.pinv(self.cov_zz)\u001b[0m\u001b[1;33m\u001b[0m\u001b[1;33m\u001b[0m\u001b[0m\n",
      "\u001b[1;32mC:\\ProgramData\\Anaconda3\\lib\\site-packages\\scipy\\linalg\\decomp_cholesky.py\u001b[0m in \u001b[0;36mcho_factor\u001b[1;34m(a, lower, overwrite_a, check_finite)\u001b[0m\n\u001b[0;32m    130\u001b[0m     \"\"\"\n\u001b[0;32m    131\u001b[0m     c, lower = _cholesky(a, lower=lower, overwrite_a=overwrite_a, clean=False,\n\u001b[1;32m--> 132\u001b[1;33m                             check_finite=check_finite)\n\u001b[0m\u001b[0;32m    133\u001b[0m     \u001b[1;32mreturn\u001b[0m \u001b[0mc\u001b[0m\u001b[1;33m,\u001b[0m \u001b[0mlower\u001b[0m\u001b[1;33m\u001b[0m\u001b[0m\n\u001b[0;32m    134\u001b[0m \u001b[1;33m\u001b[0m\u001b[0m\n",
      "\u001b[1;32mC:\\ProgramData\\Anaconda3\\lib\\site-packages\\scipy\\linalg\\decomp_cholesky.py\u001b[0m in \u001b[0;36m_cholesky\u001b[1;34m(a, lower, overwrite_a, clean, check_finite)\u001b[0m\n\u001b[0;32m     28\u001b[0m     \u001b[0mc\u001b[0m\u001b[1;33m,\u001b[0m \u001b[0minfo\u001b[0m \u001b[1;33m=\u001b[0m \u001b[0mpotrf\u001b[0m\u001b[1;33m(\u001b[0m\u001b[0ma1\u001b[0m\u001b[1;33m,\u001b[0m \u001b[0mlower\u001b[0m\u001b[1;33m=\u001b[0m\u001b[0mlower\u001b[0m\u001b[1;33m,\u001b[0m \u001b[0moverwrite_a\u001b[0m\u001b[1;33m=\u001b[0m\u001b[0moverwrite_a\u001b[0m\u001b[1;33m,\u001b[0m \u001b[0mclean\u001b[0m\u001b[1;33m=\u001b[0m\u001b[0mclean\u001b[0m\u001b[1;33m)\u001b[0m\u001b[1;33m\u001b[0m\u001b[0m\n\u001b[0;32m     29\u001b[0m     \u001b[1;32mif\u001b[0m \u001b[0minfo\u001b[0m \u001b[1;33m>\u001b[0m \u001b[1;36m0\u001b[0m\u001b[1;33m:\u001b[0m\u001b[1;33m\u001b[0m\u001b[0m\n\u001b[1;32m---> 30\u001b[1;33m         \u001b[1;32mraise\u001b[0m \u001b[0mLinAlgError\u001b[0m\u001b[1;33m(\u001b[0m\u001b[1;34m\"%d-th leading minor not positive definite\"\u001b[0m \u001b[1;33m%\u001b[0m \u001b[0minfo\u001b[0m\u001b[1;33m)\u001b[0m\u001b[1;33m\u001b[0m\u001b[0m\n\u001b[0m\u001b[0;32m     31\u001b[0m     \u001b[1;32mif\u001b[0m \u001b[0minfo\u001b[0m \u001b[1;33m<\u001b[0m \u001b[1;36m0\u001b[0m\u001b[1;33m:\u001b[0m\u001b[1;33m\u001b[0m\u001b[0m\n\u001b[0;32m     32\u001b[0m         raise ValueError('illegal value in %d-th argument of internal potrf'\n",
      "\u001b[1;31mLinAlgError\u001b[0m: 355-th leading minor not positive definite"
     ]
    }
   ],
   "source": [
    "nCol = 2\n",
    "time_step = pxl_scale/wind_speed # This is timestep, as one pixel added on each iteration\n",
    "\n",
    "print(\"Run tests\")\n",
    "z_coeffs_inf_a = numpy.zeros((n_tests, n_scrns, n_zerns))\n",
    "# fig = pyplot.figure()\n",
    "\n",
    "for n in tnrange(n_tests):\n",
    "    print(\"Init phase screen\")\n",
    "    phase_screen = infinitephasescreen.PhaseScreen(nx_size, pxl_scale, r0, L0, nCol=nCol)\n",
    "    for i in tnrange(n_scrns):\n",
    "        \n",
    "        # Go in all directions\n",
    "        phase_screen.addRow()\n",
    "        if n%4 == 0:\n",
    "            scrn = phase_screen.scrn\n",
    "        elif n%4 == 1:\n",
    "            scrn = phase_screen.scrn.T\n",
    "        elif n%4 == 2:\n",
    "            scrn = phase_screen.scrn[::-1]\n",
    "        else:\n",
    "            scrn = phase_screen.scrn[::-1].T\n",
    "            \n",
    "        z_coeffs_inf_a[n, i] = (scrn * Zs).sum((-1, -2))/(Zs[0].sum())\n",
    "    \n",
    "#         pyplot.cla()\n",
    "#         pyplot.imshow(scrn)\n",
    "#         fig.canvas.draw()\n",
    "    \n",
    "z_vars_inf_a = z_coeffs_inf_a.var(1)"
   ]
  },
  {
   "cell_type": "code",
   "execution_count": null,
   "metadata": {
    "collapsed": false,
    "deletable": true,
    "editable": true
   },
   "outputs": [],
   "source": [
    "pyplot.figure()\n",
    "pyplot.semilogy(z_vars_inf_a.T, alpha=0.2)\n",
    "pyplot.semilogy(z_vars_inf_a.mean(0), color=\"k\")\n",
    "pyplot.title(\"Zernike Power Spectrum\")\n",
    "pyplot.xlabel(\"Zernike Index\")\n",
    "pyplot.ylabel(\"Power ($\\mathrm{RMS Rad}^2$)\")"
   ]
  },
  {
   "cell_type": "markdown",
   "metadata": {
    "deletable": true,
    "editable": true
   },
   "source": [
    "# Test Assemat phase screen with new code"
   ]
  },
  {
   "cell_type": "code",
   "execution_count": null,
   "metadata": {
    "collapsed": false,
    "deletable": true,
    "editable": true,
    "scrolled": false
   },
   "outputs": [],
   "source": [
    "nCol = 2\n",
    "time_step = pxl_scale/wind_speed # This is timestep, as one pixel added on each iteration\n",
    "\n",
    "print(\"Run tests\")\n",
    "z_coeffs_inf_a2 = numpy.zeros((n_tests, n_scrns, n_zerns))\n",
    "# fig = pyplot.figure()\n",
    "\n",
    "for n in tnrange(n_tests):\n",
    "    print(\"Init phase screen\")\n",
    "    phase_screen = infinitephasescreen.PhaseScreen2(nx_size, pxl_scale, r0, L0, n_columns=nCol)\n",
    "    for i in tnrange(n_scrns):\n",
    "        \n",
    "        # Go in all directions\n",
    "        phase_screen.addRow()\n",
    "        if n%4 == 0:\n",
    "            scrn = phase_screen.scrn\n",
    "        elif n%4 == 1:\n",
    "            scrn = phase_screen.scrn.T\n",
    "        elif n%4 == 2:\n",
    "            scrn = phase_screen.scrn[::-1]\n",
    "        else:\n",
    "            scrn = phase_screen.scrn[::-1].T\n",
    "            \n",
    "        z_coeffs_inf_a2[n, i] = (scrn * Zs).sum((-1, -2))/(Zs[0].sum())\n",
    "    \n",
    "#         pyplot.cla()\n",
    "#         pyplot.imshow(scrn)\n",
    "#         fig.canvas.draw()\n",
    "    \n",
    "z_vars_inf_a2 = z_coeffs_inf_a2.var(1)"
   ]
  },
  {
   "cell_type": "code",
   "execution_count": null,
   "metadata": {
    "collapsed": false,
    "deletable": true,
    "editable": true
   },
   "outputs": [],
   "source": [
    "pyplot.figure()\n",
    "pyplot.semilogy(z_vars_inf_a.T, alpha=0.2)\n",
    "pyplot.semilogy(z_vars_inf_a.mean(0), color=\"k\")\n",
    "pyplot.title(\"Zernike Power Spectrum\")\n",
    "pyplot.xlabel(\"Zernike Index\")\n",
    "pyplot.ylabel(\"Power ($\\mathrm{RMS Rad}^2$)\")"
   ]
  },
  {
   "cell_type": "code",
   "execution_count": null,
   "metadata": {
    "collapsed": false,
    "deletable": true,
    "editable": true
   },
   "outputs": [],
   "source": [
    "pyplot.figure()\n",
    "pyplot.imshow(phase_screen.B_mat)\n",
    "pyplot.colorbar()"
   ]
  },
  {
   "cell_type": "code",
   "execution_count": null,
   "metadata": {
    "collapsed": false,
    "deletable": true,
    "editable": true
   },
   "outputs": [],
   "source": [
    "pyplot.figure()\n",
    "pyplot.imshow(phase_screen.A_mat)\n",
    "pyplot.colorbar()"
   ]
  },
  {
   "cell_type": "code",
   "execution_count": null,
   "metadata": {
    "collapsed": false,
    "deletable": true,
    "editable": true
   },
   "outputs": [],
   "source": [
    "pyplot.figure()\n",
    "pyplot.imshow(phase_screen.cov_mat_zz)\n",
    "pyplot.colorbar()"
   ]
  },
  {
   "cell_type": "markdown",
   "metadata": {
    "deletable": true,
    "editable": true
   },
   "source": [
    "# Zernike breakdown of standard FFT screen"
   ]
  },
  {
   "cell_type": "code",
   "execution_count": null,
   "metadata": {
    "collapsed": false,
    "deletable": true,
    "editable": true
   },
   "outputs": [],
   "source": [
    "total_scrn_size = stencil_length_factor * nx_size\n",
    "print(\"Total Screen Size: {}\".format(total_scrn_size))\n",
    "\n",
    "time_step = pxl_scale/wind_speed # This is timestep, as one pixel added on each iteration\n",
    "print(\"Time step: {}s\".format(time_step))\n",
    "\n",
    "n_scrns = total_scrn_size - nx_size\n",
    "\n",
    "z_coeffs_fft = numpy.zeros((n_tests, n_scrns, n_zerns))\n",
    "z_vars_fft = numpy.zeros((n_tests, n_zerns))\n",
    "for n in tnrange(n_tests):\n",
    "    print(\"Make large phase screen...\")\n",
    "    phase_screen = phasescreen.ft_phase_screen(r0, total_scrn_size, pxl_scale, L0, 0.01)[:, :nx_size]\n",
    "\n",
    "    print(\"Get Zernike Coeffs\")\n",
    "#     fig = pyplot.figure()\n",
    "    for i in tnrange(n_scrns):\n",
    "        scrn = phase_screen[i:i+nx_size]\n",
    "        \n",
    "        if n%4 == 0:\n",
    "            scrn = scrn\n",
    "        elif n%4 == 1:\n",
    "            scrn = scrn.T\n",
    "        elif n%4 == 2:\n",
    "            scrn = scrn[::-1]\n",
    "        else:\n",
    "            scrn = scrn[::-1].T\n",
    "        \n",
    "#         pyplot.cla()\n",
    "#         pyplot.imshow(scrn)\n",
    "#         fig.canvas.draw()\n",
    "        z_coeffs_fft[n, i] = (scrn * Zs).sum((-1, -2))/(Zs[0].sum())\n",
    "\n",
    "    z_vars_fft[n] = z_coeffs_fft[n].var(0)"
   ]
  },
  {
   "cell_type": "code",
   "execution_count": null,
   "metadata": {
    "collapsed": false,
    "deletable": true,
    "editable": true
   },
   "outputs": [],
   "source": [
    "pyplot.figure()\n",
    "pyplot.semilogy(z_vars_fft.T, alpha=0.2)\n",
    "pyplot.semilogy(z_vars_fft.mean(0), color=\"k\")\n",
    "pyplot.title(\"Zernike Power Spectrum\")\n",
    "pyplot.xlabel(\"Zernike Index\")\n",
    "pyplot.ylabel(\"Power ($\\mathrm{RMS Rad}^2$)\")"
   ]
  },
  {
   "cell_type": "code",
   "execution_count": null,
   "metadata": {
    "collapsed": false,
    "deletable": true,
    "editable": true
   },
   "outputs": [],
   "source": [
    "pyplot.figure()\n",
    "plot_zs = [1, 6,59]\n",
    "for i, z in enumerate(plot_zs):\n",
    "    print(\"plot Z{}\".format(z))\n",
    "    zn_coeffs = z_coeffs_fft.mean(0)[:, z]\n",
    "    z_ps = abs(numpy.fft.fft(zn_coeffs))**2\n",
    "    x_vals = numpy.fft.fftfreq(len(z_ps), d=time_step)\n",
    "    pyplot.loglog(x_vals[:n_scrns//2], z_ps[:n_scrns//2], label=\"Z_{}\".format(z))\n",
    "    pyplot.xlabel(\"Frequency (Hz)\")\n",
    "    pyplot.ylabel(\"Power ($\\mathrm{Rad RMS}^2$)\")\n",
    "    pyplot.grid()\n",
    "pyplot.legend()"
   ]
  },
  {
   "cell_type": "code",
   "execution_count": null,
   "metadata": {
    "collapsed": false,
    "deletable": true,
    "editable": true,
    "scrolled": false
   },
   "outputs": [],
   "source": [
    "pyplot.figure()\n",
    "pyplot.semilogy(z_vars_inf_f.mean(0), label=\"Fried Infinite\")\n",
    "pyplot.semilogy(z_vars_inf_a.mean(0), label=\"Assemat Infinite\")\n",
    "pyplot.semilogy(z_vars_inf_a2.mean(0), label=\"New Assemat Infinite\")\n",
    "\n",
    "pyplot.semilogy(z_vars_fft.mean(0), label=\"fft\")\n",
    "pyplot.semilogy(range(1, n_zerns+1), noll[:n_zerns] , label=\"noll\", color=\"k\") \n",
    "pyplot.title(\"Zernike Power Spectrum\")\n",
    "pyplot.xlabel(\"Zernike Index\")\n",
    "pyplot.ylabel(\"Power ($\\mathrm{RMS Rad}^2$)\")\n",
    "pyplot.legend()"
   ]
  },
  {
   "cell_type": "code",
   "execution_count": null,
   "metadata": {
    "collapsed": false,
    "deletable": true,
    "editable": true
   },
   "outputs": [],
   "source": []
  },
  {
   "cell_type": "code",
   "execution_count": null,
   "metadata": {
    "collapsed": false,
    "deletable": true,
    "editable": true
   },
   "outputs": [],
   "source": []
  },
  {
   "cell_type": "code",
   "execution_count": null,
   "metadata": {
    "collapsed": true,
    "deletable": true,
    "editable": true
   },
   "outputs": [],
   "source": []
  },
  {
   "cell_type": "code",
   "execution_count": null,
   "metadata": {
    "collapsed": true
   },
   "outputs": [],
   "source": []
  },
  {
   "cell_type": "code",
   "execution_count": null,
   "metadata": {
    "collapsed": true
   },
   "outputs": [],
   "source": []
  }
 ],
 "metadata": {
  "kernelspec": {
   "display_name": "Python 3",
   "language": "python",
   "name": "python3"
  },
  "language_info": {
   "codemirror_mode": {
    "name": "ipython",
    "version": 3
   },
   "file_extension": ".py",
   "mimetype": "text/x-python",
   "name": "python",
   "nbconvert_exporter": "python",
   "pygments_lexer": "ipython3",
   "version": "3.6.1"
  },
  "widgets": {
   "state": {
    "032a1e0cad22444f9f365cf2c566e2fc": {
     "views": [
      {
       "cell_index": 14
      }
     ]
    },
    "0b902c59a12843619dc5c76154695696": {
     "views": [
      {
       "cell_index": 4
      }
     ]
    },
    "121e3bc829424b8eaa18100ce1b30426": {
     "views": [
      {
       "cell_index": 11
      }
     ]
    },
    "176b6a0d8f5a4b8a9a6fb3970367febc": {
     "views": [
      {
       "cell_index": 14
      }
     ]
    },
    "183a8a61d9ee43eeb39d1fad69d68704": {
     "views": [
      {
       "cell_index": 4
      }
     ]
    },
    "1da4765c06a84f458a5785628e8ab877": {
     "views": [
      {
       "cell_index": 11
      }
     ]
    },
    "1ea1999a067e4e0694f4dd0e25f3d944": {
     "views": [
      {
       "cell_index": 4
      }
     ]
    },
    "214301755a474cae9f9866e9d6443b8a": {
     "views": [
      {
       "cell_index": 11
      }
     ]
    },
    "21e7fdb22ea6420499e36ac64cbe18ef": {
     "views": [
      {
       "cell_index": 11
      }
     ]
    },
    "241aca68555f490c9f408fd52e29138c": {
     "views": [
      {
       "cell_index": 8
      }
     ]
    },
    "2adb6362238c445794064af1d0ff8a3e": {
     "views": [
      {
       "cell_index": 4
      }
     ]
    },
    "30029b7bc6934109be4b88149ddc4aa6": {
     "views": [
      {
       "cell_index": 8
      }
     ]
    },
    "3125fcfe03214f61a3ae8e4cd85f181e": {
     "views": [
      {
       "cell_index": 8
      }
     ]
    },
    "3b0a5e2e080946209fe58ba111f1b4b9": {
     "views": [
      {
       "cell_index": 14
      }
     ]
    },
    "3b7c8be9a914439da83daff37906304a": {
     "views": [
      {
       "cell_index": 14
      }
     ]
    },
    "3d976ce8b9c640fe8d87448e7501b89a": {
     "views": [
      {
       "cell_index": 8
      }
     ]
    },
    "3f166f44fb2247cb9731db23bd79f3db": {
     "views": [
      {
       "cell_index": 8
      }
     ]
    },
    "41e22b3c465a4c77afefe3d5e9bafe1c": {
     "views": [
      {
       "cell_index": 14
      }
     ]
    },
    "4256d9d41b244a22af16cc7aec7628f0": {
     "views": [
      {
       "cell_index": 4
      }
     ]
    },
    "43f055e958544556ba23ff3fc07f664f": {
     "views": [
      {
       "cell_index": 4
      }
     ]
    },
    "4508c0efed60478d8c6cccf7bd40d3bf": {
     "views": [
      {
       "cell_index": 14
      }
     ]
    },
    "48ce20e3b0ce43b3a127b1c39d840c92": {
     "views": [
      {
       "cell_index": 8
      }
     ]
    },
    "604d3e10a2b84936b1d68ad243a50f14": {
     "views": [
      {
       "cell_index": 11
      }
     ]
    },
    "617723e2a01d482d8dad88a5ff8deff7": {
     "views": [
      {
       "cell_index": 8
      }
     ]
    },
    "6425190bb97d43a693227ca2074e57a2": {
     "views": [
      {
       "cell_index": 4
      }
     ]
    },
    "65ed7fcf6b6e4cddbc3cb7ba5c10cce9": {
     "views": [
      {
       "cell_index": 14
      }
     ]
    },
    "662afe4ad1f7453997aa6f85e9ec8e99": {
     "views": [
      {
       "cell_index": 8
      }
     ]
    },
    "6635d76ed1f641c0bbf3866f382c942c": {
     "views": [
      {
       "cell_index": 11
      }
     ]
    },
    "6b6adc4d5cf84ec184bb4951690d48d1": {
     "views": [
      {
       "cell_index": 11
      }
     ]
    },
    "6fe9fc9ec6934656a2fd1a391542d788": {
     "views": [
      {
       "cell_index": 4
      }
     ]
    },
    "77d4cc3e4e2443f185f5ce1e89e256ef": {
     "views": [
      {
       "cell_index": 11
      }
     ]
    },
    "79c59a8637fa429698228c78e0141818": {
     "views": [
      {
       "cell_index": 4
      }
     ]
    },
    "7e1d12fa72da4e5cad13446ec2429223": {
     "views": [
      {
       "cell_index": 11
      }
     ]
    },
    "893b4de7ff2b45868d24008331e27fa7": {
     "views": [
      {
       "cell_index": 4
      }
     ]
    },
    "89bda1eb7ba545e88ed545d18aa1e91e": {
     "views": [
      {
       "cell_index": 11
      }
     ]
    },
    "8acff852a1fe4dbb8dd568b702ff9a15": {
     "views": [
      {
       "cell_index": 14
      }
     ]
    },
    "8b066eea6a9942c4b23f6413da65a9a6": {
     "views": [
      {
       "cell_index": 11
      }
     ]
    },
    "8c0b1e91c5134c9b94af9e1c27c8ae4b": {
     "views": [
      {
       "cell_index": 14
      }
     ]
    },
    "903302b7df944565bbaf30d614cb8919": {
     "views": [
      {
       "cell_index": 4
      }
     ]
    },
    "93117d627e32446ab607605a6bbe6a4d": {
     "views": [
      {
       "cell_index": 14
      }
     ]
    },
    "9660514ac3bf45da9f2609aa3091d80f": {
     "views": [
      {
       "cell_index": 4
      }
     ]
    },
    "9698852c5a51416ba64af8f30b442e37": {
     "views": [
      {
       "cell_index": 11
      }
     ]
    },
    "a07bf51e000a4de6b58f77d44e8503f6": {
     "views": [
      {
       "cell_index": 14
      }
     ]
    },
    "a6cb183feccc45fabca9e76a5af0ecbf": {
     "views": [
      {
       "cell_index": 4
      }
     ]
    },
    "a8170ad3030b45b3b852317498ae0b6e": {
     "views": [
      {
       "cell_index": 11
      }
     ]
    },
    "af883a0525be43b3a8e81734577f2878": {
     "views": [
      {
       "cell_index": 14
      }
     ]
    },
    "b791f693ffd048a4a6bd1b1f56e2c222": {
     "views": [
      {
       "cell_index": 8
      }
     ]
    },
    "b7ebee31ba2147ffa5d43141bd19acf3": {
     "views": [
      {
       "cell_index": 4
      }
     ]
    },
    "bd0e49e3a1344f72aea1e73f4353e76d": {
     "views": [
      {
       "cell_index": 4
      }
     ]
    },
    "c0be3d38636b499096c09cbe01b2949c": {
     "views": [
      {
       "cell_index": 4
      }
     ]
    },
    "c392675d1925401eb74f3f29b9b9884b": {
     "views": [
      {
       "cell_index": 8
      }
     ]
    },
    "c3a0ca0023754a3aa9eba29f5432db74": {
     "views": [
      {
       "cell_index": 11
      }
     ]
    },
    "c7d939eee0094d67abc76f75550e64ec": {
     "views": [
      {
       "cell_index": 8
      }
     ]
    },
    "cb54b941cc3842ec9815e39741cb34a2": {
     "views": [
      {
       "cell_index": 8
      }
     ]
    },
    "db55349b77a54ba49a7b28c8e505aeee": {
     "views": [
      {
       "cell_index": 8
      }
     ]
    },
    "de9ab00322c94cbdb9c71736cf16262d": {
     "views": [
      {
       "cell_index": 8
      }
     ]
    },
    "e4ccd1fa4431475f80e85cc5421d7977": {
     "views": [
      {
       "cell_index": 14
      }
     ]
    },
    "ea3a7a59194340048f64f4a1d108dc34": {
     "views": [
      {
       "cell_index": 14
      }
     ]
    },
    "ebacff1e0f75484489458b0a5563e2b7": {
     "views": [
      {
       "cell_index": 11
      }
     ]
    },
    "ebb2f88fa1454b1c822e4cf07a1bdaef": {
     "views": [
      {
       "cell_index": 4
      }
     ]
    },
    "ec527461aca64b9f89bd6721d81db527": {
     "views": [
      {
       "cell_index": 14
      }
     ]
    },
    "f0e53d233f7b470faa01d62583e04160": {
     "views": [
      {
       "cell_index": 14
      }
     ]
    },
    "f3027031837a4b3caefdda085dd40bf9": {
     "views": [
      {
       "cell_index": 11
      }
     ]
    },
    "f670193002d24aedbf206c7087e9f6e8": {
     "views": [
      {
       "cell_index": 11
      }
     ]
    },
    "f8dbcb0192fb4f32a760292e5bf93649": {
     "views": [
      {
       "cell_index": 8
      }
     ]
    },
    "f8f1b9465838432984dedb7f36dbb75b": {
     "views": [
      {
       "cell_index": 8
      }
     ]
    },
    "faf29f20be5e440abc4496068bb0303a": {
     "views": [
      {
       "cell_index": 8
      }
     ]
    },
    "fc862c2668f4457ca796d4d24a7c9978": {
     "views": [
      {
       "cell_index": 14
      }
     ]
    }
   },
   "version": "1.2.0"
  }
 },
 "nbformat": 4,
 "nbformat_minor": 2
}
